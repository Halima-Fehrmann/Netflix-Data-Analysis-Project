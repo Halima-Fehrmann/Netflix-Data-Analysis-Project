{
 "cells": [
  {
   "cell_type": "markdown",
   "id": "c397e613",
   "metadata": {},
   "source": [
    "# Netflix Dataset  "
   ]
  },
  {
   "cell_type": "markdown",
   "id": "4e4ef12e",
   "metadata": {},
   "source": [
    "The Dataset explores different attributes of TV shows and movies streamed on the Netflix platform worldwide. Attributes include; title, director, country, ratings, genre, release year, duration and data added to neflix streaming platform.\n",
    "\n",
    "The aim of this project is to gain insights and to ascertain how Netflix could maximise its content delivery globally, based on these different attributes. These insights may be used to increase Netflix subscribers and increase customer satisfaction.  "
   ]
  },
  {
   "cell_type": "code",
   "execution_count": 1,
   "id": "e7f80a7c",
   "metadata": {},
   "outputs": [],
   "source": [
    "import numpy as np\n",
    "import pandas as pd\n",
    "import matplotlib.pyplot as plt\n",
    "import seaborn as sns\n",
    "sns.set(palette='deep')#set theme, default palette is 'deep' \n",
    "\n",
    "%matplotlib inline\n",
    "plt.rcParams['figure.figsize'] = (12,8) #configure the size of the plots we will create \n",
    "\n",
    "from matplotlib.axes._axes import _log as matplotlib_axes_logger\n",
    "matplotlib_axes_logger.setLevel('ERROR')\n",
    "#set error reduction, when you use matplotlip with seaborn"
   ]
  },
  {
   "cell_type": "code",
   "execution_count": 2,
   "id": "abb397ef",
   "metadata": {},
   "outputs": [],
   "source": [
    "# read the data and assign to a dataframe\n",
    "\n",
    "df = pd.read_csv('data/Netflix.csv')"
   ]
  },
  {
   "cell_type": "markdown",
   "id": "359733a3",
   "metadata": {},
   "source": [
    "# Exploratory Data Analysis (EDA) with Visualisations. "
   ]
  },
  {
   "cell_type": "code",
   "execution_count": 3,
   "id": "796263a5",
   "metadata": {},
   "outputs": [
    {
     "data": {
      "text/html": [
       "<div>\n",
       "<style scoped>\n",
       "    .dataframe tbody tr th:only-of-type {\n",
       "        vertical-align: middle;\n",
       "    }\n",
       "\n",
       "    .dataframe tbody tr th {\n",
       "        vertical-align: top;\n",
       "    }\n",
       "\n",
       "    .dataframe thead th {\n",
       "        text-align: right;\n",
       "    }\n",
       "</style>\n",
       "<table border=\"1\" class=\"dataframe\">\n",
       "  <thead>\n",
       "    <tr style=\"text-align: right;\">\n",
       "      <th></th>\n",
       "      <th>show_id</th>\n",
       "      <th>type</th>\n",
       "      <th>title</th>\n",
       "      <th>director</th>\n",
       "      <th>country</th>\n",
       "      <th>date_added</th>\n",
       "      <th>release_year</th>\n",
       "      <th>rating</th>\n",
       "      <th>duration</th>\n",
       "      <th>listed_in</th>\n",
       "    </tr>\n",
       "  </thead>\n",
       "  <tbody>\n",
       "    <tr>\n",
       "      <th>0</th>\n",
       "      <td>s1</td>\n",
       "      <td>Movie</td>\n",
       "      <td>Dick Johnson Is Dead</td>\n",
       "      <td>Kirsten Johnson</td>\n",
       "      <td>United States</td>\n",
       "      <td>9/25/2021</td>\n",
       "      <td>2020</td>\n",
       "      <td>PG-13</td>\n",
       "      <td>90 min</td>\n",
       "      <td>Documentaries</td>\n",
       "    </tr>\n",
       "    <tr>\n",
       "      <th>1</th>\n",
       "      <td>s3</td>\n",
       "      <td>TV Show</td>\n",
       "      <td>Ganglands</td>\n",
       "      <td>Julien Leclercq</td>\n",
       "      <td>France</td>\n",
       "      <td>9/24/2021</td>\n",
       "      <td>2021</td>\n",
       "      <td>TV-MA</td>\n",
       "      <td>1 Season</td>\n",
       "      <td>Crime TV Shows, International TV Shows, TV Act...</td>\n",
       "    </tr>\n",
       "    <tr>\n",
       "      <th>2</th>\n",
       "      <td>s6</td>\n",
       "      <td>TV Show</td>\n",
       "      <td>Midnight Mass</td>\n",
       "      <td>Mike Flanagan</td>\n",
       "      <td>United States</td>\n",
       "      <td>9/24/2021</td>\n",
       "      <td>2021</td>\n",
       "      <td>TV-MA</td>\n",
       "      <td>1 Season</td>\n",
       "      <td>TV Dramas, TV Horror, TV Mysteries</td>\n",
       "    </tr>\n",
       "  </tbody>\n",
       "</table>\n",
       "</div>"
      ],
      "text/plain": [
       "  show_id     type                 title         director        country  \\\n",
       "0      s1    Movie  Dick Johnson Is Dead  Kirsten Johnson  United States   \n",
       "1      s3  TV Show             Ganglands  Julien Leclercq         France   \n",
       "2      s6  TV Show         Midnight Mass    Mike Flanagan  United States   \n",
       "\n",
       "  date_added  release_year rating  duration  \\\n",
       "0  9/25/2021          2020  PG-13    90 min   \n",
       "1  9/24/2021          2021  TV-MA  1 Season   \n",
       "2  9/24/2021          2021  TV-MA  1 Season   \n",
       "\n",
       "                                           listed_in  \n",
       "0                                      Documentaries  \n",
       "1  Crime TV Shows, International TV Shows, TV Act...  \n",
       "2                 TV Dramas, TV Horror, TV Mysteries  "
      ]
     },
     "execution_count": 3,
     "metadata": {},
     "output_type": "execute_result"
    }
   ],
   "source": [
    "# first three rows of the dataframe\n",
    "\n",
    "df.head(3)"
   ]
  },
  {
   "cell_type": "code",
   "execution_count": 4,
   "id": "4ad40d5b",
   "metadata": {},
   "outputs": [
    {
     "data": {
      "text/html": [
       "<div>\n",
       "<style scoped>\n",
       "    .dataframe tbody tr th:only-of-type {\n",
       "        vertical-align: middle;\n",
       "    }\n",
       "\n",
       "    .dataframe tbody tr th {\n",
       "        vertical-align: top;\n",
       "    }\n",
       "\n",
       "    .dataframe thead th {\n",
       "        text-align: right;\n",
       "    }\n",
       "</style>\n",
       "<table border=\"1\" class=\"dataframe\">\n",
       "  <thead>\n",
       "    <tr style=\"text-align: right;\">\n",
       "      <th></th>\n",
       "      <th>show_id</th>\n",
       "      <th>type</th>\n",
       "      <th>title</th>\n",
       "      <th>director</th>\n",
       "      <th>country</th>\n",
       "      <th>date_added</th>\n",
       "      <th>release_year</th>\n",
       "      <th>rating</th>\n",
       "      <th>duration</th>\n",
       "      <th>listed_in</th>\n",
       "    </tr>\n",
       "  </thead>\n",
       "  <tbody>\n",
       "    <tr>\n",
       "      <th>8787</th>\n",
       "      <td>s8801</td>\n",
       "      <td>TV Show</td>\n",
       "      <td>Zindagi Gulzar Hai</td>\n",
       "      <td>Not Given</td>\n",
       "      <td>Pakistan</td>\n",
       "      <td>12/15/2016</td>\n",
       "      <td>2012</td>\n",
       "      <td>TV-PG</td>\n",
       "      <td>1 Season</td>\n",
       "      <td>International TV Shows, Romantic TV Shows, TV ...</td>\n",
       "    </tr>\n",
       "    <tr>\n",
       "      <th>8788</th>\n",
       "      <td>s8784</td>\n",
       "      <td>TV Show</td>\n",
       "      <td>Yoko</td>\n",
       "      <td>Not Given</td>\n",
       "      <td>Pakistan</td>\n",
       "      <td>6/23/2018</td>\n",
       "      <td>2016</td>\n",
       "      <td>TV-Y</td>\n",
       "      <td>1 Season</td>\n",
       "      <td>Kids' TV</td>\n",
       "    </tr>\n",
       "    <tr>\n",
       "      <th>8789</th>\n",
       "      <td>s8786</td>\n",
       "      <td>TV Show</td>\n",
       "      <td>YOM</td>\n",
       "      <td>Not Given</td>\n",
       "      <td>Pakistan</td>\n",
       "      <td>06/07/2018</td>\n",
       "      <td>2016</td>\n",
       "      <td>TV-Y7</td>\n",
       "      <td>1 Season</td>\n",
       "      <td>Kids' TV</td>\n",
       "    </tr>\n",
       "  </tbody>\n",
       "</table>\n",
       "</div>"
      ],
      "text/plain": [
       "     show_id     type               title   director   country  date_added  \\\n",
       "8787   s8801  TV Show  Zindagi Gulzar Hai  Not Given  Pakistan  12/15/2016   \n",
       "8788   s8784  TV Show                Yoko  Not Given  Pakistan   6/23/2018   \n",
       "8789   s8786  TV Show                 YOM  Not Given  Pakistan  06/07/2018   \n",
       "\n",
       "      release_year rating  duration  \\\n",
       "8787          2012  TV-PG  1 Season   \n",
       "8788          2016   TV-Y  1 Season   \n",
       "8789          2016  TV-Y7  1 Season   \n",
       "\n",
       "                                              listed_in  \n",
       "8787  International TV Shows, Romantic TV Shows, TV ...  \n",
       "8788                                           Kids' TV  \n",
       "8789                                           Kids' TV  "
      ]
     },
     "execution_count": 4,
     "metadata": {},
     "output_type": "execute_result"
    }
   ],
   "source": [
    "# last three rows of the dataframe\n",
    "\n",
    "df.tail(3)"
   ]
  },
  {
   "cell_type": "code",
   "execution_count": 5,
   "id": "c5ebc3f2",
   "metadata": {},
   "outputs": [
    {
     "name": "stdout",
     "output_type": "stream",
     "text": [
      "<class 'pandas.core.frame.DataFrame'>\n",
      "RangeIndex: 8790 entries, 0 to 8789\n",
      "Data columns (total 10 columns):\n",
      " #   Column        Non-Null Count  Dtype \n",
      "---  ------        --------------  ----- \n",
      " 0   show_id       8790 non-null   object\n",
      " 1   type          8790 non-null   object\n",
      " 2   title         8790 non-null   object\n",
      " 3   director      8790 non-null   object\n",
      " 4   country       8790 non-null   object\n",
      " 5   date_added    8790 non-null   object\n",
      " 6   release_year  8790 non-null   int64 \n",
      " 7   rating        8790 non-null   object\n",
      " 8   duration      8790 non-null   object\n",
      " 9   listed_in     8790 non-null   object\n",
      "dtypes: int64(1), object(9)\n",
      "memory usage: 686.8+ KB\n"
     ]
    }
   ],
   "source": [
    "# extract: total entries (rows) & columns, column names, no. of non-null and data types in columns and memory\n",
    "\n",
    "df.info()"
   ]
  },
  {
   "cell_type": "markdown",
   "id": "d1aa9e52",
   "metadata": {},
   "source": [
    "The dataset contains 8790 entries/rows and 12 columns. The data types are primarily object types, therefore contain strings.  There are no null values, however, this will need to be verified upon exploration of the dataset.   "
   ]
  },
  {
   "cell_type": "code",
   "execution_count": 6,
   "id": "bae53589",
   "metadata": {},
   "outputs": [
    {
     "data": {
      "text/plain": [
       "(8790, 10)"
      ]
     },
     "execution_count": 6,
     "metadata": {},
     "output_type": "execute_result"
    }
   ],
   "source": [
    "#no. of rows and columns\n",
    "\n",
    "df.shape"
   ]
  },
  {
   "cell_type": "code",
   "execution_count": 7,
   "id": "6303ddc1",
   "metadata": {},
   "outputs": [
    {
     "data": {
      "text/plain": [
       "Index(['show_id', 'type', 'title', 'director', 'country', 'date_added',\n",
       "       'release_year', 'rating', 'duration', 'listed_in'],\n",
       "      dtype='object')"
      ]
     },
     "execution_count": 7,
     "metadata": {},
     "output_type": "execute_result"
    }
   ],
   "source": [
    "# columns in the dataframe\n",
    "\n",
    "df.columns"
   ]
  },
  {
   "cell_type": "markdown",
   "id": "ed040bc4",
   "metadata": {},
   "source": [
    "# Description of columns\n",
    "\n"
   ]
  },
  {
   "cell_type": "markdown",
   "id": "41387503",
   "metadata": {},
   "source": [
    "1. show_id - Unique identifier for each movie/tv show.\n",
    "2. type - Type of content such as movie or TV show.\n",
    "3. title - Title of movie or tv show.\n",
    "4. director - Director of movie or tv show.\n",
    "5. country - The country where the movie or TV show was produced.\n",
    "6. date_added - The date when the content was added to Netflix streaming platform.\n",
    "7. release_year - The year the movie or TV show was originally released.\n",
    "8. rating - The content's rating - indicates the recommended audience age or maturity level (e.g., PG-13).\n",
    "9. Duration - The duration of the movie or TV show (minutes/seasons)\n",
    "10. listed_in - Classification of content into categories "
   ]
  },
  {
   "cell_type": "markdown",
   "id": "48411619",
   "metadata": {},
   "source": [
    "# Initial Observations\n"
   ]
  },
  {
   "cell_type": "markdown",
   "id": "0ae60be3",
   "metadata": {},
   "source": [
    "# How many Null values are in the data set?"
   ]
  },
  {
   "cell_type": "code",
   "execution_count": 8,
   "id": "1e626d49",
   "metadata": {},
   "outputs": [
    {
     "name": "stdout",
     "output_type": "stream",
     "text": [
      "show_id - 0\n",
      "type - 0\n",
      "title - 0\n",
      "director - 0\n",
      "country - 0\n",
      "date_added - 0\n",
      "release_year - 0\n",
      "rating - 0\n",
      "duration - 0\n",
      "listed_in - 0\n"
     ]
    }
   ],
   "source": [
    "# how many null values in the data set?\n",
    "\n",
    "# iterate through every row in each column, and check for null values using .isnull() method\n",
    "# print each column name and the number of null values using .format() method.\n",
    "\n",
    "for col in df.columns:\n",
    "    null_values = df[col].isnull().sum()\n",
    "    \n",
    "    print('{} - {}'.format(col, null_values))\n",
    "\n",
    "# alternatively we could use: df.isnull().sum()\n"
   ]
  },
  {
   "cell_type": "markdown",
   "id": "9d22e490",
   "metadata": {},
   "source": [
    "- Although none of the columns show null values, we can see there is missing data in the 'director' column, this is specified as 'Not Given'. It would be worth exploring all the columns to check for  more missing data. \n"
   ]
  },
  {
   "cell_type": "markdown",
   "id": "1e427d68",
   "metadata": {},
   "source": [
    "# \"show_id\" column"
   ]
  },
  {
   "cell_type": "code",
   "execution_count": 9,
   "id": "db45b0d5",
   "metadata": {},
   "outputs": [
    {
     "data": {
      "text/plain": [
       "s    8790\n",
       "Name: show_id, dtype: int64"
      ]
     },
     "execution_count": 9,
     "metadata": {},
     "output_type": "execute_result"
    }
   ],
   "source": [
    "# index into the first value in the show_id rows to check whether id values begin with 's'.\n",
    "\n",
    "df['show_id'].str[0].value_counts()"
   ]
  },
  {
   "cell_type": "markdown",
   "id": "369adba3",
   "metadata": {},
   "source": [
    "- It looks like the \"show_id\" begins with the letter \"s\". We could set the show_id as the index. "
   ]
  },
  {
   "cell_type": "code",
   "execution_count": 10,
   "id": "f3e01130",
   "metadata": {},
   "outputs": [
    {
     "data": {
      "text/html": [
       "<div>\n",
       "<style scoped>\n",
       "    .dataframe tbody tr th:only-of-type {\n",
       "        vertical-align: middle;\n",
       "    }\n",
       "\n",
       "    .dataframe tbody tr th {\n",
       "        vertical-align: top;\n",
       "    }\n",
       "\n",
       "    .dataframe thead th {\n",
       "        text-align: right;\n",
       "    }\n",
       "</style>\n",
       "<table border=\"1\" class=\"dataframe\">\n",
       "  <thead>\n",
       "    <tr style=\"text-align: right;\">\n",
       "      <th></th>\n",
       "      <th>show_id</th>\n",
       "      <th>type</th>\n",
       "      <th>title</th>\n",
       "      <th>director</th>\n",
       "      <th>country</th>\n",
       "      <th>date_added</th>\n",
       "      <th>release_year</th>\n",
       "      <th>rating</th>\n",
       "      <th>duration</th>\n",
       "      <th>listed_in</th>\n",
       "    </tr>\n",
       "  </thead>\n",
       "  <tbody>\n",
       "  </tbody>\n",
       "</table>\n",
       "</div>"
      ],
      "text/plain": [
       "Empty DataFrame\n",
       "Columns: [show_id, type, title, director, country, date_added, release_year, rating, duration, listed_in]\n",
       "Index: []"
      ]
     },
     "execution_count": 10,
     "metadata": {},
     "output_type": "execute_result"
    }
   ],
   "source": [
    "# Check if any ids do not contain numbers.\n",
    "\n",
    "df[df['show_id'] == 's']"
   ]
  },
  {
   "cell_type": "markdown",
   "id": "5b5dab3d",
   "metadata": {},
   "source": [
    "# \"type\" column"
   ]
  },
  {
   "cell_type": "code",
   "execution_count": 11,
   "id": "db2a96cd",
   "metadata": {},
   "outputs": [
    {
     "data": {
      "text/plain": [
       "8790"
      ]
     },
     "execution_count": 11,
     "metadata": {},
     "output_type": "execute_result"
    }
   ],
   "source": [
    "# There are no missing values \n",
    "\n",
    "df['type'].count()"
   ]
  },
  {
   "cell_type": "code",
   "execution_count": 12,
   "id": "edb466c5",
   "metadata": {},
   "outputs": [
    {
     "data": {
      "text/plain": [
       "array(['Movie', 'TV Show'], dtype=object)"
      ]
     },
     "execution_count": 12,
     "metadata": {},
     "output_type": "execute_result"
    }
   ],
   "source": [
    "# Index into column and show unique values \n",
    "\n",
    "df['type'].unique()"
   ]
  },
  {
   "cell_type": "code",
   "execution_count": 13,
   "id": "df56694b",
   "metadata": {},
   "outputs": [
    {
     "data": {
      "text/plain": [
       "Movie      6126\n",
       "TV Show    2664\n",
       "Name: type, dtype: int64"
      ]
     },
     "execution_count": 13,
     "metadata": {},
     "output_type": "execute_result"
    }
   ],
   "source": [
    "# Show the frequency of content types, i.e, ratio of movies to tv shows using value_counts\n",
    "# This also confirms there are no null values in this column\n",
    "\n",
    "df['type'].value_counts()"
   ]
  },
  {
   "cell_type": "code",
   "execution_count": 14,
   "id": "23ee4296",
   "metadata": {},
   "outputs": [
    {
     "data": {
      "text/plain": [
       "69.69"
      ]
     },
     "execution_count": 14,
     "metadata": {},
     "output_type": "execute_result"
    }
   ],
   "source": [
    "# percentage of movies = no.of movies / length of df * 100. Values are then rounded \n",
    "\n",
    "percentage_movies  = round(len(df[df['type'] == 'Movie']) / len(df) *100, 2)\n",
    "percentage_movies"
   ]
  },
  {
   "cell_type": "markdown",
   "id": "9129b37c",
   "metadata": {},
   "source": [
    "- The type of content is either 'TV show' or 'Movie'. We can split categorical data and perform analysis of both movies and TV shows. \n",
    "\n",
    "- 69.69% of the content type in the Netflix dataset are movies. "
   ]
  },
  {
   "cell_type": "markdown",
   "id": "668ae89f",
   "metadata": {},
   "source": [
    "# 'title' column"
   ]
  },
  {
   "cell_type": "code",
   "execution_count": 15,
   "id": "0ef34485",
   "metadata": {},
   "outputs": [
    {
     "data": {
      "text/plain": [
       "8787"
      ]
     },
     "execution_count": 15,
     "metadata": {},
     "output_type": "execute_result"
    }
   ],
   "source": [
    "# There are 3 titles that are duplicated (8790-8787).\n",
    "\n",
    "df['title'].nunique()"
   ]
  },
  {
   "cell_type": "code",
   "execution_count": 16,
   "id": "0a7744e9",
   "metadata": {},
   "outputs": [
    {
     "data": {
      "text/plain": [
       "09-Feb                  2\n",
       "15-Aug                  2\n",
       "22-Jul                  2\n",
       "Dick Johnson Is Dead    1\n",
       "SGT. Will Gardner       1\n",
       "                       ..\n",
       "Mercy Black             1\n",
       "The Trap                1\n",
       "Pinky Memsaab           1\n",
       "Love O2O                1\n",
       "YOM                     1\n",
       "Name: title, Length: 8787, dtype: int64"
      ]
     },
     "execution_count": 16,
     "metadata": {},
     "output_type": "execute_result"
    }
   ],
   "source": [
    "# return the titles that are duplicates.\n",
    "\n",
    "df['title'].value_counts()"
   ]
  },
  {
   "cell_type": "code",
   "execution_count": 17,
   "id": "e504964b",
   "metadata": {},
   "outputs": [
    {
     "data": {
      "text/html": [
       "<div>\n",
       "<style scoped>\n",
       "    .dataframe tbody tr th:only-of-type {\n",
       "        vertical-align: middle;\n",
       "    }\n",
       "\n",
       "    .dataframe tbody tr th {\n",
       "        vertical-align: top;\n",
       "    }\n",
       "\n",
       "    .dataframe thead th {\n",
       "        text-align: right;\n",
       "    }\n",
       "</style>\n",
       "<table border=\"1\" class=\"dataframe\">\n",
       "  <thead>\n",
       "    <tr style=\"text-align: right;\">\n",
       "      <th></th>\n",
       "      <th>show_id</th>\n",
       "      <th>type</th>\n",
       "      <th>title</th>\n",
       "      <th>director</th>\n",
       "      <th>country</th>\n",
       "      <th>date_added</th>\n",
       "      <th>release_year</th>\n",
       "      <th>rating</th>\n",
       "      <th>duration</th>\n",
       "      <th>listed_in</th>\n",
       "    </tr>\n",
       "  </thead>\n",
       "  <tbody>\n",
       "    <tr>\n",
       "      <th>393</th>\n",
       "      <td>s3997</td>\n",
       "      <td>TV Show</td>\n",
       "      <td>09-Feb</td>\n",
       "      <td>Not Given</td>\n",
       "      <td>Pakistan</td>\n",
       "      <td>3/20/2019</td>\n",
       "      <td>2018</td>\n",
       "      <td>TV-14</td>\n",
       "      <td>1 Season</td>\n",
       "      <td>International TV Shows, TV Dramas</td>\n",
       "    </tr>\n",
       "    <tr>\n",
       "      <th>537</th>\n",
       "      <td>s5965</td>\n",
       "      <td>TV Show</td>\n",
       "      <td>09-Feb</td>\n",
       "      <td>Not Given</td>\n",
       "      <td>Pakistan</td>\n",
       "      <td>3/20/2019</td>\n",
       "      <td>2018</td>\n",
       "      <td>TV-14</td>\n",
       "      <td>1 Season</td>\n",
       "      <td>International TV Shows, TV Dramas</td>\n",
       "    </tr>\n",
       "  </tbody>\n",
       "</table>\n",
       "</div>"
      ],
      "text/plain": [
       "    show_id     type   title   director   country date_added  release_year  \\\n",
       "393   s3997  TV Show  09-Feb  Not Given  Pakistan  3/20/2019          2018   \n",
       "537   s5965  TV Show  09-Feb  Not Given  Pakistan  3/20/2019          2018   \n",
       "\n",
       "    rating  duration                          listed_in  \n",
       "393  TV-14  1 Season  International TV Shows, TV Dramas  \n",
       "537  TV-14  1 Season  International TV Shows, TV Dramas  "
      ]
     },
     "execution_count": 17,
     "metadata": {},
     "output_type": "execute_result"
    }
   ],
   "source": [
    "# show the duplicate titles \n",
    "\n",
    "df[df['title'] == '09-Feb']"
   ]
  },
  {
   "cell_type": "code",
   "execution_count": 18,
   "id": "77f09004",
   "metadata": {},
   "outputs": [
    {
     "data": {
      "text/html": [
       "<div>\n",
       "<style scoped>\n",
       "    .dataframe tbody tr th:only-of-type {\n",
       "        vertical-align: middle;\n",
       "    }\n",
       "\n",
       "    .dataframe tbody tr th {\n",
       "        vertical-align: top;\n",
       "    }\n",
       "\n",
       "    .dataframe thead th {\n",
       "        text-align: right;\n",
       "    }\n",
       "</style>\n",
       "<table border=\"1\" class=\"dataframe\">\n",
       "  <thead>\n",
       "    <tr style=\"text-align: right;\">\n",
       "      <th></th>\n",
       "      <th>show_id</th>\n",
       "      <th>type</th>\n",
       "      <th>title</th>\n",
       "      <th>director</th>\n",
       "      <th>country</th>\n",
       "      <th>date_added</th>\n",
       "      <th>release_year</th>\n",
       "      <th>rating</th>\n",
       "      <th>duration</th>\n",
       "      <th>listed_in</th>\n",
       "    </tr>\n",
       "  </thead>\n",
       "  <tbody>\n",
       "    <tr>\n",
       "      <th>2925</th>\n",
       "      <td>s3963</td>\n",
       "      <td>Movie</td>\n",
       "      <td>15-Aug</td>\n",
       "      <td>Swapnaneel Jayakar</td>\n",
       "      <td>India</td>\n",
       "      <td>3/29/2019</td>\n",
       "      <td>2019</td>\n",
       "      <td>TV-14</td>\n",
       "      <td>124 min</td>\n",
       "      <td>Comedies, Dramas, Independent Movies</td>\n",
       "    </tr>\n",
       "    <tr>\n",
       "      <th>4261</th>\n",
       "      <td>s5967</td>\n",
       "      <td>Movie</td>\n",
       "      <td>15-Aug</td>\n",
       "      <td>Swapnaneel Jayakar</td>\n",
       "      <td>India</td>\n",
       "      <td>3/29/2019</td>\n",
       "      <td>2019</td>\n",
       "      <td>TV-14</td>\n",
       "      <td>124 min</td>\n",
       "      <td>Comedies, Dramas, Independent Movies</td>\n",
       "    </tr>\n",
       "  </tbody>\n",
       "</table>\n",
       "</div>"
      ],
      "text/plain": [
       "     show_id   type   title            director country date_added  \\\n",
       "2925   s3963  Movie  15-Aug  Swapnaneel Jayakar   India  3/29/2019   \n",
       "4261   s5967  Movie  15-Aug  Swapnaneel Jayakar   India  3/29/2019   \n",
       "\n",
       "      release_year rating duration                             listed_in  \n",
       "2925          2019  TV-14  124 min  Comedies, Dramas, Independent Movies  \n",
       "4261          2019  TV-14  124 min  Comedies, Dramas, Independent Movies  "
      ]
     },
     "execution_count": 18,
     "metadata": {},
     "output_type": "execute_result"
    }
   ],
   "source": [
    "# show the duplicate titles \n",
    "\n",
    "df[df['title'] == '15-Aug']"
   ]
  },
  {
   "cell_type": "code",
   "execution_count": 19,
   "id": "ec32d299",
   "metadata": {
    "scrolled": true
   },
   "outputs": [
    {
     "data": {
      "text/html": [
       "<div>\n",
       "<style scoped>\n",
       "    .dataframe tbody tr th:only-of-type {\n",
       "        vertical-align: middle;\n",
       "    }\n",
       "\n",
       "    .dataframe tbody tr th {\n",
       "        vertical-align: top;\n",
       "    }\n",
       "\n",
       "    .dataframe thead th {\n",
       "        text-align: right;\n",
       "    }\n",
       "</style>\n",
       "<table border=\"1\" class=\"dataframe\">\n",
       "  <thead>\n",
       "    <tr style=\"text-align: right;\">\n",
       "      <th></th>\n",
       "      <th>show_id</th>\n",
       "      <th>type</th>\n",
       "      <th>title</th>\n",
       "      <th>director</th>\n",
       "      <th>country</th>\n",
       "      <th>date_added</th>\n",
       "      <th>release_year</th>\n",
       "      <th>rating</th>\n",
       "      <th>duration</th>\n",
       "      <th>listed_in</th>\n",
       "    </tr>\n",
       "  </thead>\n",
       "  <tbody>\n",
       "    <tr>\n",
       "      <th>3285</th>\n",
       "      <td>s4523</td>\n",
       "      <td>Movie</td>\n",
       "      <td>22-Jul</td>\n",
       "      <td>Paul Greengrass</td>\n",
       "      <td>Norway</td>\n",
       "      <td>10/10/2018</td>\n",
       "      <td>2018</td>\n",
       "      <td>R</td>\n",
       "      <td>144 min</td>\n",
       "      <td>Dramas, Thrillers</td>\n",
       "    </tr>\n",
       "    <tr>\n",
       "      <th>4260</th>\n",
       "      <td>s5966</td>\n",
       "      <td>Movie</td>\n",
       "      <td>22-Jul</td>\n",
       "      <td>Paul Greengrass</td>\n",
       "      <td>Norway</td>\n",
       "      <td>10/10/2018</td>\n",
       "      <td>2018</td>\n",
       "      <td>R</td>\n",
       "      <td>144 min</td>\n",
       "      <td>Dramas, Thrillers</td>\n",
       "    </tr>\n",
       "  </tbody>\n",
       "</table>\n",
       "</div>"
      ],
      "text/plain": [
       "     show_id   type   title         director country  date_added  \\\n",
       "3285   s4523  Movie  22-Jul  Paul Greengrass  Norway  10/10/2018   \n",
       "4260   s5966  Movie  22-Jul  Paul Greengrass  Norway  10/10/2018   \n",
       "\n",
       "      release_year rating duration          listed_in  \n",
       "3285          2018      R  144 min  Dramas, Thrillers  \n",
       "4260          2018      R  144 min  Dramas, Thrillers  "
      ]
     },
     "execution_count": 19,
     "metadata": {},
     "output_type": "execute_result"
    }
   ],
   "source": [
    "# show the duplicate titles \n",
    "\n",
    "df[df['title'] == '22-Jul']"
   ]
  },
  {
   "cell_type": "markdown",
   "id": "0c69790a",
   "metadata": {},
   "source": [
    "- Duplicate titles will need to be removed "
   ]
  },
  {
   "cell_type": "markdown",
   "id": "848c11b9",
   "metadata": {},
   "source": [
    "# 'director' column"
   ]
  },
  {
   "cell_type": "code",
   "execution_count": 20,
   "id": "7d33f6e8",
   "metadata": {},
   "outputs": [
    {
     "data": {
      "text/plain": [
       "8790"
      ]
     },
     "execution_count": 20,
     "metadata": {},
     "output_type": "execute_result"
    }
   ],
   "source": [
    "df['director'].count()"
   ]
  },
  {
   "cell_type": "code",
   "execution_count": 21,
   "id": "2ffbd8a3",
   "metadata": {},
   "outputs": [
    {
     "data": {
      "text/plain": [
       "4528"
      ]
     },
     "execution_count": 21,
     "metadata": {},
     "output_type": "execute_result"
    }
   ],
   "source": [
    "# No. of unique directors in the dataset\n",
    "\n",
    "df['director'].nunique()"
   ]
  },
  {
   "cell_type": "code",
   "execution_count": 22,
   "id": "d901b41d",
   "metadata": {},
   "outputs": [
    {
     "data": {
      "text/plain": [
       "Not Given                         2588\n",
       "Rajiv Chilaka                       20\n",
       "Alastair Fothergill                 18\n",
       "Raúl Campos, Jan Suter              18\n",
       "Suhas Kadav                         16\n",
       "                                  ... \n",
       "Matt D'Avella                        1\n",
       "Parthiban                            1\n",
       "Scott McAboy                         1\n",
       "Raymie Muzquiz, Stu Livingston       1\n",
       "Mozez Singh                          1\n",
       "Name: director, Length: 4528, dtype: int64"
      ]
     },
     "execution_count": 22,
     "metadata": {},
     "output_type": "execute_result"
    }
   ],
   "source": [
    "# Rajiv Chilaka directed the highest number of content (either movies or tv shows)\n",
    "\n",
    "df['director'].value_counts()"
   ]
  },
  {
   "cell_type": "code",
   "execution_count": 23,
   "id": "4f09c909",
   "metadata": {},
   "outputs": [
    {
     "data": {
      "text/html": [
       "<div>\n",
       "<style scoped>\n",
       "    .dataframe tbody tr th:only-of-type {\n",
       "        vertical-align: middle;\n",
       "    }\n",
       "\n",
       "    .dataframe tbody tr th {\n",
       "        vertical-align: top;\n",
       "    }\n",
       "\n",
       "    .dataframe thead th {\n",
       "        text-align: right;\n",
       "    }\n",
       "</style>\n",
       "<table border=\"1\" class=\"dataframe\">\n",
       "  <thead>\n",
       "    <tr style=\"text-align: right;\">\n",
       "      <th></th>\n",
       "      <th>show_id</th>\n",
       "      <th>type</th>\n",
       "      <th>title</th>\n",
       "      <th>director</th>\n",
       "      <th>country</th>\n",
       "      <th>date_added</th>\n",
       "      <th>release_year</th>\n",
       "      <th>rating</th>\n",
       "      <th>duration</th>\n",
       "      <th>listed_in</th>\n",
       "    </tr>\n",
       "  </thead>\n",
       "  <tbody>\n",
       "    <tr>\n",
       "      <th>511</th>\n",
       "      <td>s420</td>\n",
       "      <td>Movie</td>\n",
       "      <td>Chhota Bheem: Bheem vs Aliens</td>\n",
       "      <td>Rajiv Chilaka</td>\n",
       "      <td>India</td>\n",
       "      <td>7/22/2021</td>\n",
       "      <td>2010</td>\n",
       "      <td>TV-Y7</td>\n",
       "      <td>69 min</td>\n",
       "      <td>Children &amp; Family Movies, Sports Movies</td>\n",
       "    </tr>\n",
       "    <tr>\n",
       "      <th>561</th>\n",
       "      <td>s407</td>\n",
       "      <td>Movie</td>\n",
       "      <td>Chhota Bheem - Neeli Pahaadi</td>\n",
       "      <td>Rajiv Chilaka</td>\n",
       "      <td>India</td>\n",
       "      <td>7/22/2021</td>\n",
       "      <td>2013</td>\n",
       "      <td>TV-Y7</td>\n",
       "      <td>64 min</td>\n",
       "      <td>Children &amp; Family Movies</td>\n",
       "    </tr>\n",
       "    <tr>\n",
       "      <th>562</th>\n",
       "      <td>s408</td>\n",
       "      <td>Movie</td>\n",
       "      <td>Chhota Bheem &amp; Ganesh</td>\n",
       "      <td>Rajiv Chilaka</td>\n",
       "      <td>India</td>\n",
       "      <td>7/22/2021</td>\n",
       "      <td>2009</td>\n",
       "      <td>TV-Y7</td>\n",
       "      <td>68 min</td>\n",
       "      <td>Children &amp; Family Movies</td>\n",
       "    </tr>\n",
       "    <tr>\n",
       "      <th>563</th>\n",
       "      <td>s409</td>\n",
       "      <td>Movie</td>\n",
       "      <td>Chhota Bheem &amp; Krishna: Mayanagari</td>\n",
       "      <td>Rajiv Chilaka</td>\n",
       "      <td>India</td>\n",
       "      <td>7/22/2021</td>\n",
       "      <td>2011</td>\n",
       "      <td>TV-Y7</td>\n",
       "      <td>67 min</td>\n",
       "      <td>Children &amp; Family Movies</td>\n",
       "    </tr>\n",
       "    <tr>\n",
       "      <th>565</th>\n",
       "      <td>s410</td>\n",
       "      <td>Movie</td>\n",
       "      <td>Chhota Bheem &amp; Krishna: Pataliputra- City of t...</td>\n",
       "      <td>Rajiv Chilaka</td>\n",
       "      <td>India</td>\n",
       "      <td>7/22/2021</td>\n",
       "      <td>2010</td>\n",
       "      <td>TV-Y7</td>\n",
       "      <td>66 min</td>\n",
       "      <td>Children &amp; Family Movies</td>\n",
       "    </tr>\n",
       "  </tbody>\n",
       "</table>\n",
       "</div>"
      ],
      "text/plain": [
       "    show_id   type                                              title  \\\n",
       "511    s420  Movie                      Chhota Bheem: Bheem vs Aliens   \n",
       "561    s407  Movie                       Chhota Bheem - Neeli Pahaadi   \n",
       "562    s408  Movie                              Chhota Bheem & Ganesh   \n",
       "563    s409  Movie                 Chhota Bheem & Krishna: Mayanagari   \n",
       "565    s410  Movie  Chhota Bheem & Krishna: Pataliputra- City of t...   \n",
       "\n",
       "          director country date_added  release_year rating duration  \\\n",
       "511  Rajiv Chilaka   India  7/22/2021          2010  TV-Y7   69 min   \n",
       "561  Rajiv Chilaka   India  7/22/2021          2013  TV-Y7   64 min   \n",
       "562  Rajiv Chilaka   India  7/22/2021          2009  TV-Y7   68 min   \n",
       "563  Rajiv Chilaka   India  7/22/2021          2011  TV-Y7   67 min   \n",
       "565  Rajiv Chilaka   India  7/22/2021          2010  TV-Y7   66 min   \n",
       "\n",
       "                                   listed_in  \n",
       "511  Children & Family Movies, Sports Movies  \n",
       "561                 Children & Family Movies  \n",
       "562                 Children & Family Movies  \n",
       "563                 Children & Family Movies  \n",
       "565                 Children & Family Movies  "
      ]
     },
     "execution_count": 23,
     "metadata": {},
     "output_type": "execute_result"
    }
   ],
   "source": [
    "# show first 5 movies directed by Rajiv Chilaka. \n",
    "\n",
    "df[df['director'] == 'Rajiv Chilaka'].head()"
   ]
  },
  {
   "cell_type": "code",
   "execution_count": 24,
   "id": "0cc1cf08",
   "metadata": {},
   "outputs": [
    {
     "data": {
      "text/html": [
       "<div>\n",
       "<style scoped>\n",
       "    .dataframe tbody tr th:only-of-type {\n",
       "        vertical-align: middle;\n",
       "    }\n",
       "\n",
       "    .dataframe tbody tr th {\n",
       "        vertical-align: top;\n",
       "    }\n",
       "\n",
       "    .dataframe thead th {\n",
       "        text-align: right;\n",
       "    }\n",
       "</style>\n",
       "<table border=\"1\" class=\"dataframe\">\n",
       "  <thead>\n",
       "    <tr style=\"text-align: right;\">\n",
       "      <th></th>\n",
       "      <th>show_id</th>\n",
       "      <th>type</th>\n",
       "      <th>title</th>\n",
       "      <th>director</th>\n",
       "      <th>country</th>\n",
       "      <th>date_added</th>\n",
       "      <th>release_year</th>\n",
       "      <th>rating</th>\n",
       "      <th>duration</th>\n",
       "      <th>listed_in</th>\n",
       "    </tr>\n",
       "  </thead>\n",
       "  <tbody>\n",
       "    <tr>\n",
       "      <th>12</th>\n",
       "      <td>s852</td>\n",
       "      <td>Movie</td>\n",
       "      <td>99 Songs (Tamil)</td>\n",
       "      <td>Not Given</td>\n",
       "      <td>Pakistan</td>\n",
       "      <td>5/21/2021</td>\n",
       "      <td>2021</td>\n",
       "      <td>TV-14</td>\n",
       "      <td>131 min</td>\n",
       "      <td>Dramas, International Movies, Music &amp; Musicals</td>\n",
       "    </tr>\n",
       "    <tr>\n",
       "      <th>17</th>\n",
       "      <td>s4</td>\n",
       "      <td>TV Show</td>\n",
       "      <td>Jailbirds New Orleans</td>\n",
       "      <td>Not Given</td>\n",
       "      <td>Pakistan</td>\n",
       "      <td>9/24/2021</td>\n",
       "      <td>2021</td>\n",
       "      <td>TV-MA</td>\n",
       "      <td>1 Season</td>\n",
       "      <td>Docuseries, Reality TV</td>\n",
       "    </tr>\n",
       "    <tr>\n",
       "      <th>18</th>\n",
       "      <td>s15</td>\n",
       "      <td>TV Show</td>\n",
       "      <td>Crime Stories: India Detectives</td>\n",
       "      <td>Not Given</td>\n",
       "      <td>Pakistan</td>\n",
       "      <td>9/22/2021</td>\n",
       "      <td>2021</td>\n",
       "      <td>TV-MA</td>\n",
       "      <td>1 Season</td>\n",
       "      <td>British TV Shows, Crime TV Shows, Docuseries</td>\n",
       "    </tr>\n",
       "    <tr>\n",
       "      <th>33</th>\n",
       "      <td>s20</td>\n",
       "      <td>TV Show</td>\n",
       "      <td>Jaguar</td>\n",
       "      <td>Not Given</td>\n",
       "      <td>Pakistan</td>\n",
       "      <td>9/22/2021</td>\n",
       "      <td>2021</td>\n",
       "      <td>TV-MA</td>\n",
       "      <td>1 Season</td>\n",
       "      <td>International TV Shows, Spanish-Language TV Sh...</td>\n",
       "    </tr>\n",
       "    <tr>\n",
       "      <th>34</th>\n",
       "      <td>s32</td>\n",
       "      <td>TV Show</td>\n",
       "      <td>Chicago Party Aunt</td>\n",
       "      <td>Not Given</td>\n",
       "      <td>Pakistan</td>\n",
       "      <td>9/17/2021</td>\n",
       "      <td>2021</td>\n",
       "      <td>TV-MA</td>\n",
       "      <td>1 Season</td>\n",
       "      <td>TV Comedies</td>\n",
       "    </tr>\n",
       "    <tr>\n",
       "      <th>...</th>\n",
       "      <td>...</td>\n",
       "      <td>...</td>\n",
       "      <td>...</td>\n",
       "      <td>...</td>\n",
       "      <td>...</td>\n",
       "      <td>...</td>\n",
       "      <td>...</td>\n",
       "      <td>...</td>\n",
       "      <td>...</td>\n",
       "      <td>...</td>\n",
       "    </tr>\n",
       "    <tr>\n",
       "      <th>8785</th>\n",
       "      <td>s8797</td>\n",
       "      <td>TV Show</td>\n",
       "      <td>Yunus Emre</td>\n",
       "      <td>Not Given</td>\n",
       "      <td>Turkey</td>\n",
       "      <td>1/17/2017</td>\n",
       "      <td>2016</td>\n",
       "      <td>TV-PG</td>\n",
       "      <td>2 Seasons</td>\n",
       "      <td>International TV Shows, TV Dramas</td>\n",
       "    </tr>\n",
       "    <tr>\n",
       "      <th>8786</th>\n",
       "      <td>s8798</td>\n",
       "      <td>TV Show</td>\n",
       "      <td>Zak Storm</td>\n",
       "      <td>Not Given</td>\n",
       "      <td>United States</td>\n",
       "      <td>9/13/2018</td>\n",
       "      <td>2016</td>\n",
       "      <td>TV-Y7</td>\n",
       "      <td>3 Seasons</td>\n",
       "      <td>Kids' TV</td>\n",
       "    </tr>\n",
       "    <tr>\n",
       "      <th>8787</th>\n",
       "      <td>s8801</td>\n",
       "      <td>TV Show</td>\n",
       "      <td>Zindagi Gulzar Hai</td>\n",
       "      <td>Not Given</td>\n",
       "      <td>Pakistan</td>\n",
       "      <td>12/15/2016</td>\n",
       "      <td>2012</td>\n",
       "      <td>TV-PG</td>\n",
       "      <td>1 Season</td>\n",
       "      <td>International TV Shows, Romantic TV Shows, TV ...</td>\n",
       "    </tr>\n",
       "    <tr>\n",
       "      <th>8788</th>\n",
       "      <td>s8784</td>\n",
       "      <td>TV Show</td>\n",
       "      <td>Yoko</td>\n",
       "      <td>Not Given</td>\n",
       "      <td>Pakistan</td>\n",
       "      <td>6/23/2018</td>\n",
       "      <td>2016</td>\n",
       "      <td>TV-Y</td>\n",
       "      <td>1 Season</td>\n",
       "      <td>Kids' TV</td>\n",
       "    </tr>\n",
       "    <tr>\n",
       "      <th>8789</th>\n",
       "      <td>s8786</td>\n",
       "      <td>TV Show</td>\n",
       "      <td>YOM</td>\n",
       "      <td>Not Given</td>\n",
       "      <td>Pakistan</td>\n",
       "      <td>06/07/2018</td>\n",
       "      <td>2016</td>\n",
       "      <td>TV-Y7</td>\n",
       "      <td>1 Season</td>\n",
       "      <td>Kids' TV</td>\n",
       "    </tr>\n",
       "  </tbody>\n",
       "</table>\n",
       "<p>2588 rows × 10 columns</p>\n",
       "</div>"
      ],
      "text/plain": [
       "     show_id     type                            title   director  \\\n",
       "12      s852    Movie                 99 Songs (Tamil)  Not Given   \n",
       "17        s4  TV Show            Jailbirds New Orleans  Not Given   \n",
       "18       s15  TV Show  Crime Stories: India Detectives  Not Given   \n",
       "33       s20  TV Show                           Jaguar  Not Given   \n",
       "34       s32  TV Show               Chicago Party Aunt  Not Given   \n",
       "...      ...      ...                              ...        ...   \n",
       "8785   s8797  TV Show                       Yunus Emre  Not Given   \n",
       "8786   s8798  TV Show                        Zak Storm  Not Given   \n",
       "8787   s8801  TV Show               Zindagi Gulzar Hai  Not Given   \n",
       "8788   s8784  TV Show                             Yoko  Not Given   \n",
       "8789   s8786  TV Show                              YOM  Not Given   \n",
       "\n",
       "            country  date_added  release_year rating   duration  \\\n",
       "12         Pakistan   5/21/2021          2021  TV-14    131 min   \n",
       "17         Pakistan   9/24/2021          2021  TV-MA   1 Season   \n",
       "18         Pakistan   9/22/2021          2021  TV-MA   1 Season   \n",
       "33         Pakistan   9/22/2021          2021  TV-MA   1 Season   \n",
       "34         Pakistan   9/17/2021          2021  TV-MA   1 Season   \n",
       "...             ...         ...           ...    ...        ...   \n",
       "8785         Turkey   1/17/2017          2016  TV-PG  2 Seasons   \n",
       "8786  United States   9/13/2018          2016  TV-Y7  3 Seasons   \n",
       "8787       Pakistan  12/15/2016          2012  TV-PG   1 Season   \n",
       "8788       Pakistan   6/23/2018          2016   TV-Y   1 Season   \n",
       "8789       Pakistan  06/07/2018          2016  TV-Y7   1 Season   \n",
       "\n",
       "                                              listed_in  \n",
       "12       Dramas, International Movies, Music & Musicals  \n",
       "17                               Docuseries, Reality TV  \n",
       "18         British TV Shows, Crime TV Shows, Docuseries  \n",
       "33    International TV Shows, Spanish-Language TV Sh...  \n",
       "34                                          TV Comedies  \n",
       "...                                                 ...  \n",
       "8785                  International TV Shows, TV Dramas  \n",
       "8786                                           Kids' TV  \n",
       "8787  International TV Shows, Romantic TV Shows, TV ...  \n",
       "8788                                           Kids' TV  \n",
       "8789                                           Kids' TV  \n",
       "\n",
       "[2588 rows x 10 columns]"
      ]
     },
     "execution_count": 24,
     "metadata": {},
     "output_type": "execute_result"
    }
   ],
   "source": [
    "# show the rows with missing directors.\n",
    "\n",
    "df[df['director'] == 'Not Given']"
   ]
  },
  {
   "cell_type": "markdown",
   "id": "0a262368",
   "metadata": {},
   "source": [
    "There are 2588 rows with no data in the 'director' column, we may need to replace this with another value such as 'unknown'."
   ]
  },
  {
   "cell_type": "code",
   "execution_count": 25,
   "id": "d6f4e133",
   "metadata": {},
   "outputs": [
    {
     "data": {
      "text/plain": [
       "29.44"
      ]
     },
     "execution_count": 25,
     "metadata": {},
     "output_type": "execute_result"
    }
   ],
   "source": [
    "# Calculate missing directors\n",
    "\n",
    "director_null_values  = round(len(df[df['director'] == 'Not Given']) / len(df) *100, 2)\n",
    "director_null_values"
   ]
  },
  {
   "cell_type": "markdown",
   "id": "da043e89",
   "metadata": {},
   "source": [
    "29.44% of data is missing in the 'director' column"
   ]
  },
  {
   "cell_type": "markdown",
   "id": "3ea06392",
   "metadata": {},
   "source": [
    "# \"country\" column"
   ]
  },
  {
   "cell_type": "code",
   "execution_count": 26,
   "id": "c3cded2e",
   "metadata": {},
   "outputs": [
    {
     "data": {
      "text/plain": [
       "8790"
      ]
     },
     "execution_count": 26,
     "metadata": {},
     "output_type": "execute_result"
    }
   ],
   "source": [
    "# Count method does not indicate any missing values, therefore use value_counts.\n",
    "\n",
    "df['country'].count()"
   ]
  },
  {
   "cell_type": "code",
   "execution_count": 27,
   "id": "94878fc8",
   "metadata": {},
   "outputs": [
    {
     "data": {
      "text/plain": [
       "United States     3240\n",
       "India             1057\n",
       "United Kingdom     638\n",
       "Pakistan           421\n",
       "Not Given          287\n",
       "Canada             271\n",
       "Japan              259\n",
       "South Korea        214\n",
       "France             213\n",
       "Spain              182\n",
       "Name: country, dtype: int64"
      ]
     },
     "execution_count": 27,
     "metadata": {},
     "output_type": "execute_result"
    }
   ],
   "source": [
    "# There are 287 missing values in the \"country\" column\n",
    "\n",
    "df['country'].value_counts().head(10)"
   ]
  },
  {
   "cell_type": "markdown",
   "id": "f9d9ba67",
   "metadata": {},
   "source": [
    "Majority of the content was produced in the USA (3240), followed by India (1057) and UK (638)."
   ]
  },
  {
   "cell_type": "code",
   "execution_count": 28,
   "id": "14f08aec",
   "metadata": {},
   "outputs": [
    {
     "data": {
      "text/plain": [
       "86"
      ]
     },
     "execution_count": 28,
     "metadata": {},
     "output_type": "execute_result"
    }
   ],
   "source": [
    "# data is based on 86 different countries\n",
    "\n",
    "df['country'].nunique()"
   ]
  },
  {
   "cell_type": "code",
   "execution_count": 29,
   "id": "4a0729d8",
   "metadata": {},
   "outputs": [
    {
     "data": {
      "text/html": [
       "<div>\n",
       "<style scoped>\n",
       "    .dataframe tbody tr th:only-of-type {\n",
       "        vertical-align: middle;\n",
       "    }\n",
       "\n",
       "    .dataframe tbody tr th {\n",
       "        vertical-align: top;\n",
       "    }\n",
       "\n",
       "    .dataframe thead th {\n",
       "        text-align: right;\n",
       "    }\n",
       "</style>\n",
       "<table border=\"1\" class=\"dataframe\">\n",
       "  <thead>\n",
       "    <tr style=\"text-align: right;\">\n",
       "      <th></th>\n",
       "      <th>show_id</th>\n",
       "      <th>type</th>\n",
       "      <th>title</th>\n",
       "      <th>director</th>\n",
       "      <th>country</th>\n",
       "      <th>date_added</th>\n",
       "      <th>release_year</th>\n",
       "      <th>rating</th>\n",
       "      <th>duration</th>\n",
       "      <th>listed_in</th>\n",
       "    </tr>\n",
       "  </thead>\n",
       "  <tbody>\n",
       "    <tr>\n",
       "      <th>23</th>\n",
       "      <td>s7</td>\n",
       "      <td>Movie</td>\n",
       "      <td>My Little Pony: A New Generation</td>\n",
       "      <td>Robert Cullen, José Luis Ucha</td>\n",
       "      <td>Not Given</td>\n",
       "      <td>9/24/2021</td>\n",
       "      <td>2021</td>\n",
       "      <td>PG</td>\n",
       "      <td>91 min</td>\n",
       "      <td>Children &amp; Family Movies</td>\n",
       "    </tr>\n",
       "    <tr>\n",
       "      <th>24</th>\n",
       "      <td>s12</td>\n",
       "      <td>TV Show</td>\n",
       "      <td>Bangkok Breaking</td>\n",
       "      <td>Kongkiat Komesiri</td>\n",
       "      <td>Not Given</td>\n",
       "      <td>9/23/2021</td>\n",
       "      <td>2021</td>\n",
       "      <td>TV-MA</td>\n",
       "      <td>1 Season</td>\n",
       "      <td>Crime TV Shows, International TV Shows, TV Act...</td>\n",
       "    </tr>\n",
       "    <tr>\n",
       "      <th>25</th>\n",
       "      <td>s17</td>\n",
       "      <td>Movie</td>\n",
       "      <td>Europe's Most Dangerous Man: Otto Skorzeny in ...</td>\n",
       "      <td>Pedro de Echave García, Pablo Azorín Williams</td>\n",
       "      <td>Not Given</td>\n",
       "      <td>9/22/2021</td>\n",
       "      <td>2020</td>\n",
       "      <td>TV-MA</td>\n",
       "      <td>67 min</td>\n",
       "      <td>Documentaries, International Movies</td>\n",
       "    </tr>\n",
       "    <tr>\n",
       "      <th>26</th>\n",
       "      <td>s7930</td>\n",
       "      <td>Movie</td>\n",
       "      <td>Samudri Lootere</td>\n",
       "      <td>Anirban Majumder</td>\n",
       "      <td>Not Given</td>\n",
       "      <td>6/18/2019</td>\n",
       "      <td>2018</td>\n",
       "      <td>TV-Y</td>\n",
       "      <td>65 min</td>\n",
       "      <td>Children &amp; Family Movies</td>\n",
       "    </tr>\n",
       "    <tr>\n",
       "      <th>52</th>\n",
       "      <td>s19</td>\n",
       "      <td>Movie</td>\n",
       "      <td>Intrusion</td>\n",
       "      <td>Adam Salky</td>\n",
       "      <td>Not Given</td>\n",
       "      <td>9/22/2021</td>\n",
       "      <td>2021</td>\n",
       "      <td>TV-14</td>\n",
       "      <td>94 min</td>\n",
       "      <td>Thrillers</td>\n",
       "    </tr>\n",
       "    <tr>\n",
       "      <th>...</th>\n",
       "      <td>...</td>\n",
       "      <td>...</td>\n",
       "      <td>...</td>\n",
       "      <td>...</td>\n",
       "      <td>...</td>\n",
       "      <td>...</td>\n",
       "      <td>...</td>\n",
       "      <td>...</td>\n",
       "      <td>...</td>\n",
       "      <td>...</td>\n",
       "    </tr>\n",
       "    <tr>\n",
       "      <th>6005</th>\n",
       "      <td>s8161</td>\n",
       "      <td>Movie</td>\n",
       "      <td>Teenage Mutant Ninja Turtles: The Movie</td>\n",
       "      <td>Steve Barron</td>\n",
       "      <td>Not Given</td>\n",
       "      <td>01/01/2020</td>\n",
       "      <td>1990</td>\n",
       "      <td>PG</td>\n",
       "      <td>94 min</td>\n",
       "      <td>Action &amp; Adventure, Comedies</td>\n",
       "    </tr>\n",
       "    <tr>\n",
       "      <th>6257</th>\n",
       "      <td>s8451</td>\n",
       "      <td>Movie</td>\n",
       "      <td>The Perfect Day</td>\n",
       "      <td>Jean-Pierre Devillers</td>\n",
       "      <td>Not Given</td>\n",
       "      <td>09/01/2018</td>\n",
       "      <td>2018</td>\n",
       "      <td>TV-14</td>\n",
       "      <td>93 min</td>\n",
       "      <td>Documentaries, International Movies, Sports Mo...</td>\n",
       "    </tr>\n",
       "    <tr>\n",
       "      <th>6366</th>\n",
       "      <td>s8603</td>\n",
       "      <td>Movie</td>\n",
       "      <td>Tom and Jerry: The Magic Ring</td>\n",
       "      <td>Phil Roman</td>\n",
       "      <td>Not Given</td>\n",
       "      <td>12/15/2019</td>\n",
       "      <td>2001</td>\n",
       "      <td>TV-Y7</td>\n",
       "      <td>60 min</td>\n",
       "      <td>Children &amp; Family Movies, Comedies</td>\n",
       "    </tr>\n",
       "    <tr>\n",
       "      <th>6468</th>\n",
       "      <td>s8719</td>\n",
       "      <td>Movie</td>\n",
       "      <td>Westside vs. the World</td>\n",
       "      <td>Michael Fahey</td>\n",
       "      <td>Not Given</td>\n",
       "      <td>08/09/2019</td>\n",
       "      <td>2019</td>\n",
       "      <td>TV-MA</td>\n",
       "      <td>96 min</td>\n",
       "      <td>Documentaries, Sports Movies</td>\n",
       "    </tr>\n",
       "    <tr>\n",
       "      <th>6499</th>\n",
       "      <td>s8760</td>\n",
       "      <td>Movie</td>\n",
       "      <td>World's Weirdest Homes</td>\n",
       "      <td>Storm Theunissen</td>\n",
       "      <td>Not Given</td>\n",
       "      <td>02/01/2019</td>\n",
       "      <td>2015</td>\n",
       "      <td>TV-PG</td>\n",
       "      <td>49 min</td>\n",
       "      <td>Movies</td>\n",
       "    </tr>\n",
       "  </tbody>\n",
       "</table>\n",
       "<p>287 rows × 10 columns</p>\n",
       "</div>"
      ],
      "text/plain": [
       "     show_id     type                                              title  \\\n",
       "23        s7    Movie                   My Little Pony: A New Generation   \n",
       "24       s12  TV Show                                   Bangkok Breaking   \n",
       "25       s17    Movie  Europe's Most Dangerous Man: Otto Skorzeny in ...   \n",
       "26     s7930    Movie                                    Samudri Lootere   \n",
       "52       s19    Movie                                          Intrusion   \n",
       "...      ...      ...                                                ...   \n",
       "6005   s8161    Movie            Teenage Mutant Ninja Turtles: The Movie   \n",
       "6257   s8451    Movie                                    The Perfect Day   \n",
       "6366   s8603    Movie                      Tom and Jerry: The Magic Ring   \n",
       "6468   s8719    Movie                             Westside vs. the World   \n",
       "6499   s8760    Movie                             World's Weirdest Homes   \n",
       "\n",
       "                                           director    country  date_added  \\\n",
       "23                    Robert Cullen, José Luis Ucha  Not Given   9/24/2021   \n",
       "24                                Kongkiat Komesiri  Not Given   9/23/2021   \n",
       "25    Pedro de Echave García, Pablo Azorín Williams  Not Given   9/22/2021   \n",
       "26                                 Anirban Majumder  Not Given   6/18/2019   \n",
       "52                                       Adam Salky  Not Given   9/22/2021   \n",
       "...                                             ...        ...         ...   \n",
       "6005                                   Steve Barron  Not Given  01/01/2020   \n",
       "6257                          Jean-Pierre Devillers  Not Given  09/01/2018   \n",
       "6366                                     Phil Roman  Not Given  12/15/2019   \n",
       "6468                                  Michael Fahey  Not Given  08/09/2019   \n",
       "6499                               Storm Theunissen  Not Given  02/01/2019   \n",
       "\n",
       "      release_year rating  duration  \\\n",
       "23            2021     PG    91 min   \n",
       "24            2021  TV-MA  1 Season   \n",
       "25            2020  TV-MA    67 min   \n",
       "26            2018   TV-Y    65 min   \n",
       "52            2021  TV-14    94 min   \n",
       "...            ...    ...       ...   \n",
       "6005          1990     PG    94 min   \n",
       "6257          2018  TV-14    93 min   \n",
       "6366          2001  TV-Y7    60 min   \n",
       "6468          2019  TV-MA    96 min   \n",
       "6499          2015  TV-PG    49 min   \n",
       "\n",
       "                                              listed_in  \n",
       "23                             Children & Family Movies  \n",
       "24    Crime TV Shows, International TV Shows, TV Act...  \n",
       "25                  Documentaries, International Movies  \n",
       "26                             Children & Family Movies  \n",
       "52                                            Thrillers  \n",
       "...                                                 ...  \n",
       "6005                       Action & Adventure, Comedies  \n",
       "6257  Documentaries, International Movies, Sports Mo...  \n",
       "6366                 Children & Family Movies, Comedies  \n",
       "6468                       Documentaries, Sports Movies  \n",
       "6499                                             Movies  \n",
       "\n",
       "[287 rows x 10 columns]"
      ]
     },
     "execution_count": 29,
     "metadata": {},
     "output_type": "execute_result"
    }
   ],
   "source": [
    "#show missing countries.\n",
    "\n",
    "df[df['country'] == 'Not Given']"
   ]
  },
  {
   "cell_type": "markdown",
   "id": "b24bc1ad",
   "metadata": {},
   "source": [
    "There are 287 rows with no data in the 'country' column, we may need to replace this with another value such as 'unknown'."
   ]
  },
  {
   "cell_type": "code",
   "execution_count": 30,
   "id": "7762bd58",
   "metadata": {},
   "outputs": [
    {
     "data": {
      "text/plain": [
       "3.27"
      ]
     },
     "execution_count": 30,
     "metadata": {},
     "output_type": "execute_result"
    }
   ],
   "source": [
    "country_null_values  = round(len(df[df['country'] == 'Not Given']) / len(df) *100, 2)\n",
    "country_null_values"
   ]
  },
  {
   "cell_type": "markdown",
   "id": "30408253",
   "metadata": {},
   "source": [
    "3.27% of data is missing in the 'country' column"
   ]
  },
  {
   "cell_type": "markdown",
   "id": "2cfc79dc",
   "metadata": {},
   "source": [
    "# 'date_added' column"
   ]
  },
  {
   "cell_type": "code",
   "execution_count": 31,
   "id": "00f59c6a",
   "metadata": {},
   "outputs": [
    {
     "data": {
      "text/html": [
       "<div>\n",
       "<style scoped>\n",
       "    .dataframe tbody tr th:only-of-type {\n",
       "        vertical-align: middle;\n",
       "    }\n",
       "\n",
       "    .dataframe tbody tr th {\n",
       "        vertical-align: top;\n",
       "    }\n",
       "\n",
       "    .dataframe thead th {\n",
       "        text-align: right;\n",
       "    }\n",
       "</style>\n",
       "<table border=\"1\" class=\"dataframe\">\n",
       "  <thead>\n",
       "    <tr style=\"text-align: right;\">\n",
       "      <th></th>\n",
       "      <th>date_added</th>\n",
       "    </tr>\n",
       "  </thead>\n",
       "  <tbody>\n",
       "    <tr>\n",
       "      <th>0</th>\n",
       "      <td>9/25/2021</td>\n",
       "    </tr>\n",
       "    <tr>\n",
       "      <th>1</th>\n",
       "      <td>9/24/2021</td>\n",
       "    </tr>\n",
       "    <tr>\n",
       "      <th>2</th>\n",
       "      <td>9/24/2021</td>\n",
       "    </tr>\n",
       "    <tr>\n",
       "      <th>3</th>\n",
       "      <td>9/22/2021</td>\n",
       "    </tr>\n",
       "    <tr>\n",
       "      <th>4</th>\n",
       "      <td>9/24/2021</td>\n",
       "    </tr>\n",
       "    <tr>\n",
       "      <th>5</th>\n",
       "      <td>9/24/2021</td>\n",
       "    </tr>\n",
       "    <tr>\n",
       "      <th>6</th>\n",
       "      <td>9/24/2021</td>\n",
       "    </tr>\n",
       "    <tr>\n",
       "      <th>7</th>\n",
       "      <td>05/01/2021</td>\n",
       "    </tr>\n",
       "    <tr>\n",
       "      <th>8</th>\n",
       "      <td>9/23/2021</td>\n",
       "    </tr>\n",
       "    <tr>\n",
       "      <th>9</th>\n",
       "      <td>05/01/2021</td>\n",
       "    </tr>\n",
       "  </tbody>\n",
       "</table>\n",
       "</div>"
      ],
      "text/plain": [
       "   date_added\n",
       "0   9/25/2021\n",
       "1   9/24/2021\n",
       "2   9/24/2021\n",
       "3   9/22/2021\n",
       "4   9/24/2021\n",
       "5   9/24/2021\n",
       "6   9/24/2021\n",
       "7  05/01/2021\n",
       "8   9/23/2021\n",
       "9  05/01/2021"
      ]
     },
     "execution_count": 31,
     "metadata": {},
     "output_type": "execute_result"
    }
   ],
   "source": [
    "df[['date_added']].head(10)"
   ]
  },
  {
   "cell_type": "markdown",
   "id": "8d810b9a",
   "metadata": {},
   "source": [
    "The date is formatted differently, 'month/date/year' or 'date/month/year'. It may be worth standardising the format.\n",
    "\n",
    "Also, the 'date_added' column is an object type which means we have strings for the dates, which is indicated by '/' symbol. It would be better if this column is converted to date type (datetime64), so that we can perform further analysis."
   ]
  },
  {
   "cell_type": "code",
   "execution_count": 32,
   "id": "98eff106",
   "metadata": {},
   "outputs": [
    {
     "data": {
      "text/plain": [
       "0   2021-09-25\n",
       "1   2021-09-24\n",
       "2   2021-09-24\n",
       "3   2021-09-22\n",
       "4   2021-09-24\n",
       "Name: date_added, dtype: datetime64[ns]"
      ]
     },
     "execution_count": 32,
     "metadata": {},
     "output_type": "execute_result"
    }
   ],
   "source": [
    "# convert the column to datetime and show first 5 rows.\n",
    "\n",
    "df['date_added'] = pd.to_datetime(df['date_added'])\n",
    "df['date_added'].head()"
   ]
  },
  {
   "cell_type": "code",
   "execution_count": 33,
   "id": "0f529bcf",
   "metadata": {},
   "outputs": [
    {
     "data": {
      "text/html": [
       "<div>\n",
       "<style scoped>\n",
       "    .dataframe tbody tr th:only-of-type {\n",
       "        vertical-align: middle;\n",
       "    }\n",
       "\n",
       "    .dataframe tbody tr th {\n",
       "        vertical-align: top;\n",
       "    }\n",
       "\n",
       "    .dataframe thead th {\n",
       "        text-align: right;\n",
       "    }\n",
       "</style>\n",
       "<table border=\"1\" class=\"dataframe\">\n",
       "  <thead>\n",
       "    <tr style=\"text-align: right;\">\n",
       "      <th></th>\n",
       "      <th>date_added</th>\n",
       "    </tr>\n",
       "  </thead>\n",
       "  <tbody>\n",
       "    <tr>\n",
       "      <th>count</th>\n",
       "      <td>8790</td>\n",
       "    </tr>\n",
       "    <tr>\n",
       "      <th>mean</th>\n",
       "      <td>2019-05-17 21:44:01.638225408</td>\n",
       "    </tr>\n",
       "    <tr>\n",
       "      <th>min</th>\n",
       "      <td>2008-01-01 00:00:00</td>\n",
       "    </tr>\n",
       "    <tr>\n",
       "      <th>25%</th>\n",
       "      <td>2018-04-06 00:00:00</td>\n",
       "    </tr>\n",
       "    <tr>\n",
       "      <th>50%</th>\n",
       "      <td>2019-07-03 00:00:00</td>\n",
       "    </tr>\n",
       "    <tr>\n",
       "      <th>75%</th>\n",
       "      <td>2020-08-19 18:00:00</td>\n",
       "    </tr>\n",
       "    <tr>\n",
       "      <th>max</th>\n",
       "      <td>2021-09-25 00:00:00</td>\n",
       "    </tr>\n",
       "  </tbody>\n",
       "</table>\n",
       "</div>"
      ],
      "text/plain": [
       "                          date_added\n",
       "count                           8790\n",
       "mean   2019-05-17 21:44:01.638225408\n",
       "min              2008-01-01 00:00:00\n",
       "25%              2018-04-06 00:00:00\n",
       "50%              2019-07-03 00:00:00\n",
       "75%              2020-08-19 18:00:00\n",
       "max              2021-09-25 00:00:00"
      ]
     },
     "execution_count": 33,
     "metadata": {},
     "output_type": "execute_result"
    }
   ],
   "source": [
    "# Now that the column has been converted, we can perform descriptive statistics.\n",
    "\n",
    "df[['date_added']].describe(datetime_is_numeric=True)"
   ]
  },
  {
   "cell_type": "markdown",
   "id": "d099bcd7",
   "metadata": {},
   "source": [
    "- count: number of content added to the streaming platform is 8790.\n",
    "- mean year that content was added is 2019.\n",
    "- The minimum number of content added was 2008.\n",
    "- 25% of content was added between 2008 and 2018.\n",
    "- 50% of content was added before 2019 and 50% was added after 2019.\n",
    "- 75% of content was added from 2008 and 2020.\n",
    "- The maximum number of content was added in 2021.  \n",
    "- The content is generally added to the platform at midnight. "
   ]
  },
  {
   "cell_type": "markdown",
   "id": "824fca69",
   "metadata": {},
   "source": [
    "# 'release_year' column"
   ]
  },
  {
   "cell_type": "code",
   "execution_count": 34,
   "id": "b5f1159f",
   "metadata": {},
   "outputs": [
    {
     "data": {
      "text/plain": [
       "2018    1146\n",
       "2017    1030\n",
       "2019    1030\n",
       "2020     953\n",
       "2016     901\n",
       "2021     592\n",
       "2015     555\n",
       "2014     352\n",
       "2013     286\n",
       "2012     236\n",
       "Name: release_year, dtype: int64"
      ]
     },
     "execution_count": 34,
     "metadata": {},
     "output_type": "execute_result"
    }
   ],
   "source": [
    "# Top 10 release years\n",
    "\n",
    "df['release_year'].value_counts().head(10)"
   ]
  },
  {
   "cell_type": "code",
   "execution_count": 35,
   "id": "0e041ddf",
   "metadata": {},
   "outputs": [
    {
     "data": {
      "text/html": [
       "<div>\n",
       "<style scoped>\n",
       "    .dataframe tbody tr th:only-of-type {\n",
       "        vertical-align: middle;\n",
       "    }\n",
       "\n",
       "    .dataframe tbody tr th {\n",
       "        vertical-align: top;\n",
       "    }\n",
       "\n",
       "    .dataframe thead th {\n",
       "        text-align: right;\n",
       "    }\n",
       "</style>\n",
       "<table border=\"1\" class=\"dataframe\">\n",
       "  <thead>\n",
       "    <tr style=\"text-align: right;\">\n",
       "      <th></th>\n",
       "      <th>release_year</th>\n",
       "    </tr>\n",
       "  </thead>\n",
       "  <tbody>\n",
       "    <tr>\n",
       "      <th>count</th>\n",
       "      <td>8790.000000</td>\n",
       "    </tr>\n",
       "    <tr>\n",
       "      <th>mean</th>\n",
       "      <td>2014.183163</td>\n",
       "    </tr>\n",
       "    <tr>\n",
       "      <th>std</th>\n",
       "      <td>8.825466</td>\n",
       "    </tr>\n",
       "    <tr>\n",
       "      <th>min</th>\n",
       "      <td>1925.000000</td>\n",
       "    </tr>\n",
       "    <tr>\n",
       "      <th>25%</th>\n",
       "      <td>2013.000000</td>\n",
       "    </tr>\n",
       "    <tr>\n",
       "      <th>50%</th>\n",
       "      <td>2017.000000</td>\n",
       "    </tr>\n",
       "    <tr>\n",
       "      <th>75%</th>\n",
       "      <td>2019.000000</td>\n",
       "    </tr>\n",
       "    <tr>\n",
       "      <th>max</th>\n",
       "      <td>2021.000000</td>\n",
       "    </tr>\n",
       "  </tbody>\n",
       "</table>\n",
       "</div>"
      ],
      "text/plain": [
       "       release_year\n",
       "count   8790.000000\n",
       "mean    2014.183163\n",
       "std        8.825466\n",
       "min     1925.000000\n",
       "25%     2013.000000\n",
       "50%     2017.000000\n",
       "75%     2019.000000\n",
       "max     2021.000000"
      ]
     },
     "execution_count": 35,
     "metadata": {},
     "output_type": "execute_result"
    }
   ],
   "source": [
    "# As most of the data is non numerical, descriptive statistics for numerical data is limited\n",
    "\n",
    "df.describe()"
   ]
  },
  {
   "cell_type": "markdown",
   "id": "91b4b864",
   "metadata": {},
   "source": [
    "- count - 8790 movies released.\n",
    "\n",
    "- 25% of movies was released between 1925 and 2013.\n",
    "\n",
    "- 50% of movies were released before 2017 and 50% after 2017.\n",
    "\n",
    "- 75% of movies were released between 1925 and 2019.\n",
    "\n",
    "- 25% of movies were released between 2019 and 2021.\n",
    "\n",
    "- 1925 indicates the year with the minimum movie releases.\n",
    "\n",
    "- 2021 indicates the year with the maximum movie releases.\n",
    "\n",
    "- Mean release year is approximately 2014.\n",
    "\n",
    "- Standard Deviation is approximately 8.82 years. This seems relatively low indicating majority of the movies do not deviate from the mean (2014).\n",
    "\n",
    "See below for visualisation.\n"
   ]
  },
  {
   "cell_type": "code",
   "execution_count": 36,
   "id": "808b67e7",
   "metadata": {},
   "outputs": [
    {
     "data": {
      "image/png": "[encoded data removed]",
      "text/plain": [
       "<Figure size 1000x600 with 1 Axes>"
      ]
     },
     "metadata": {},
     "output_type": "display_data"
    }
   ],
   "source": [
    "# As we are dealing with numerical data, we can plot the distribution of release years. \n",
    "\n",
    "plt.figure(figsize=(10, 6))\n",
    "sns.boxplot(x=df['release_year'], width=0.5);\n",
    "plt.title('Distribution of Release Year')\n",
    "plt.show()"
   ]
  },
  {
   "cell_type": "markdown",
   "id": "ec001efe",
   "metadata": {},
   "source": [
    "The data looks significantly positively skewed with many outliers "
   ]
  },
  {
   "cell_type": "code",
   "execution_count": 37,
   "id": "00f81f44",
   "metadata": {},
   "outputs": [
    {
     "data": {
      "text/plain": [
       "2013.0"
      ]
     },
     "execution_count": 37,
     "metadata": {},
     "output_type": "execute_result"
    }
   ],
   "source": [
    "# Calculate Q1 and Q3\n",
    "\n",
    "Q1 = df['release_year'].quantile(0.25)\n",
    "Q3 = df['release_year'].quantile(0.75)\n",
    "\n",
    "Q1 # the data point exactly halfway through the lower half of the dataset. "
   ]
  },
  {
   "cell_type": "code",
   "execution_count": 38,
   "id": "c795d3a5",
   "metadata": {},
   "outputs": [
    {
     "data": {
      "text/plain": [
       "2019.0"
      ]
     },
     "execution_count": 38,
     "metadata": {},
     "output_type": "execute_result"
    }
   ],
   "source": [
    "# Q3 - halfway point from the median to the end of the dataset. \n",
    "\n",
    "Q3"
   ]
  },
  {
   "cell_type": "code",
   "execution_count": 39,
   "id": "952a8835",
   "metadata": {},
   "outputs": [
    {
     "data": {
      "text/plain": [
       "6.0"
      ]
     },
     "execution_count": 39,
     "metadata": {},
     "output_type": "execute_result"
    }
   ],
   "source": [
    "# calculate IQR - a measure of the dispersion of data\n",
    "\n",
    "IQR = Q3 - Q1\n",
    "IQR "
   ]
  },
  {
   "cell_type": "code",
   "execution_count": 40,
   "id": "24d8bdd1",
   "metadata": {},
   "outputs": [
    {
     "data": {
      "text/plain": [
       "2004.0"
      ]
     },
     "execution_count": 40,
     "metadata": {},
     "output_type": "execute_result"
    }
   ],
   "source": [
    "# lower boundary = Q1 - 1.5 * IQR\n",
    "\n",
    "lower_limit = Q1 - (1.5*IQR)\n",
    "lower_limit"
   ]
  },
  {
   "cell_type": "code",
   "execution_count": 41,
   "id": "7ccc2ee0",
   "metadata": {},
   "outputs": [
    {
     "data": {
      "text/plain": [
       "2028.0"
      ]
     },
     "execution_count": 41,
     "metadata": {},
     "output_type": "execute_result"
    }
   ],
   "source": [
    "# upper boundary = Q3 + 1.5 * IQR\n",
    "\n",
    "upper_limit = Q3 + (1.5*IQR)\n",
    "upper_limit"
   ]
  },
  {
   "cell_type": "markdown",
   "id": "b45c23b3",
   "metadata": {},
   "source": [
    "Anything beyond the lower and upper boundaries are considered to be outliers. Let's calculate the number of outliers. "
   ]
  },
  {
   "cell_type": "code",
   "execution_count": 42,
   "id": "2ec84acf",
   "metadata": {},
   "outputs": [
    {
     "data": {
      "text/plain": [
       "781"
      ]
     },
     "execution_count": 42,
     "metadata": {},
     "output_type": "execute_result"
    }
   ],
   "source": [
    "# Use the lower limit to locate all outliers. \n",
    "\n",
    "outliers = sum(df['release_year'] <= 2004)\n",
    "outliers"
   ]
  },
  {
   "cell_type": "code",
   "execution_count": 43,
   "id": "a80623e8",
   "metadata": {},
   "outputs": [
    {
     "data": {
      "text/plain": [
       "8.89"
      ]
     },
     "execution_count": 43,
     "metadata": {},
     "output_type": "execute_result"
    }
   ],
   "source": [
    "percentage_outliers = round((outliers / len(df)) * 100, 2)\n",
    "percentage_outliers"
   ]
  },
  {
   "cell_type": "markdown",
   "id": "ccd486af",
   "metadata": {},
   "source": [
    "Above, we have calculated the number of outliers (781) in the data set and converted that to a percentage (8.89%). If we were to drop the outliers, this would narrow the data set due to 781 missing rows. "
   ]
  },
  {
   "cell_type": "markdown",
   "id": "2a9e9d76",
   "metadata": {},
   "source": [
    "# 'rating' column"
   ]
  },
  {
   "cell_type": "code",
   "execution_count": 44,
   "id": "279540dc",
   "metadata": {},
   "outputs": [
    {
     "data": {
      "text/plain": [
       "8790"
      ]
     },
     "execution_count": 44,
     "metadata": {},
     "output_type": "execute_result"
    }
   ],
   "source": [
    "# There is no missing data\n",
    "\n",
    "df['rating'].count()"
   ]
  },
  {
   "cell_type": "code",
   "execution_count": 45,
   "id": "cd824fa7",
   "metadata": {},
   "outputs": [
    {
     "data": {
      "text/plain": [
       "14"
      ]
     },
     "execution_count": 45,
     "metadata": {},
     "output_type": "execute_result"
    }
   ],
   "source": [
    "# There are 14 unique ratings\n",
    "\n",
    "df['rating'].nunique()"
   ]
  },
  {
   "cell_type": "code",
   "execution_count": 46,
   "id": "cee80b6b",
   "metadata": {},
   "outputs": [
    {
     "data": {
      "text/plain": [
       "TV-MA       3205\n",
       "TV-14       2157\n",
       "TV-PG        861\n",
       "R            799\n",
       "PG-13        490\n",
       "TV-Y7        333\n",
       "TV-Y         306\n",
       "PG           287\n",
       "TV-G         220\n",
       "NR            79\n",
       "G             41\n",
       "TV-Y7-FV       6\n",
       "NC-17          3\n",
       "UR             3\n",
       "Name: rating, dtype: int64"
      ]
     },
     "execution_count": 46,
     "metadata": {},
     "output_type": "execute_result"
    }
   ],
   "source": [
    "# Unique ratings \n",
    "\n",
    "df['rating'].value_counts()"
   ]
  },
  {
   "cell_type": "markdown",
   "id": "1454bab0",
   "metadata": {},
   "source": [
    "Decription of ratings: https://www.spectrum.net/support/tv/tv-and-movie-ratings-descriptions"
   ]
  },
  {
   "cell_type": "markdown",
   "id": "dacca715",
   "metadata": {},
   "source": [
    "Top 5 content ratings:\n",
    "1. TV-MA (TV shows, mature audience)\n",
    "2. TV-14 (TV-parents strongly cautioned)\n",
    "3. TV-PG (Parental Guidance\n",
    "4. R (Restricted)\n",
    "5. PG-13 (Movies: Parent Strongly Cautioned)"
   ]
  },
  {
   "cell_type": "markdown",
   "id": "97e36685",
   "metadata": {},
   "source": [
    "# 'duration' column"
   ]
  },
  {
   "cell_type": "code",
   "execution_count": 47,
   "id": "fa948f28",
   "metadata": {},
   "outputs": [
    {
     "data": {
      "text/plain": [
       "8790"
      ]
     },
     "execution_count": 47,
     "metadata": {},
     "output_type": "execute_result"
    }
   ],
   "source": [
    "# There seems to be no missing data\n",
    "\n",
    "df['duration'].count()"
   ]
  },
  {
   "cell_type": "code",
   "execution_count": 48,
   "id": "9c490952",
   "metadata": {},
   "outputs": [
    {
     "data": {
      "text/plain": [
       "0"
      ]
     },
     "execution_count": 48,
     "metadata": {},
     "output_type": "execute_result"
    }
   ],
   "source": [
    "df['duration'].isnull().sum()"
   ]
  },
  {
   "cell_type": "code",
   "execution_count": 49,
   "id": "4ce6ab89",
   "metadata": {},
   "outputs": [
    {
     "data": {
      "text/plain": [
       "1 Season      1791\n",
       "2 Seasons      421\n",
       "3 Seasons      198\n",
       "90 min         152\n",
       "97 min         146\n",
       "              ... \n",
       "5 min            1\n",
       "16 min           1\n",
       "186 min          1\n",
       "193 min          1\n",
       "11 Seasons       1\n",
       "Name: duration, Length: 220, dtype: int64"
      ]
     },
     "execution_count": 49,
     "metadata": {},
     "output_type": "execute_result"
    }
   ],
   "source": [
    "# There are 220 different durations in the dataset, 1 season occuring most frequently (1791).\n",
    "\n",
    "df['duration'].value_counts()"
   ]
  },
  {
   "cell_type": "code",
   "execution_count": 50,
   "id": "c70011b3",
   "metadata": {},
   "outputs": [
    {
     "data": {
      "text/plain": [
       "count         8790\n",
       "unique         220\n",
       "top       1 Season\n",
       "freq          1791\n",
       "Name: duration, dtype: object"
      ]
     },
     "execution_count": 50,
     "metadata": {},
     "output_type": "execute_result"
    }
   ],
   "source": [
    "df['duration'].describe()"
   ]
  },
  {
   "cell_type": "code",
   "execution_count": 51,
   "id": "4b1878ed",
   "metadata": {},
   "outputs": [
    {
     "data": {
      "text/plain": [
       "'99 min'"
      ]
     },
     "execution_count": 51,
     "metadata": {},
     "output_type": "execute_result"
    }
   ],
   "source": [
    "# Longest movie is 99 minutes \n",
    "\n",
    "df[df['type'] == 'Movie']['duration'].max()"
   ]
  },
  {
   "cell_type": "code",
   "execution_count": 52,
   "id": "bf6ed4d9",
   "metadata": {},
   "outputs": [
    {
     "data": {
      "text/html": [
       "<div>\n",
       "<style scoped>\n",
       "    .dataframe tbody tr th:only-of-type {\n",
       "        vertical-align: middle;\n",
       "    }\n",
       "\n",
       "    .dataframe tbody tr th {\n",
       "        vertical-align: top;\n",
       "    }\n",
       "\n",
       "    .dataframe thead th {\n",
       "        text-align: right;\n",
       "    }\n",
       "</style>\n",
       "<table border=\"1\" class=\"dataframe\">\n",
       "  <thead>\n",
       "    <tr style=\"text-align: right;\">\n",
       "      <th></th>\n",
       "      <th>show_id</th>\n",
       "      <th>type</th>\n",
       "      <th>title</th>\n",
       "      <th>director</th>\n",
       "      <th>country</th>\n",
       "      <th>date_added</th>\n",
       "      <th>release_year</th>\n",
       "      <th>rating</th>\n",
       "      <th>duration</th>\n",
       "      <th>listed_in</th>\n",
       "    </tr>\n",
       "  </thead>\n",
       "  <tbody>\n",
       "    <tr>\n",
       "      <th>68</th>\n",
       "      <td>s52</td>\n",
       "      <td>Movie</td>\n",
       "      <td>InuYasha the Movie 2: The Castle Beyond the Lo...</td>\n",
       "      <td>Toshiya Shinohara</td>\n",
       "      <td>Japan</td>\n",
       "      <td>2021-09-15</td>\n",
       "      <td>2002</td>\n",
       "      <td>TV-14</td>\n",
       "      <td>99 min</td>\n",
       "      <td>Action &amp; Adventure, Anime Features, Internatio...</td>\n",
       "    </tr>\n",
       "    <tr>\n",
       "      <th>69</th>\n",
       "      <td>s53</td>\n",
       "      <td>Movie</td>\n",
       "      <td>InuYasha the Movie 3: Swords of an Honorable R...</td>\n",
       "      <td>Toshiya Shinohara</td>\n",
       "      <td>Japan</td>\n",
       "      <td>2021-09-15</td>\n",
       "      <td>2003</td>\n",
       "      <td>TV-14</td>\n",
       "      <td>99 min</td>\n",
       "      <td>Action &amp; Adventure, Anime Features, Internatio...</td>\n",
       "    </tr>\n",
       "    <tr>\n",
       "      <th>173</th>\n",
       "      <td>s120</td>\n",
       "      <td>Movie</td>\n",
       "      <td>Here and There</td>\n",
       "      <td>JP Habac</td>\n",
       "      <td>Philippines</td>\n",
       "      <td>2021-09-02</td>\n",
       "      <td>2020</td>\n",
       "      <td>TV-MA</td>\n",
       "      <td>99 min</td>\n",
       "      <td>Dramas, International Movies, Romantic Movies</td>\n",
       "    </tr>\n",
       "    <tr>\n",
       "      <th>476</th>\n",
       "      <td>s338</td>\n",
       "      <td>Movie</td>\n",
       "      <td>Good Luck Chuck</td>\n",
       "      <td>Mark Helfrich</td>\n",
       "      <td>United States</td>\n",
       "      <td>2021-08-01</td>\n",
       "      <td>2007</td>\n",
       "      <td>R</td>\n",
       "      <td>99 min</td>\n",
       "      <td>Comedies, Romantic Movies</td>\n",
       "    </tr>\n",
       "    <tr>\n",
       "      <th>488</th>\n",
       "      <td>s345</td>\n",
       "      <td>Movie</td>\n",
       "      <td>My Girl 2</td>\n",
       "      <td>Howard Zieff</td>\n",
       "      <td>United States</td>\n",
       "      <td>2021-08-01</td>\n",
       "      <td>1994</td>\n",
       "      <td>PG</td>\n",
       "      <td>99 min</td>\n",
       "      <td>Children &amp; Family Movies, Comedies, Dramas</td>\n",
       "    </tr>\n",
       "  </tbody>\n",
       "</table>\n",
       "</div>"
      ],
      "text/plain": [
       "    show_id   type                                              title  \\\n",
       "68      s52  Movie  InuYasha the Movie 2: The Castle Beyond the Lo...   \n",
       "69      s53  Movie  InuYasha the Movie 3: Swords of an Honorable R...   \n",
       "173    s120  Movie                                     Here and There   \n",
       "476    s338  Movie                                    Good Luck Chuck   \n",
       "488    s345  Movie                                          My Girl 2   \n",
       "\n",
       "              director        country date_added  release_year rating  \\\n",
       "68   Toshiya Shinohara          Japan 2021-09-15          2002  TV-14   \n",
       "69   Toshiya Shinohara          Japan 2021-09-15          2003  TV-14   \n",
       "173           JP Habac    Philippines 2021-09-02          2020  TV-MA   \n",
       "476      Mark Helfrich  United States 2021-08-01          2007      R   \n",
       "488       Howard Zieff  United States 2021-08-01          1994     PG   \n",
       "\n",
       "    duration                                          listed_in  \n",
       "68    99 min  Action & Adventure, Anime Features, Internatio...  \n",
       "69    99 min  Action & Adventure, Anime Features, Internatio...  \n",
       "173   99 min      Dramas, International Movies, Romantic Movies  \n",
       "476   99 min                          Comedies, Romantic Movies  \n",
       "488   99 min         Children & Family Movies, Comedies, Dramas  "
      ]
     },
     "execution_count": 52,
     "metadata": {},
     "output_type": "execute_result"
    }
   ],
   "source": [
    "# There are 118 movies that are 99 minutes long\n",
    "\n",
    "df[df['duration'] == '99 min'].head()"
   ]
  },
  {
   "cell_type": "code",
   "execution_count": 53,
   "id": "a372b4fe",
   "metadata": {},
   "outputs": [
    {
     "data": {
      "text/plain": [
       "'10 min'"
      ]
     },
     "execution_count": 53,
     "metadata": {},
     "output_type": "execute_result"
    }
   ],
   "source": [
    "# Shortest Movie is 10 mins\n",
    "\n",
    "df[df['type'] == 'Movie']['duration'].min()"
   ]
  },
  {
   "cell_type": "code",
   "execution_count": 54,
   "id": "df742a6a",
   "metadata": {},
   "outputs": [
    {
     "data": {
      "text/html": [
       "<div>\n",
       "<style scoped>\n",
       "    .dataframe tbody tr th:only-of-type {\n",
       "        vertical-align: middle;\n",
       "    }\n",
       "\n",
       "    .dataframe tbody tr th {\n",
       "        vertical-align: top;\n",
       "    }\n",
       "\n",
       "    .dataframe thead th {\n",
       "        text-align: right;\n",
       "    }\n",
       "</style>\n",
       "<table border=\"1\" class=\"dataframe\">\n",
       "  <thead>\n",
       "    <tr style=\"text-align: right;\">\n",
       "      <th></th>\n",
       "      <th>show_id</th>\n",
       "      <th>type</th>\n",
       "      <th>title</th>\n",
       "      <th>director</th>\n",
       "      <th>country</th>\n",
       "      <th>date_added</th>\n",
       "      <th>release_year</th>\n",
       "      <th>rating</th>\n",
       "      <th>duration</th>\n",
       "      <th>listed_in</th>\n",
       "    </tr>\n",
       "  </thead>\n",
       "  <tbody>\n",
       "    <tr>\n",
       "      <th>7575</th>\n",
       "      <td>s3536</td>\n",
       "      <td>Movie</td>\n",
       "      <td>American Factory: A Conversation with the Obamas</td>\n",
       "      <td>Not Given</td>\n",
       "      <td>United States</td>\n",
       "      <td>2019-09-05</td>\n",
       "      <td>2019</td>\n",
       "      <td>TV-G</td>\n",
       "      <td>10 min</td>\n",
       "      <td>Documentaries</td>\n",
       "    </tr>\n",
       "  </tbody>\n",
       "</table>\n",
       "</div>"
      ],
      "text/plain": [
       "     show_id   type                                             title  \\\n",
       "7575   s3536  Movie  American Factory: A Conversation with the Obamas   \n",
       "\n",
       "       director        country date_added  release_year rating duration  \\\n",
       "7575  Not Given  United States 2019-09-05          2019   TV-G   10 min   \n",
       "\n",
       "          listed_in  \n",
       "7575  Documentaries  "
      ]
     },
     "execution_count": 54,
     "metadata": {},
     "output_type": "execute_result"
    }
   ],
   "source": [
    "# Shortest movie is listed as a documentary.\n",
    "\n",
    "df[df['duration'] == '10 min']"
   ]
  },
  {
   "cell_type": "code",
   "execution_count": 55,
   "id": "4c2ba734",
   "metadata": {},
   "outputs": [
    {
     "data": {
      "text/plain": [
       "'9 Seasons'"
      ]
     },
     "execution_count": 55,
     "metadata": {},
     "output_type": "execute_result"
    }
   ],
   "source": [
    "# Longest TV Show/s had 9 seasons \n",
    "\n",
    "df[df['type'] == 'TV Show']['duration'].max()"
   ]
  },
  {
   "cell_type": "code",
   "execution_count": 56,
   "id": "30690c77",
   "metadata": {},
   "outputs": [
    {
     "data": {
      "text/html": [
       "<div>\n",
       "<style scoped>\n",
       "    .dataframe tbody tr th:only-of-type {\n",
       "        vertical-align: middle;\n",
       "    }\n",
       "\n",
       "    .dataframe tbody tr th {\n",
       "        vertical-align: top;\n",
       "    }\n",
       "\n",
       "    .dataframe thead th {\n",
       "        text-align: right;\n",
       "    }\n",
       "</style>\n",
       "<table border=\"1\" class=\"dataframe\">\n",
       "  <thead>\n",
       "    <tr style=\"text-align: right;\">\n",
       "      <th></th>\n",
       "      <th>show_id</th>\n",
       "      <th>type</th>\n",
       "      <th>title</th>\n",
       "      <th>director</th>\n",
       "      <th>country</th>\n",
       "      <th>date_added</th>\n",
       "      <th>release_year</th>\n",
       "      <th>rating</th>\n",
       "      <th>duration</th>\n",
       "      <th>listed_in</th>\n",
       "    </tr>\n",
       "  </thead>\n",
       "  <tbody>\n",
       "    <tr>\n",
       "      <th>5</th>\n",
       "      <td>s9</td>\n",
       "      <td>TV Show</td>\n",
       "      <td>The Great British Baking Show</td>\n",
       "      <td>Andy Devonshire</td>\n",
       "      <td>United Kingdom</td>\n",
       "      <td>2021-09-24</td>\n",
       "      <td>2021</td>\n",
       "      <td>TV-14</td>\n",
       "      <td>9 Seasons</td>\n",
       "      <td>British TV Shows, Reality TV</td>\n",
       "    </tr>\n",
       "    <tr>\n",
       "      <th>551</th>\n",
       "      <td>s6505</td>\n",
       "      <td>TV Show</td>\n",
       "      <td>Club Friday The Series 6</td>\n",
       "      <td>Not Given</td>\n",
       "      <td>Pakistan</td>\n",
       "      <td>2019-03-09</td>\n",
       "      <td>2015</td>\n",
       "      <td>TV-MA</td>\n",
       "      <td>9 Seasons</td>\n",
       "      <td>International TV Shows, Romantic TV Shows, TV ...</td>\n",
       "    </tr>\n",
       "    <tr>\n",
       "      <th>1689</th>\n",
       "      <td>s1999</td>\n",
       "      <td>TV Show</td>\n",
       "      <td>Call the Midwife</td>\n",
       "      <td>Philippa Lowthorpe</td>\n",
       "      <td>United Kingdom</td>\n",
       "      <td>2020-09-15</td>\n",
       "      <td>2020</td>\n",
       "      <td>TV-MA</td>\n",
       "      <td>9 Seasons</td>\n",
       "      <td>British TV Shows, International TV Shows, TV D...</td>\n",
       "    </tr>\n",
       "    <tr>\n",
       "      <th>2690</th>\n",
       "      <td>s3542</td>\n",
       "      <td>TV Show</td>\n",
       "      <td>Naruto</td>\n",
       "      <td>Hayato Date</td>\n",
       "      <td>Japan</td>\n",
       "      <td>2019-09-01</td>\n",
       "      <td>2006</td>\n",
       "      <td>TV-14</td>\n",
       "      <td>9 Seasons</td>\n",
       "      <td>Anime Series, International TV Shows</td>\n",
       "    </tr>\n",
       "    <tr>\n",
       "      <th>6584</th>\n",
       "      <td>s68</td>\n",
       "      <td>TV Show</td>\n",
       "      <td>Saved by the Bell</td>\n",
       "      <td>Not Given</td>\n",
       "      <td>United States</td>\n",
       "      <td>2021-09-15</td>\n",
       "      <td>1994</td>\n",
       "      <td>TV-PG</td>\n",
       "      <td>9 Seasons</td>\n",
       "      <td>Kids' TV, TV Comedies</td>\n",
       "    </tr>\n",
       "  </tbody>\n",
       "</table>\n",
       "</div>"
      ],
      "text/plain": [
       "     show_id     type                          title            director  \\\n",
       "5         s9  TV Show  The Great British Baking Show     Andy Devonshire   \n",
       "551    s6505  TV Show       Club Friday The Series 6           Not Given   \n",
       "1689   s1999  TV Show               Call the Midwife  Philippa Lowthorpe   \n",
       "2690   s3542  TV Show                         Naruto         Hayato Date   \n",
       "6584     s68  TV Show              Saved by the Bell           Not Given   \n",
       "\n",
       "             country date_added  release_year rating   duration  \\\n",
       "5     United Kingdom 2021-09-24          2021  TV-14  9 Seasons   \n",
       "551         Pakistan 2019-03-09          2015  TV-MA  9 Seasons   \n",
       "1689  United Kingdom 2020-09-15          2020  TV-MA  9 Seasons   \n",
       "2690           Japan 2019-09-01          2006  TV-14  9 Seasons   \n",
       "6584   United States 2021-09-15          1994  TV-PG  9 Seasons   \n",
       "\n",
       "                                              listed_in  \n",
       "5                          British TV Shows, Reality TV  \n",
       "551   International TV Shows, Romantic TV Shows, TV ...  \n",
       "1689  British TV Shows, International TV Shows, TV D...  \n",
       "2690               Anime Series, International TV Shows  \n",
       "6584                              Kids' TV, TV Comedies  "
      ]
     },
     "execution_count": 56,
     "metadata": {},
     "output_type": "execute_result"
    }
   ],
   "source": [
    "# There are 9 TV Shows that are 9 seasons long, majority of which were produced in USA\n",
    "\n",
    "df[df['duration'] == '9 Seasons'].head()"
   ]
  },
  {
   "cell_type": "code",
   "execution_count": 57,
   "id": "12317157",
   "metadata": {},
   "outputs": [
    {
     "data": {
      "text/plain": [
       "'1 Season'"
      ]
     },
     "execution_count": 57,
     "metadata": {},
     "output_type": "execute_result"
    }
   ],
   "source": [
    "# Shortest TV Show had 1 season.\n",
    "\n",
    "df[df['type'] == 'TV Show']['duration'].min()"
   ]
  },
  {
   "cell_type": "code",
   "execution_count": 58,
   "id": "a50da827",
   "metadata": {},
   "outputs": [
    {
     "data": {
      "text/html": [
       "<div>\n",
       "<style scoped>\n",
       "    .dataframe tbody tr th:only-of-type {\n",
       "        vertical-align: middle;\n",
       "    }\n",
       "\n",
       "    .dataframe tbody tr th {\n",
       "        vertical-align: top;\n",
       "    }\n",
       "\n",
       "    .dataframe thead th {\n",
       "        text-align: right;\n",
       "    }\n",
       "</style>\n",
       "<table border=\"1\" class=\"dataframe\">\n",
       "  <thead>\n",
       "    <tr style=\"text-align: right;\">\n",
       "      <th></th>\n",
       "      <th>show_id</th>\n",
       "      <th>type</th>\n",
       "      <th>title</th>\n",
       "      <th>director</th>\n",
       "      <th>country</th>\n",
       "      <th>date_added</th>\n",
       "      <th>release_year</th>\n",
       "      <th>rating</th>\n",
       "      <th>duration</th>\n",
       "      <th>listed_in</th>\n",
       "    </tr>\n",
       "  </thead>\n",
       "  <tbody>\n",
       "    <tr>\n",
       "      <th>1</th>\n",
       "      <td>s3</td>\n",
       "      <td>TV Show</td>\n",
       "      <td>Ganglands</td>\n",
       "      <td>Julien Leclercq</td>\n",
       "      <td>France</td>\n",
       "      <td>2021-09-24</td>\n",
       "      <td>2021</td>\n",
       "      <td>TV-MA</td>\n",
       "      <td>1 Season</td>\n",
       "      <td>Crime TV Shows, International TV Shows, TV Act...</td>\n",
       "    </tr>\n",
       "    <tr>\n",
       "      <th>2</th>\n",
       "      <td>s6</td>\n",
       "      <td>TV Show</td>\n",
       "      <td>Midnight Mass</td>\n",
       "      <td>Mike Flanagan</td>\n",
       "      <td>United States</td>\n",
       "      <td>2021-09-24</td>\n",
       "      <td>2021</td>\n",
       "      <td>TV-MA</td>\n",
       "      <td>1 Season</td>\n",
       "      <td>TV Dramas, TV Horror, TV Mysteries</td>\n",
       "    </tr>\n",
       "    <tr>\n",
       "      <th>17</th>\n",
       "      <td>s4</td>\n",
       "      <td>TV Show</td>\n",
       "      <td>Jailbirds New Orleans</td>\n",
       "      <td>Not Given</td>\n",
       "      <td>Pakistan</td>\n",
       "      <td>2021-09-24</td>\n",
       "      <td>2021</td>\n",
       "      <td>TV-MA</td>\n",
       "      <td>1 Season</td>\n",
       "      <td>Docuseries, Reality TV</td>\n",
       "    </tr>\n",
       "    <tr>\n",
       "      <th>18</th>\n",
       "      <td>s15</td>\n",
       "      <td>TV Show</td>\n",
       "      <td>Crime Stories: India Detectives</td>\n",
       "      <td>Not Given</td>\n",
       "      <td>Pakistan</td>\n",
       "      <td>2021-09-22</td>\n",
       "      <td>2021</td>\n",
       "      <td>TV-MA</td>\n",
       "      <td>1 Season</td>\n",
       "      <td>British TV Shows, Crime TV Shows, Docuseries</td>\n",
       "    </tr>\n",
       "    <tr>\n",
       "      <th>20</th>\n",
       "      <td>s4832</td>\n",
       "      <td>TV Show</td>\n",
       "      <td>True: Magical Friends</td>\n",
       "      <td>Mark Thornton, Todd Kauffman</td>\n",
       "      <td>United States</td>\n",
       "      <td>2018-06-15</td>\n",
       "      <td>2018</td>\n",
       "      <td>TV-Y</td>\n",
       "      <td>1 Season</td>\n",
       "      <td>Kids' TV</td>\n",
       "    </tr>\n",
       "  </tbody>\n",
       "</table>\n",
       "</div>"
      ],
      "text/plain": [
       "   show_id     type                            title  \\\n",
       "1       s3  TV Show                        Ganglands   \n",
       "2       s6  TV Show                    Midnight Mass   \n",
       "17      s4  TV Show            Jailbirds New Orleans   \n",
       "18     s15  TV Show  Crime Stories: India Detectives   \n",
       "20   s4832  TV Show            True: Magical Friends   \n",
       "\n",
       "                        director        country date_added  release_year  \\\n",
       "1                Julien Leclercq         France 2021-09-24          2021   \n",
       "2                  Mike Flanagan  United States 2021-09-24          2021   \n",
       "17                     Not Given       Pakistan 2021-09-24          2021   \n",
       "18                     Not Given       Pakistan 2021-09-22          2021   \n",
       "20  Mark Thornton, Todd Kauffman  United States 2018-06-15          2018   \n",
       "\n",
       "   rating  duration                                          listed_in  \n",
       "1   TV-MA  1 Season  Crime TV Shows, International TV Shows, TV Act...  \n",
       "2   TV-MA  1 Season                 TV Dramas, TV Horror, TV Mysteries  \n",
       "17  TV-MA  1 Season                             Docuseries, Reality TV  \n",
       "18  TV-MA  1 Season       British TV Shows, Crime TV Shows, Docuseries  \n",
       "20   TV-Y  1 Season                                           Kids' TV  "
      ]
     },
     "execution_count": 58,
     "metadata": {},
     "output_type": "execute_result"
    }
   ],
   "source": [
    "# 1791 TV Shows had 1 season.\n",
    "\n",
    "df[df['duration'] == '1 Season'].head()"
   ]
  },
  {
   "cell_type": "markdown",
   "id": "7b5ffc3f",
   "metadata": {},
   "source": [
    "# 'listed_in' column"
   ]
  },
  {
   "cell_type": "code",
   "execution_count": 59,
   "id": "230cadfb",
   "metadata": {},
   "outputs": [
    {
     "data": {
      "text/plain": [
       "8790"
      ]
     },
     "execution_count": 59,
     "metadata": {},
     "output_type": "execute_result"
    }
   ],
   "source": [
    "# There seems to be no missing values \n",
    "\n",
    "df['listed_in'].count()"
   ]
  },
  {
   "cell_type": "code",
   "execution_count": 60,
   "id": "95dbddf2",
   "metadata": {},
   "outputs": [
    {
     "data": {
      "text/html": [
       "<div>\n",
       "<style scoped>\n",
       "    .dataframe tbody tr th:only-of-type {\n",
       "        vertical-align: middle;\n",
       "    }\n",
       "\n",
       "    .dataframe tbody tr th {\n",
       "        vertical-align: top;\n",
       "    }\n",
       "\n",
       "    .dataframe thead th {\n",
       "        text-align: right;\n",
       "    }\n",
       "</style>\n",
       "<table border=\"1\" class=\"dataframe\">\n",
       "  <thead>\n",
       "    <tr style=\"text-align: right;\">\n",
       "      <th></th>\n",
       "      <th>show_id</th>\n",
       "      <th>type</th>\n",
       "      <th>title</th>\n",
       "      <th>director</th>\n",
       "      <th>country</th>\n",
       "      <th>date_added</th>\n",
       "      <th>release_year</th>\n",
       "      <th>rating</th>\n",
       "      <th>duration</th>\n",
       "      <th>listed_in</th>\n",
       "    </tr>\n",
       "  </thead>\n",
       "  <tbody>\n",
       "  </tbody>\n",
       "</table>\n",
       "</div>"
      ],
      "text/plain": [
       "Empty DataFrame\n",
       "Columns: [show_id, type, title, director, country, date_added, release_year, rating, duration, listed_in]\n",
       "Index: []"
      ]
     },
     "execution_count": 60,
     "metadata": {},
     "output_type": "execute_result"
    }
   ],
   "source": [
    "# No missing data \n",
    "\n",
    "df[df['listed_in'] == 'Not Given']"
   ]
  },
  {
   "cell_type": "code",
   "execution_count": 61,
   "id": "48b60a7f",
   "metadata": {},
   "outputs": [
    {
     "data": {
      "text/plain": [
       "Dramas, International Movies                                362\n",
       "Documentaries                                               359\n",
       "Stand-Up Comedy                                             334\n",
       "Comedies, Dramas, International Movies                      274\n",
       "Dramas, Independent Movies, International Movies            252\n",
       "                                                           ... \n",
       "Anime Features                                                1\n",
       "Action & Adventure, Horror Movies, Independent Movies         1\n",
       "Action & Adventure, Classic Movies, International Movies      1\n",
       "Cult Movies, Independent Movies, Thrillers                    1\n",
       "Classic & Cult TV, Crime TV Shows, TV Dramas                  1\n",
       "Name: listed_in, Length: 513, dtype: int64"
      ]
     },
     "execution_count": 61,
     "metadata": {},
     "output_type": "execute_result"
    }
   ],
   "source": [
    "# majority of the content in the data set is based on Dramas, Documentaries and Comedy.\n",
    "\n",
    "df['listed_in'].value_counts()"
   ]
  },
  {
   "cell_type": "code",
   "execution_count": 62,
   "id": "cf608495",
   "metadata": {},
   "outputs": [
    {
     "data": {
      "text/plain": [
       "513"
      ]
     },
     "execution_count": 62,
     "metadata": {},
     "output_type": "execute_result"
    }
   ],
   "source": [
    "# There is an exhaustive list of genres\n",
    "\n",
    "df['listed_in'].nunique()"
   ]
  },
  {
   "cell_type": "markdown",
   "id": "3544bfcb",
   "metadata": {},
   "source": [
    "# Descriptive Statistics on non numerical columns"
   ]
  },
  {
   "cell_type": "code",
   "execution_count": 63,
   "id": "ae579ae4",
   "metadata": {},
   "outputs": [
    {
     "data": {
      "text/html": [
       "<div>\n",
       "<style scoped>\n",
       "    .dataframe tbody tr th:only-of-type {\n",
       "        vertical-align: middle;\n",
       "    }\n",
       "\n",
       "    .dataframe tbody tr th {\n",
       "        vertical-align: top;\n",
       "    }\n",
       "\n",
       "    .dataframe thead th {\n",
       "        text-align: right;\n",
       "    }\n",
       "</style>\n",
       "<table border=\"1\" class=\"dataframe\">\n",
       "  <thead>\n",
       "    <tr style=\"text-align: right;\">\n",
       "      <th></th>\n",
       "      <th>show_id</th>\n",
       "      <th>type</th>\n",
       "      <th>title</th>\n",
       "      <th>director</th>\n",
       "      <th>country</th>\n",
       "      <th>rating</th>\n",
       "      <th>duration</th>\n",
       "      <th>listed_in</th>\n",
       "    </tr>\n",
       "  </thead>\n",
       "  <tbody>\n",
       "    <tr>\n",
       "      <th>count</th>\n",
       "      <td>8790</td>\n",
       "      <td>8790</td>\n",
       "      <td>8790</td>\n",
       "      <td>8790</td>\n",
       "      <td>8790</td>\n",
       "      <td>8790</td>\n",
       "      <td>8790</td>\n",
       "      <td>8790</td>\n",
       "    </tr>\n",
       "    <tr>\n",
       "      <th>unique</th>\n",
       "      <td>8790</td>\n",
       "      <td>2</td>\n",
       "      <td>8787</td>\n",
       "      <td>4528</td>\n",
       "      <td>86</td>\n",
       "      <td>14</td>\n",
       "      <td>220</td>\n",
       "      <td>513</td>\n",
       "    </tr>\n",
       "    <tr>\n",
       "      <th>top</th>\n",
       "      <td>s1</td>\n",
       "      <td>Movie</td>\n",
       "      <td>09-Feb</td>\n",
       "      <td>Not Given</td>\n",
       "      <td>United States</td>\n",
       "      <td>TV-MA</td>\n",
       "      <td>1 Season</td>\n",
       "      <td>Dramas, International Movies</td>\n",
       "    </tr>\n",
       "    <tr>\n",
       "      <th>freq</th>\n",
       "      <td>1</td>\n",
       "      <td>6126</td>\n",
       "      <td>2</td>\n",
       "      <td>2588</td>\n",
       "      <td>3240</td>\n",
       "      <td>3205</td>\n",
       "      <td>1791</td>\n",
       "      <td>362</td>\n",
       "    </tr>\n",
       "  </tbody>\n",
       "</table>\n",
       "</div>"
      ],
      "text/plain": [
       "       show_id   type   title   director        country rating  duration  \\\n",
       "count     8790   8790    8790       8790           8790   8790      8790   \n",
       "unique    8790      2    8787       4528             86     14       220   \n",
       "top         s1  Movie  09-Feb  Not Given  United States  TV-MA  1 Season   \n",
       "freq         1   6126       2       2588           3240   3205      1791   \n",
       "\n",
       "                           listed_in  \n",
       "count                           8790  \n",
       "unique                           513  \n",
       "top     Dramas, International Movies  \n",
       "freq                             362  "
      ]
     },
     "execution_count": 63,
     "metadata": {},
     "output_type": "execute_result"
    }
   ],
   "source": [
    "# descriptive statistics on non numerical (object) columns\n",
    "\n",
    "df.describe(include=['O'])"
   ]
  },
  {
   "cell_type": "markdown",
   "id": "ad03249b",
   "metadata": {},
   "source": [
    "# Netflix Content Observations"
   ]
  },
  {
   "cell_type": "markdown",
   "id": "1a10510a",
   "metadata": {},
   "source": [
    "- Majority of the content is focused on movies (69.9% or 6126).\n",
    "\n",
    "- Top 5 countries producing content: US, India, UK, Pakistan & Canada. This indicates a diverse range of content. \n",
    "\n",
    "- The mean release year is 2014, with the median as 2017 and Q3 as 2019 indicates that most of the content on Netflix is relatively recent, last 10 years.  \n",
    "\n",
    "- Top 10 release years were between 2012 and 2021, with the most movies released in 2018. \n",
    "\n",
    "- Netflix focuses on content suitable for a mature audience (\"TV-MA\" appears most frequently) and teenagers. Top 5 content ratings:TV-MA, TV-14, TV-PG, R, PG-13. \n",
    "\n",
    "- Top 3 listings: Dramas/International, Documentaries and Standup Comedy.  \n",
    "\n",
    "- Missing values: directors (29.4%) and countries (3.27%). Almost all of the missing values are in the 'directors' column, which should not have a significant impact on our conclusions.  "
   ]
  },
  {
   "cell_type": "markdown",
   "id": "ba11c0e9",
   "metadata": {},
   "source": [
    "# Data types in the dataset "
   ]
  },
  {
   "cell_type": "code",
   "execution_count": 64,
   "id": "25d12a95",
   "metadata": {},
   "outputs": [
    {
     "name": "stdout",
     "output_type": "stream",
     "text": [
      "<class 'pandas.core.frame.DataFrame'>\n",
      "RangeIndex: 8790 entries, 0 to 8789\n",
      "Data columns (total 10 columns):\n",
      " #   Column        Non-Null Count  Dtype         \n",
      "---  ------        --------------  -----         \n",
      " 0   show_id       8790 non-null   object        \n",
      " 1   type          8790 non-null   object        \n",
      " 2   title         8790 non-null   object        \n",
      " 3   director      8790 non-null   object        \n",
      " 4   country       8790 non-null   object        \n",
      " 5   date_added    8790 non-null   datetime64[ns]\n",
      " 6   release_year  8790 non-null   int64         \n",
      " 7   rating        8790 non-null   object        \n",
      " 8   duration      8790 non-null   object        \n",
      " 9   listed_in     8790 non-null   object        \n",
      "dtypes: datetime64[ns](1), int64(1), object(8)\n",
      "memory usage: 686.8+ KB\n"
     ]
    }
   ],
   "source": [
    "df.info()"
   ]
  },
  {
   "cell_type": "markdown",
   "id": "6e5f1aad",
   "metadata": {},
   "source": [
    "In order to observe correlations and perform visualisations, we need to look at the variables within the data. All columns (except 'release_year' and 'date_added') contain categorical data; types of data that may be divided into groups. These variables usually have a fixed number of values such as; country, type of content, ratings. "
   ]
  },
  {
   "cell_type": "markdown",
   "id": "b2bd9aa7",
   "metadata": {},
   "source": [
    "The data types in the data set is predominantly object data type except the 'release_year' column, which has an integer based data type. Therefore, numerical calculations are limited. \n",
    "\n",
    "Majority of the data cannot be ordered, except for 'duration', 'date_added' and 'release_year' columns.  "
   ]
  },
  {
   "cell_type": "markdown",
   "id": "94a8e28b",
   "metadata": {},
   "source": [
    "To draw insights from the data, it may be worth converting some of the columns ('type', 'country', 'rating', 'listed_in') into categorical data types. This can speed up some operations and save on memory. We are also likely to group the data and perform aggregate methods. "
   ]
  },
  {
   "cell_type": "markdown",
   "id": "198f16ac",
   "metadata": {},
   "source": [
    "# Data Manipulation and Cleaning \n",
    "- Apply functions to column and set show_id as index\n",
    "- remove duplicate titles (3)\n",
    "- convert 'not given' to unknown for 'country' and 'director' columns\n",
    "- convert column data types\n"
   ]
  },
  {
   "cell_type": "markdown",
   "id": "c29a0928",
   "metadata": {},
   "source": [
    "# Apply function to 'show_id' and set as the Index"
   ]
  },
  {
   "cell_type": "code",
   "execution_count": 65,
   "id": "3e7617fe",
   "metadata": {},
   "outputs": [
    {
     "data": {
      "text/plain": [
       "RangeIndex(start=0, stop=8790, step=1)"
      ]
     },
     "execution_count": 65,
     "metadata": {},
     "output_type": "execute_result"
    }
   ],
   "source": [
    "df.index"
   ]
  },
  {
   "cell_type": "code",
   "execution_count": 66,
   "id": "a7874680",
   "metadata": {},
   "outputs": [],
   "source": [
    "# define a function that takes a value and returns all characters after the first character 's'.\n",
    "# Return as an integer\n",
    "\n",
    "def remove_s(x):\n",
    "    return int(x[1:])"
   ]
  },
  {
   "cell_type": "code",
   "execution_count": 67,
   "id": "5b6e44d1",
   "metadata": {},
   "outputs": [],
   "source": [
    "# replace the 'show_id' column with function, apply to the column.\n",
    "\n",
    "df['show_id'] = df['show_id'].apply(remove_s)"
   ]
  },
  {
   "cell_type": "code",
   "execution_count": 68,
   "id": "a40c4d7e",
   "metadata": {},
   "outputs": [
    {
     "data": {
      "text/html": [
       "<div>\n",
       "<style scoped>\n",
       "    .dataframe tbody tr th:only-of-type {\n",
       "        vertical-align: middle;\n",
       "    }\n",
       "\n",
       "    .dataframe tbody tr th {\n",
       "        vertical-align: top;\n",
       "    }\n",
       "\n",
       "    .dataframe thead th {\n",
       "        text-align: right;\n",
       "    }\n",
       "</style>\n",
       "<table border=\"1\" class=\"dataframe\">\n",
       "  <thead>\n",
       "    <tr style=\"text-align: right;\">\n",
       "      <th></th>\n",
       "      <th>show_id</th>\n",
       "      <th>type</th>\n",
       "      <th>title</th>\n",
       "      <th>director</th>\n",
       "      <th>country</th>\n",
       "      <th>date_added</th>\n",
       "      <th>release_year</th>\n",
       "      <th>rating</th>\n",
       "      <th>duration</th>\n",
       "      <th>listed_in</th>\n",
       "    </tr>\n",
       "  </thead>\n",
       "  <tbody>\n",
       "    <tr>\n",
       "      <th>0</th>\n",
       "      <td>1</td>\n",
       "      <td>Movie</td>\n",
       "      <td>Dick Johnson Is Dead</td>\n",
       "      <td>Kirsten Johnson</td>\n",
       "      <td>United States</td>\n",
       "      <td>2021-09-25</td>\n",
       "      <td>2020</td>\n",
       "      <td>PG-13</td>\n",
       "      <td>90 min</td>\n",
       "      <td>Documentaries</td>\n",
       "    </tr>\n",
       "    <tr>\n",
       "      <th>1</th>\n",
       "      <td>3</td>\n",
       "      <td>TV Show</td>\n",
       "      <td>Ganglands</td>\n",
       "      <td>Julien Leclercq</td>\n",
       "      <td>France</td>\n",
       "      <td>2021-09-24</td>\n",
       "      <td>2021</td>\n",
       "      <td>TV-MA</td>\n",
       "      <td>1 Season</td>\n",
       "      <td>Crime TV Shows, International TV Shows, TV Act...</td>\n",
       "    </tr>\n",
       "    <tr>\n",
       "      <th>2</th>\n",
       "      <td>6</td>\n",
       "      <td>TV Show</td>\n",
       "      <td>Midnight Mass</td>\n",
       "      <td>Mike Flanagan</td>\n",
       "      <td>United States</td>\n",
       "      <td>2021-09-24</td>\n",
       "      <td>2021</td>\n",
       "      <td>TV-MA</td>\n",
       "      <td>1 Season</td>\n",
       "      <td>TV Dramas, TV Horror, TV Mysteries</td>\n",
       "    </tr>\n",
       "    <tr>\n",
       "      <th>3</th>\n",
       "      <td>14</td>\n",
       "      <td>Movie</td>\n",
       "      <td>Confessions of an Invisible Girl</td>\n",
       "      <td>Bruno Garotti</td>\n",
       "      <td>Brazil</td>\n",
       "      <td>2021-09-22</td>\n",
       "      <td>2021</td>\n",
       "      <td>TV-PG</td>\n",
       "      <td>91 min</td>\n",
       "      <td>Children &amp; Family Movies, Comedies</td>\n",
       "    </tr>\n",
       "    <tr>\n",
       "      <th>4</th>\n",
       "      <td>8</td>\n",
       "      <td>Movie</td>\n",
       "      <td>Sankofa</td>\n",
       "      <td>Haile Gerima</td>\n",
       "      <td>United States</td>\n",
       "      <td>2021-09-24</td>\n",
       "      <td>1993</td>\n",
       "      <td>TV-MA</td>\n",
       "      <td>125 min</td>\n",
       "      <td>Dramas, Independent Movies, International Movies</td>\n",
       "    </tr>\n",
       "  </tbody>\n",
       "</table>\n",
       "</div>"
      ],
      "text/plain": [
       "   show_id     type                             title         director  \\\n",
       "0        1    Movie              Dick Johnson Is Dead  Kirsten Johnson   \n",
       "1        3  TV Show                         Ganglands  Julien Leclercq   \n",
       "2        6  TV Show                     Midnight Mass    Mike Flanagan   \n",
       "3       14    Movie  Confessions of an Invisible Girl    Bruno Garotti   \n",
       "4        8    Movie                           Sankofa     Haile Gerima   \n",
       "\n",
       "         country date_added  release_year rating  duration  \\\n",
       "0  United States 2021-09-25          2020  PG-13    90 min   \n",
       "1         France 2021-09-24          2021  TV-MA  1 Season   \n",
       "2  United States 2021-09-24          2021  TV-MA  1 Season   \n",
       "3         Brazil 2021-09-22          2021  TV-PG    91 min   \n",
       "4  United States 2021-09-24          1993  TV-MA   125 min   \n",
       "\n",
       "                                           listed_in  \n",
       "0                                      Documentaries  \n",
       "1  Crime TV Shows, International TV Shows, TV Act...  \n",
       "2                 TV Dramas, TV Horror, TV Mysteries  \n",
       "3                 Children & Family Movies, Comedies  \n",
       "4   Dramas, Independent Movies, International Movies  "
      ]
     },
     "execution_count": 68,
     "metadata": {},
     "output_type": "execute_result"
    }
   ],
   "source": [
    "# 's' has been renived from the column.\n",
    "\n",
    "df.head()"
   ]
  },
  {
   "cell_type": "code",
   "execution_count": 69,
   "id": "e85c6c0a",
   "metadata": {},
   "outputs": [],
   "source": [
    "# set show_id as the index and save to original data frame\n",
    "\n",
    "df.set_index(['show_id'], inplace=True)"
   ]
  },
  {
   "cell_type": "code",
   "execution_count": 70,
   "id": "a31ea3c4",
   "metadata": {},
   "outputs": [
    {
     "data": {
      "text/html": [
       "<div>\n",
       "<style scoped>\n",
       "    .dataframe tbody tr th:only-of-type {\n",
       "        vertical-align: middle;\n",
       "    }\n",
       "\n",
       "    .dataframe tbody tr th {\n",
       "        vertical-align: top;\n",
       "    }\n",
       "\n",
       "    .dataframe thead th {\n",
       "        text-align: right;\n",
       "    }\n",
       "</style>\n",
       "<table border=\"1\" class=\"dataframe\">\n",
       "  <thead>\n",
       "    <tr style=\"text-align: right;\">\n",
       "      <th></th>\n",
       "      <th>type</th>\n",
       "      <th>title</th>\n",
       "      <th>director</th>\n",
       "      <th>country</th>\n",
       "      <th>date_added</th>\n",
       "      <th>release_year</th>\n",
       "      <th>rating</th>\n",
       "      <th>duration</th>\n",
       "      <th>listed_in</th>\n",
       "    </tr>\n",
       "    <tr>\n",
       "      <th>show_id</th>\n",
       "      <th></th>\n",
       "      <th></th>\n",
       "      <th></th>\n",
       "      <th></th>\n",
       "      <th></th>\n",
       "      <th></th>\n",
       "      <th></th>\n",
       "      <th></th>\n",
       "      <th></th>\n",
       "    </tr>\n",
       "  </thead>\n",
       "  <tbody>\n",
       "    <tr>\n",
       "      <th>1</th>\n",
       "      <td>Movie</td>\n",
       "      <td>Dick Johnson Is Dead</td>\n",
       "      <td>Kirsten Johnson</td>\n",
       "      <td>United States</td>\n",
       "      <td>2021-09-25</td>\n",
       "      <td>2020</td>\n",
       "      <td>PG-13</td>\n",
       "      <td>90 min</td>\n",
       "      <td>Documentaries</td>\n",
       "    </tr>\n",
       "    <tr>\n",
       "      <th>3</th>\n",
       "      <td>TV Show</td>\n",
       "      <td>Ganglands</td>\n",
       "      <td>Julien Leclercq</td>\n",
       "      <td>France</td>\n",
       "      <td>2021-09-24</td>\n",
       "      <td>2021</td>\n",
       "      <td>TV-MA</td>\n",
       "      <td>1 Season</td>\n",
       "      <td>Crime TV Shows, International TV Shows, TV Act...</td>\n",
       "    </tr>\n",
       "    <tr>\n",
       "      <th>6</th>\n",
       "      <td>TV Show</td>\n",
       "      <td>Midnight Mass</td>\n",
       "      <td>Mike Flanagan</td>\n",
       "      <td>United States</td>\n",
       "      <td>2021-09-24</td>\n",
       "      <td>2021</td>\n",
       "      <td>TV-MA</td>\n",
       "      <td>1 Season</td>\n",
       "      <td>TV Dramas, TV Horror, TV Mysteries</td>\n",
       "    </tr>\n",
       "    <tr>\n",
       "      <th>14</th>\n",
       "      <td>Movie</td>\n",
       "      <td>Confessions of an Invisible Girl</td>\n",
       "      <td>Bruno Garotti</td>\n",
       "      <td>Brazil</td>\n",
       "      <td>2021-09-22</td>\n",
       "      <td>2021</td>\n",
       "      <td>TV-PG</td>\n",
       "      <td>91 min</td>\n",
       "      <td>Children &amp; Family Movies, Comedies</td>\n",
       "    </tr>\n",
       "    <tr>\n",
       "      <th>8</th>\n",
       "      <td>Movie</td>\n",
       "      <td>Sankofa</td>\n",
       "      <td>Haile Gerima</td>\n",
       "      <td>United States</td>\n",
       "      <td>2021-09-24</td>\n",
       "      <td>1993</td>\n",
       "      <td>TV-MA</td>\n",
       "      <td>125 min</td>\n",
       "      <td>Dramas, Independent Movies, International Movies</td>\n",
       "    </tr>\n",
       "    <tr>\n",
       "      <th>...</th>\n",
       "      <td>...</td>\n",
       "      <td>...</td>\n",
       "      <td>...</td>\n",
       "      <td>...</td>\n",
       "      <td>...</td>\n",
       "      <td>...</td>\n",
       "      <td>...</td>\n",
       "      <td>...</td>\n",
       "      <td>...</td>\n",
       "    </tr>\n",
       "    <tr>\n",
       "      <th>8797</th>\n",
       "      <td>TV Show</td>\n",
       "      <td>Yunus Emre</td>\n",
       "      <td>Not Given</td>\n",
       "      <td>Turkey</td>\n",
       "      <td>2017-01-17</td>\n",
       "      <td>2016</td>\n",
       "      <td>TV-PG</td>\n",
       "      <td>2 Seasons</td>\n",
       "      <td>International TV Shows, TV Dramas</td>\n",
       "    </tr>\n",
       "    <tr>\n",
       "      <th>8798</th>\n",
       "      <td>TV Show</td>\n",
       "      <td>Zak Storm</td>\n",
       "      <td>Not Given</td>\n",
       "      <td>United States</td>\n",
       "      <td>2018-09-13</td>\n",
       "      <td>2016</td>\n",
       "      <td>TV-Y7</td>\n",
       "      <td>3 Seasons</td>\n",
       "      <td>Kids' TV</td>\n",
       "    </tr>\n",
       "    <tr>\n",
       "      <th>8801</th>\n",
       "      <td>TV Show</td>\n",
       "      <td>Zindagi Gulzar Hai</td>\n",
       "      <td>Not Given</td>\n",
       "      <td>Pakistan</td>\n",
       "      <td>2016-12-15</td>\n",
       "      <td>2012</td>\n",
       "      <td>TV-PG</td>\n",
       "      <td>1 Season</td>\n",
       "      <td>International TV Shows, Romantic TV Shows, TV ...</td>\n",
       "    </tr>\n",
       "    <tr>\n",
       "      <th>8784</th>\n",
       "      <td>TV Show</td>\n",
       "      <td>Yoko</td>\n",
       "      <td>Not Given</td>\n",
       "      <td>Pakistan</td>\n",
       "      <td>2018-06-23</td>\n",
       "      <td>2016</td>\n",
       "      <td>TV-Y</td>\n",
       "      <td>1 Season</td>\n",
       "      <td>Kids' TV</td>\n",
       "    </tr>\n",
       "    <tr>\n",
       "      <th>8786</th>\n",
       "      <td>TV Show</td>\n",
       "      <td>YOM</td>\n",
       "      <td>Not Given</td>\n",
       "      <td>Pakistan</td>\n",
       "      <td>2018-06-07</td>\n",
       "      <td>2016</td>\n",
       "      <td>TV-Y7</td>\n",
       "      <td>1 Season</td>\n",
       "      <td>Kids' TV</td>\n",
       "    </tr>\n",
       "  </tbody>\n",
       "</table>\n",
       "<p>8790 rows × 9 columns</p>\n",
       "</div>"
      ],
      "text/plain": [
       "            type                             title         director  \\\n",
       "show_id                                                               \n",
       "1          Movie              Dick Johnson Is Dead  Kirsten Johnson   \n",
       "3        TV Show                         Ganglands  Julien Leclercq   \n",
       "6        TV Show                     Midnight Mass    Mike Flanagan   \n",
       "14         Movie  Confessions of an Invisible Girl    Bruno Garotti   \n",
       "8          Movie                           Sankofa     Haile Gerima   \n",
       "...          ...                               ...              ...   \n",
       "8797     TV Show                        Yunus Emre        Not Given   \n",
       "8798     TV Show                         Zak Storm        Not Given   \n",
       "8801     TV Show                Zindagi Gulzar Hai        Not Given   \n",
       "8784     TV Show                              Yoko        Not Given   \n",
       "8786     TV Show                               YOM        Not Given   \n",
       "\n",
       "               country date_added  release_year rating   duration  \\\n",
       "show_id                                                             \n",
       "1        United States 2021-09-25          2020  PG-13     90 min   \n",
       "3               France 2021-09-24          2021  TV-MA   1 Season   \n",
       "6        United States 2021-09-24          2021  TV-MA   1 Season   \n",
       "14              Brazil 2021-09-22          2021  TV-PG     91 min   \n",
       "8        United States 2021-09-24          1993  TV-MA    125 min   \n",
       "...                ...        ...           ...    ...        ...   \n",
       "8797            Turkey 2017-01-17          2016  TV-PG  2 Seasons   \n",
       "8798     United States 2018-09-13          2016  TV-Y7  3 Seasons   \n",
       "8801          Pakistan 2016-12-15          2012  TV-PG   1 Season   \n",
       "8784          Pakistan 2018-06-23          2016   TV-Y   1 Season   \n",
       "8786          Pakistan 2018-06-07          2016  TV-Y7   1 Season   \n",
       "\n",
       "                                                 listed_in  \n",
       "show_id                                                     \n",
       "1                                            Documentaries  \n",
       "3        Crime TV Shows, International TV Shows, TV Act...  \n",
       "6                       TV Dramas, TV Horror, TV Mysteries  \n",
       "14                      Children & Family Movies, Comedies  \n",
       "8         Dramas, Independent Movies, International Movies  \n",
       "...                                                    ...  \n",
       "8797                     International TV Shows, TV Dramas  \n",
       "8798                                              Kids' TV  \n",
       "8801     International TV Shows, Romantic TV Shows, TV ...  \n",
       "8784                                              Kids' TV  \n",
       "8786                                              Kids' TV  \n",
       "\n",
       "[8790 rows x 9 columns]"
      ]
     },
     "execution_count": 70,
     "metadata": {},
     "output_type": "execute_result"
    }
   ],
   "source": [
    "# Now we have 9 columns instead of 10.\n",
    "\n",
    "df"
   ]
  },
  {
   "cell_type": "markdown",
   "id": "b071fda9",
   "metadata": {},
   "source": [
    "# Remove Duplicate Rows\n",
    "\n",
    "The .drop_duplicates() method has been used as this will drop duplicate rows based on all the columns (all columns, for the duplicated rows are identical). "
   ]
  },
  {
   "cell_type": "code",
   "execution_count": 71,
   "id": "2c25039b",
   "metadata": {},
   "outputs": [],
   "source": [
    "df.drop_duplicates(inplace=True)"
   ]
  },
  {
   "cell_type": "code",
   "execution_count": 72,
   "id": "7e6fdccf",
   "metadata": {},
   "outputs": [
    {
     "data": {
      "text/html": [
       "<div>\n",
       "<style scoped>\n",
       "    .dataframe tbody tr th:only-of-type {\n",
       "        vertical-align: middle;\n",
       "    }\n",
       "\n",
       "    .dataframe tbody tr th {\n",
       "        vertical-align: top;\n",
       "    }\n",
       "\n",
       "    .dataframe thead th {\n",
       "        text-align: right;\n",
       "    }\n",
       "</style>\n",
       "<table border=\"1\" class=\"dataframe\">\n",
       "  <thead>\n",
       "    <tr style=\"text-align: right;\">\n",
       "      <th></th>\n",
       "      <th>type</th>\n",
       "      <th>title</th>\n",
       "      <th>director</th>\n",
       "      <th>country</th>\n",
       "      <th>date_added</th>\n",
       "      <th>release_year</th>\n",
       "      <th>rating</th>\n",
       "      <th>duration</th>\n",
       "      <th>listed_in</th>\n",
       "    </tr>\n",
       "    <tr>\n",
       "      <th>show_id</th>\n",
       "      <th></th>\n",
       "      <th></th>\n",
       "      <th></th>\n",
       "      <th></th>\n",
       "      <th></th>\n",
       "      <th></th>\n",
       "      <th></th>\n",
       "      <th></th>\n",
       "      <th></th>\n",
       "    </tr>\n",
       "  </thead>\n",
       "  <tbody>\n",
       "    <tr>\n",
       "      <th>1</th>\n",
       "      <td>Movie</td>\n",
       "      <td>Dick Johnson Is Dead</td>\n",
       "      <td>Kirsten Johnson</td>\n",
       "      <td>United States</td>\n",
       "      <td>2021-09-25</td>\n",
       "      <td>2020</td>\n",
       "      <td>PG-13</td>\n",
       "      <td>90 min</td>\n",
       "      <td>Documentaries</td>\n",
       "    </tr>\n",
       "    <tr>\n",
       "      <th>3</th>\n",
       "      <td>TV Show</td>\n",
       "      <td>Ganglands</td>\n",
       "      <td>Julien Leclercq</td>\n",
       "      <td>France</td>\n",
       "      <td>2021-09-24</td>\n",
       "      <td>2021</td>\n",
       "      <td>TV-MA</td>\n",
       "      <td>1 Season</td>\n",
       "      <td>Crime TV Shows, International TV Shows, TV Act...</td>\n",
       "    </tr>\n",
       "    <tr>\n",
       "      <th>6</th>\n",
       "      <td>TV Show</td>\n",
       "      <td>Midnight Mass</td>\n",
       "      <td>Mike Flanagan</td>\n",
       "      <td>United States</td>\n",
       "      <td>2021-09-24</td>\n",
       "      <td>2021</td>\n",
       "      <td>TV-MA</td>\n",
       "      <td>1 Season</td>\n",
       "      <td>TV Dramas, TV Horror, TV Mysteries</td>\n",
       "    </tr>\n",
       "    <tr>\n",
       "      <th>14</th>\n",
       "      <td>Movie</td>\n",
       "      <td>Confessions of an Invisible Girl</td>\n",
       "      <td>Bruno Garotti</td>\n",
       "      <td>Brazil</td>\n",
       "      <td>2021-09-22</td>\n",
       "      <td>2021</td>\n",
       "      <td>TV-PG</td>\n",
       "      <td>91 min</td>\n",
       "      <td>Children &amp; Family Movies, Comedies</td>\n",
       "    </tr>\n",
       "    <tr>\n",
       "      <th>8</th>\n",
       "      <td>Movie</td>\n",
       "      <td>Sankofa</td>\n",
       "      <td>Haile Gerima</td>\n",
       "      <td>United States</td>\n",
       "      <td>2021-09-24</td>\n",
       "      <td>1993</td>\n",
       "      <td>TV-MA</td>\n",
       "      <td>125 min</td>\n",
       "      <td>Dramas, Independent Movies, International Movies</td>\n",
       "    </tr>\n",
       "    <tr>\n",
       "      <th>...</th>\n",
       "      <td>...</td>\n",
       "      <td>...</td>\n",
       "      <td>...</td>\n",
       "      <td>...</td>\n",
       "      <td>...</td>\n",
       "      <td>...</td>\n",
       "      <td>...</td>\n",
       "      <td>...</td>\n",
       "      <td>...</td>\n",
       "    </tr>\n",
       "    <tr>\n",
       "      <th>8797</th>\n",
       "      <td>TV Show</td>\n",
       "      <td>Yunus Emre</td>\n",
       "      <td>Not Given</td>\n",
       "      <td>Turkey</td>\n",
       "      <td>2017-01-17</td>\n",
       "      <td>2016</td>\n",
       "      <td>TV-PG</td>\n",
       "      <td>2 Seasons</td>\n",
       "      <td>International TV Shows, TV Dramas</td>\n",
       "    </tr>\n",
       "    <tr>\n",
       "      <th>8798</th>\n",
       "      <td>TV Show</td>\n",
       "      <td>Zak Storm</td>\n",
       "      <td>Not Given</td>\n",
       "      <td>United States</td>\n",
       "      <td>2018-09-13</td>\n",
       "      <td>2016</td>\n",
       "      <td>TV-Y7</td>\n",
       "      <td>3 Seasons</td>\n",
       "      <td>Kids' TV</td>\n",
       "    </tr>\n",
       "    <tr>\n",
       "      <th>8801</th>\n",
       "      <td>TV Show</td>\n",
       "      <td>Zindagi Gulzar Hai</td>\n",
       "      <td>Not Given</td>\n",
       "      <td>Pakistan</td>\n",
       "      <td>2016-12-15</td>\n",
       "      <td>2012</td>\n",
       "      <td>TV-PG</td>\n",
       "      <td>1 Season</td>\n",
       "      <td>International TV Shows, Romantic TV Shows, TV ...</td>\n",
       "    </tr>\n",
       "    <tr>\n",
       "      <th>8784</th>\n",
       "      <td>TV Show</td>\n",
       "      <td>Yoko</td>\n",
       "      <td>Not Given</td>\n",
       "      <td>Pakistan</td>\n",
       "      <td>2018-06-23</td>\n",
       "      <td>2016</td>\n",
       "      <td>TV-Y</td>\n",
       "      <td>1 Season</td>\n",
       "      <td>Kids' TV</td>\n",
       "    </tr>\n",
       "    <tr>\n",
       "      <th>8786</th>\n",
       "      <td>TV Show</td>\n",
       "      <td>YOM</td>\n",
       "      <td>Not Given</td>\n",
       "      <td>Pakistan</td>\n",
       "      <td>2018-06-07</td>\n",
       "      <td>2016</td>\n",
       "      <td>TV-Y7</td>\n",
       "      <td>1 Season</td>\n",
       "      <td>Kids' TV</td>\n",
       "    </tr>\n",
       "  </tbody>\n",
       "</table>\n",
       "<p>8787 rows × 9 columns</p>\n",
       "</div>"
      ],
      "text/plain": [
       "            type                             title         director  \\\n",
       "show_id                                                               \n",
       "1          Movie              Dick Johnson Is Dead  Kirsten Johnson   \n",
       "3        TV Show                         Ganglands  Julien Leclercq   \n",
       "6        TV Show                     Midnight Mass    Mike Flanagan   \n",
       "14         Movie  Confessions of an Invisible Girl    Bruno Garotti   \n",
       "8          Movie                           Sankofa     Haile Gerima   \n",
       "...          ...                               ...              ...   \n",
       "8797     TV Show                        Yunus Emre        Not Given   \n",
       "8798     TV Show                         Zak Storm        Not Given   \n",
       "8801     TV Show                Zindagi Gulzar Hai        Not Given   \n",
       "8784     TV Show                              Yoko        Not Given   \n",
       "8786     TV Show                               YOM        Not Given   \n",
       "\n",
       "               country date_added  release_year rating   duration  \\\n",
       "show_id                                                             \n",
       "1        United States 2021-09-25          2020  PG-13     90 min   \n",
       "3               France 2021-09-24          2021  TV-MA   1 Season   \n",
       "6        United States 2021-09-24          2021  TV-MA   1 Season   \n",
       "14              Brazil 2021-09-22          2021  TV-PG     91 min   \n",
       "8        United States 2021-09-24          1993  TV-MA    125 min   \n",
       "...                ...        ...           ...    ...        ...   \n",
       "8797            Turkey 2017-01-17          2016  TV-PG  2 Seasons   \n",
       "8798     United States 2018-09-13          2016  TV-Y7  3 Seasons   \n",
       "8801          Pakistan 2016-12-15          2012  TV-PG   1 Season   \n",
       "8784          Pakistan 2018-06-23          2016   TV-Y   1 Season   \n",
       "8786          Pakistan 2018-06-07          2016  TV-Y7   1 Season   \n",
       "\n",
       "                                                 listed_in  \n",
       "show_id                                                     \n",
       "1                                            Documentaries  \n",
       "3        Crime TV Shows, International TV Shows, TV Act...  \n",
       "6                       TV Dramas, TV Horror, TV Mysteries  \n",
       "14                      Children & Family Movies, Comedies  \n",
       "8         Dramas, Independent Movies, International Movies  \n",
       "...                                                    ...  \n",
       "8797                     International TV Shows, TV Dramas  \n",
       "8798                                              Kids' TV  \n",
       "8801     International TV Shows, Romantic TV Shows, TV ...  \n",
       "8784                                              Kids' TV  \n",
       "8786                                              Kids' TV  \n",
       "\n",
       "[8787 rows x 9 columns]"
      ]
     },
     "execution_count": 72,
     "metadata": {},
     "output_type": "execute_result"
    }
   ],
   "source": [
    "# three rows have been removed \n",
    "\n",
    "df"
   ]
  },
  {
   "cell_type": "code",
   "execution_count": 73,
   "id": "a0d83f78",
   "metadata": {},
   "outputs": [
    {
     "data": {
      "text/html": [
       "<div>\n",
       "<style scoped>\n",
       "    .dataframe tbody tr th:only-of-type {\n",
       "        vertical-align: middle;\n",
       "    }\n",
       "\n",
       "    .dataframe tbody tr th {\n",
       "        vertical-align: top;\n",
       "    }\n",
       "\n",
       "    .dataframe thead th {\n",
       "        text-align: right;\n",
       "    }\n",
       "</style>\n",
       "<table border=\"1\" class=\"dataframe\">\n",
       "  <thead>\n",
       "    <tr style=\"text-align: right;\">\n",
       "      <th></th>\n",
       "      <th>type</th>\n",
       "      <th>title</th>\n",
       "      <th>director</th>\n",
       "      <th>country</th>\n",
       "      <th>date_added</th>\n",
       "      <th>release_year</th>\n",
       "      <th>rating</th>\n",
       "      <th>duration</th>\n",
       "      <th>listed_in</th>\n",
       "    </tr>\n",
       "    <tr>\n",
       "      <th>show_id</th>\n",
       "      <th></th>\n",
       "      <th></th>\n",
       "      <th></th>\n",
       "      <th></th>\n",
       "      <th></th>\n",
       "      <th></th>\n",
       "      <th></th>\n",
       "      <th></th>\n",
       "      <th></th>\n",
       "    </tr>\n",
       "  </thead>\n",
       "  <tbody>\n",
       "    <tr>\n",
       "      <th>3997</th>\n",
       "      <td>TV Show</td>\n",
       "      <td>09-Feb</td>\n",
       "      <td>Not Given</td>\n",
       "      <td>Pakistan</td>\n",
       "      <td>2019-03-20</td>\n",
       "      <td>2018</td>\n",
       "      <td>TV-14</td>\n",
       "      <td>1 Season</td>\n",
       "      <td>International TV Shows, TV Dramas</td>\n",
       "    </tr>\n",
       "  </tbody>\n",
       "</table>\n",
       "</div>"
      ],
      "text/plain": [
       "            type   title   director   country date_added  release_year rating  \\\n",
       "show_id                                                                         \n",
       "3997     TV Show  09-Feb  Not Given  Pakistan 2019-03-20          2018  TV-14   \n",
       "\n",
       "         duration                          listed_in  \n",
       "show_id                                               \n",
       "3997     1 Season  International TV Shows, TV Dramas  "
      ]
     },
     "execution_count": 73,
     "metadata": {},
     "output_type": "execute_result"
    }
   ],
   "source": [
    "# one of the rows have been removed \n",
    "\n",
    "df[df['title'] == '09-Feb']"
   ]
  },
  {
   "cell_type": "code",
   "execution_count": 74,
   "id": "082d094b",
   "metadata": {},
   "outputs": [
    {
     "data": {
      "text/html": [
       "<div>\n",
       "<style scoped>\n",
       "    .dataframe tbody tr th:only-of-type {\n",
       "        vertical-align: middle;\n",
       "    }\n",
       "\n",
       "    .dataframe tbody tr th {\n",
       "        vertical-align: top;\n",
       "    }\n",
       "\n",
       "    .dataframe thead th {\n",
       "        text-align: right;\n",
       "    }\n",
       "</style>\n",
       "<table border=\"1\" class=\"dataframe\">\n",
       "  <thead>\n",
       "    <tr style=\"text-align: right;\">\n",
       "      <th></th>\n",
       "      <th>type</th>\n",
       "      <th>title</th>\n",
       "      <th>director</th>\n",
       "      <th>country</th>\n",
       "      <th>date_added</th>\n",
       "      <th>release_year</th>\n",
       "      <th>rating</th>\n",
       "      <th>duration</th>\n",
       "      <th>listed_in</th>\n",
       "    </tr>\n",
       "    <tr>\n",
       "      <th>show_id</th>\n",
       "      <th></th>\n",
       "      <th></th>\n",
       "      <th></th>\n",
       "      <th></th>\n",
       "      <th></th>\n",
       "      <th></th>\n",
       "      <th></th>\n",
       "      <th></th>\n",
       "      <th></th>\n",
       "    </tr>\n",
       "  </thead>\n",
       "  <tbody>\n",
       "    <tr>\n",
       "      <th>3963</th>\n",
       "      <td>Movie</td>\n",
       "      <td>15-Aug</td>\n",
       "      <td>Swapnaneel Jayakar</td>\n",
       "      <td>India</td>\n",
       "      <td>2019-03-29</td>\n",
       "      <td>2019</td>\n",
       "      <td>TV-14</td>\n",
       "      <td>124 min</td>\n",
       "      <td>Comedies, Dramas, Independent Movies</td>\n",
       "    </tr>\n",
       "  </tbody>\n",
       "</table>\n",
       "</div>"
      ],
      "text/plain": [
       "          type   title            director country date_added  release_year  \\\n",
       "show_id                                                                       \n",
       "3963     Movie  15-Aug  Swapnaneel Jayakar   India 2019-03-29          2019   \n",
       "\n",
       "        rating duration                             listed_in  \n",
       "show_id                                                        \n",
       "3963     TV-14  124 min  Comedies, Dramas, Independent Movies  "
      ]
     },
     "execution_count": 74,
     "metadata": {},
     "output_type": "execute_result"
    }
   ],
   "source": [
    "# one of the rows have been removed \n",
    "\n",
    "df[df['title'] == '15-Aug']"
   ]
  },
  {
   "cell_type": "code",
   "execution_count": 75,
   "id": "6a98db6b",
   "metadata": {},
   "outputs": [
    {
     "data": {
      "text/html": [
       "<div>\n",
       "<style scoped>\n",
       "    .dataframe tbody tr th:only-of-type {\n",
       "        vertical-align: middle;\n",
       "    }\n",
       "\n",
       "    .dataframe tbody tr th {\n",
       "        vertical-align: top;\n",
       "    }\n",
       "\n",
       "    .dataframe thead th {\n",
       "        text-align: right;\n",
       "    }\n",
       "</style>\n",
       "<table border=\"1\" class=\"dataframe\">\n",
       "  <thead>\n",
       "    <tr style=\"text-align: right;\">\n",
       "      <th></th>\n",
       "      <th>type</th>\n",
       "      <th>title</th>\n",
       "      <th>director</th>\n",
       "      <th>country</th>\n",
       "      <th>date_added</th>\n",
       "      <th>release_year</th>\n",
       "      <th>rating</th>\n",
       "      <th>duration</th>\n",
       "      <th>listed_in</th>\n",
       "    </tr>\n",
       "    <tr>\n",
       "      <th>show_id</th>\n",
       "      <th></th>\n",
       "      <th></th>\n",
       "      <th></th>\n",
       "      <th></th>\n",
       "      <th></th>\n",
       "      <th></th>\n",
       "      <th></th>\n",
       "      <th></th>\n",
       "      <th></th>\n",
       "    </tr>\n",
       "  </thead>\n",
       "  <tbody>\n",
       "    <tr>\n",
       "      <th>4523</th>\n",
       "      <td>Movie</td>\n",
       "      <td>22-Jul</td>\n",
       "      <td>Paul Greengrass</td>\n",
       "      <td>Norway</td>\n",
       "      <td>2018-10-10</td>\n",
       "      <td>2018</td>\n",
       "      <td>R</td>\n",
       "      <td>144 min</td>\n",
       "      <td>Dramas, Thrillers</td>\n",
       "    </tr>\n",
       "  </tbody>\n",
       "</table>\n",
       "</div>"
      ],
      "text/plain": [
       "          type   title         director country date_added  release_year  \\\n",
       "show_id                                                                    \n",
       "4523     Movie  22-Jul  Paul Greengrass  Norway 2018-10-10          2018   \n",
       "\n",
       "        rating duration          listed_in  \n",
       "show_id                                     \n",
       "4523         R  144 min  Dramas, Thrillers  "
      ]
     },
     "execution_count": 75,
     "metadata": {},
     "output_type": "execute_result"
    }
   ],
   "source": [
    "# one of the rows have been removed \n",
    "\n",
    "df[df['title'] == '22-Jul']"
   ]
  },
  {
   "cell_type": "code",
   "execution_count": 76,
   "id": "bb15cfb2",
   "metadata": {},
   "outputs": [
    {
     "data": {
      "text/plain": [
       "8787"
      ]
     },
     "execution_count": 76,
     "metadata": {},
     "output_type": "execute_result"
    }
   ],
   "source": [
    "# The number of unique titles equates to the number of rows in the dataframe, duplicates removed.\n",
    "\n",
    "df['title'].nunique()"
   ]
  },
  {
   "cell_type": "markdown",
   "id": "fb3387a9",
   "metadata": {},
   "source": [
    "# Dealing with 'Not Given' values"
   ]
  },
  {
   "cell_type": "markdown",
   "id": "bbd560ae",
   "metadata": {},
   "source": [
    "- There are two columns with 'Not Given' values ('directors' (29.44%) and 'country' (3.27%)). \n",
    "\n",
    "- Note: the missing data is NOT in the form of a NaN value, which means we can perform operations on the 'Not Given' dataset, without causing errors or skewing the results.\n",
    "\n",
    "- Secondly, the amount of 'Not Given' data is relatively minimal given the size of the dataset. \n",
    "\n",
    "- Because the 'Not Given' data is in 2 out of 9 columns, it makes little sense to remove the rows for these columns. \n",
    "\n",
    "Considering the above, I will change the value from 'Not Given' to 'Uknown', for the specified columns."
   ]
  },
  {
   "cell_type": "code",
   "execution_count": 77,
   "id": "f2ec2a8a",
   "metadata": {},
   "outputs": [
    {
     "data": {
      "text/plain": [
       "Not Given                         2587\n",
       "Rajiv Chilaka                       20\n",
       "Raúl Campos, Jan Suter              18\n",
       "Alastair Fothergill                 18\n",
       "Marcus Raboy                        16\n",
       "                                  ... \n",
       "Parthiban                            1\n",
       "Scott McAboy                         1\n",
       "Raymie Muzquiz, Stu Livingston       1\n",
       "Joe Menendez                         1\n",
       "Mozez Singh                          1\n",
       "Name: director, Length: 4528, dtype: int64"
      ]
     },
     "execution_count": 77,
     "metadata": {},
     "output_type": "execute_result"
    }
   ],
   "source": [
    "# There are now 2587 'Not Given' values since duplicates have been removed \n",
    "\n",
    "df['director'].value_counts()"
   ]
  },
  {
   "cell_type": "code",
   "execution_count": 78,
   "id": "230cf360",
   "metadata": {},
   "outputs": [],
   "source": [
    "# replace the duplicates in dataframe, from old to new value, and save to original dataframe\n",
    "\n",
    "df.replace(to_replace='Not Given', value= 'Unknown', inplace=True)"
   ]
  },
  {
   "cell_type": "code",
   "execution_count": 79,
   "id": "d916032f",
   "metadata": {},
   "outputs": [
    {
     "data": {
      "text/html": [
       "<div>\n",
       "<style scoped>\n",
       "    .dataframe tbody tr th:only-of-type {\n",
       "        vertical-align: middle;\n",
       "    }\n",
       "\n",
       "    .dataframe tbody tr th {\n",
       "        vertical-align: top;\n",
       "    }\n",
       "\n",
       "    .dataframe thead th {\n",
       "        text-align: right;\n",
       "    }\n",
       "</style>\n",
       "<table border=\"1\" class=\"dataframe\">\n",
       "  <thead>\n",
       "    <tr style=\"text-align: right;\">\n",
       "      <th></th>\n",
       "      <th>type</th>\n",
       "      <th>title</th>\n",
       "      <th>director</th>\n",
       "      <th>country</th>\n",
       "      <th>date_added</th>\n",
       "      <th>release_year</th>\n",
       "      <th>rating</th>\n",
       "      <th>duration</th>\n",
       "      <th>listed_in</th>\n",
       "    </tr>\n",
       "    <tr>\n",
       "      <th>show_id</th>\n",
       "      <th></th>\n",
       "      <th></th>\n",
       "      <th></th>\n",
       "      <th></th>\n",
       "      <th></th>\n",
       "      <th></th>\n",
       "      <th></th>\n",
       "      <th></th>\n",
       "      <th></th>\n",
       "    </tr>\n",
       "  </thead>\n",
       "  <tbody>\n",
       "  </tbody>\n",
       "</table>\n",
       "</div>"
      ],
      "text/plain": [
       "Empty DataFrame\n",
       "Columns: [type, title, director, country, date_added, release_year, rating, duration, listed_in]\n",
       "Index: []"
      ]
     },
     "execution_count": 79,
     "metadata": {},
     "output_type": "execute_result"
    }
   ],
   "source": [
    "# All of the old values in 'director' column has been removed \n",
    "\n",
    "df[df['director'] == 'Not Given']"
   ]
  },
  {
   "cell_type": "code",
   "execution_count": 80,
   "id": "3a109b89",
   "metadata": {},
   "outputs": [
    {
     "data": {
      "text/html": [
       "<div>\n",
       "<style scoped>\n",
       "    .dataframe tbody tr th:only-of-type {\n",
       "        vertical-align: middle;\n",
       "    }\n",
       "\n",
       "    .dataframe tbody tr th {\n",
       "        vertical-align: top;\n",
       "    }\n",
       "\n",
       "    .dataframe thead th {\n",
       "        text-align: right;\n",
       "    }\n",
       "</style>\n",
       "<table border=\"1\" class=\"dataframe\">\n",
       "  <thead>\n",
       "    <tr style=\"text-align: right;\">\n",
       "      <th></th>\n",
       "      <th>type</th>\n",
       "      <th>title</th>\n",
       "      <th>director</th>\n",
       "      <th>country</th>\n",
       "      <th>date_added</th>\n",
       "      <th>release_year</th>\n",
       "      <th>rating</th>\n",
       "      <th>duration</th>\n",
       "      <th>listed_in</th>\n",
       "    </tr>\n",
       "    <tr>\n",
       "      <th>show_id</th>\n",
       "      <th></th>\n",
       "      <th></th>\n",
       "      <th></th>\n",
       "      <th></th>\n",
       "      <th></th>\n",
       "      <th></th>\n",
       "      <th></th>\n",
       "      <th></th>\n",
       "      <th></th>\n",
       "    </tr>\n",
       "  </thead>\n",
       "  <tbody>\n",
       "  </tbody>\n",
       "</table>\n",
       "</div>"
      ],
      "text/plain": [
       "Empty DataFrame\n",
       "Columns: [type, title, director, country, date_added, release_year, rating, duration, listed_in]\n",
       "Index: []"
      ]
     },
     "execution_count": 80,
     "metadata": {},
     "output_type": "execute_result"
    }
   ],
   "source": [
    "# All of the old values in 'country' column has been removed \n",
    "\n",
    "df[df['country'] == 'Not Given']"
   ]
  },
  {
   "cell_type": "markdown",
   "id": "86b5b0f2",
   "metadata": {},
   "source": [
    "# Converting column data types "
   ]
  },
  {
   "cell_type": "markdown",
   "id": "9952b006",
   "metadata": {},
   "source": [
    "We have already converted the 'date_added' column to datetime type. We will convert the columns (categorical/ variables) to categorical data type so that we perform operations later. These columns will have no specific ordering, they are nominal variables. This is especially useful in machine learning medelling.  "
   ]
  },
  {
   "cell_type": "code",
   "execution_count": 81,
   "id": "6848f843",
   "metadata": {},
   "outputs": [],
   "source": [
    "# select the columns and assign to new variable \n",
    "\n",
    "categorical_columns = ['type', 'country', 'rating']"
   ]
  },
  {
   "cell_type": "code",
   "execution_count": 82,
   "id": "66bab2d5",
   "metadata": {},
   "outputs": [],
   "source": [
    "# Change the column type and assign it to the dataframe\n",
    "\n",
    "df[categorical_columns] = df[categorical_columns].astype('category')"
   ]
  },
  {
   "cell_type": "code",
   "execution_count": 83,
   "id": "072bb5e6",
   "metadata": {},
   "outputs": [
    {
     "name": "stdout",
     "output_type": "stream",
     "text": [
      "<class 'pandas.core.frame.DataFrame'>\n",
      "Int64Index: 8787 entries, 1 to 8786\n",
      "Data columns (total 9 columns):\n",
      " #   Column        Non-Null Count  Dtype         \n",
      "---  ------        --------------  -----         \n",
      " 0   type          8787 non-null   category      \n",
      " 1   title         8787 non-null   object        \n",
      " 2   director      8787 non-null   object        \n",
      " 3   country       8787 non-null   category      \n",
      " 4   date_added    8787 non-null   datetime64[ns]\n",
      " 5   release_year  8787 non-null   int64         \n",
      " 6   rating        8787 non-null   category      \n",
      " 7   duration      8787 non-null   object        \n",
      " 8   listed_in     8787 non-null   object        \n",
      "dtypes: category(3), datetime64[ns](1), int64(1), object(4)\n",
      "memory usage: 509.8+ KB\n"
     ]
    }
   ],
   "source": [
    "df.info()"
   ]
  },
  {
   "cell_type": "markdown",
   "id": "d5429235",
   "metadata": {},
   "source": [
    "By converting the column types, we can see the memory usage has decreased and is therefore more efficient. "
   ]
  },
  {
   "cell_type": "markdown",
   "id": "7c401ac0",
   "metadata": {},
   "source": [
    "# Netflix Content Type Overview"
   ]
  },
  {
   "cell_type": "markdown",
   "id": "1f318590",
   "metadata": {},
   "source": [
    "**Type of Content streamed on Netflix and its Distribution**"
   ]
  },
  {
   "cell_type": "code",
   "execution_count": 84,
   "id": "63b44758",
   "metadata": {},
   "outputs": [
    {
     "data": {
      "image/png": "[encoded data removed]",
      "text/plain": [
       "<Figure size 1200x800 with 1 Axes>"
      ]
     },
     "metadata": {},
     "output_type": "display_data"
    }
   ],
   "source": [
    "# Visualise content (TV Shows and Movies), categorical data using a bar chart.\n",
    "\n",
    "df['type'].value_counts().plot(kind='barh', title='Frequency of TV Shows & Movies');\n"
   ]
  },
  {
   "cell_type": "code",
   "execution_count": 85,
   "id": "59c3b60a",
   "metadata": {},
   "outputs": [
    {
     "data": {
      "image/png": "[encoded data removed]",
      "text/plain": [
       "<Figure size 1200x800 with 1 Axes>"
      ]
     },
     "metadata": {},
     "output_type": "display_data"
    }
   ],
   "source": [
    "# Countplot displays categorical data\n",
    "\n",
    "sns.countplot(df, x=df['type']);"
   ]
  },
  {
   "cell_type": "code",
   "execution_count": 86,
   "id": "cd247dac",
   "metadata": {},
   "outputs": [
    {
     "data": {
      "text/plain": [
       "69.69"
      ]
     },
     "execution_count": 86,
     "metadata": {},
     "output_type": "execute_result"
    }
   ],
   "source": [
    "# Calculate percentage of Movies\n",
    "\n",
    "percentage_movie = round((len(df[df['type'] == 'Movie']) / len(df['type']))*100, 2)\n",
    "percentage_movie"
   ]
  },
  {
   "cell_type": "code",
   "execution_count": 87,
   "id": "17de007d",
   "metadata": {},
   "outputs": [
    {
     "data": {
      "text/plain": [
       "30.31"
      ]
     },
     "execution_count": 87,
     "metadata": {},
     "output_type": "execute_result"
    }
   ],
   "source": [
    "# Calculate percentage TV Shows\n",
    "\n",
    "percentage_tvshow = round((len(df[df['type'] == 'TV Show']) / len(df['type']))*100, 2)\n",
    "percentage_tvshow"
   ]
  },
  {
   "cell_type": "markdown",
   "id": "305c50ff",
   "metadata": {},
   "source": [
    "**Data-driven Insights**"
   ]
  },
  {
   "cell_type": "markdown",
   "id": "0ed5abc7",
   "metadata": {},
   "source": [
    "- Netflix streams a higher ratio of movies (more than double) compared to TV Shows.\n",
    "\n",
    "- Approximately 69.69% (6126) of the content are movies and 30.31% (2663) are TV Shows. "
   ]
  },
  {
   "cell_type": "markdown",
   "id": "7b73f036",
   "metadata": {},
   "source": [
    "# Top countries contributing to the content on Netflix"
   ]
  },
  {
   "cell_type": "markdown",
   "id": "4fc5fbb2",
   "metadata": {},
   "source": [
    "**Countries producing the highest amount of content (Movies or TV Shows)**"
   ]
  },
  {
   "cell_type": "code",
   "execution_count": 88,
   "id": "004c26a8",
   "metadata": {},
   "outputs": [
    {
     "data": {
      "text/plain": [
       "86"
      ]
     },
     "execution_count": 88,
     "metadata": {},
     "output_type": "execute_result"
    }
   ],
   "source": [
    "# Total number of countries producing content\n",
    "\n",
    "df['country'].nunique()"
   ]
  },
  {
   "cell_type": "code",
   "execution_count": 89,
   "id": "f3b0705f",
   "metadata": {},
   "outputs": [
    {
     "data": {
      "text/plain": [
       "United States     3240\n",
       "India             1056\n",
       "United Kingdom     638\n",
       "Pakistan           420\n",
       "Canada             271\n",
       "Japan              259\n",
       "South Korea        214\n",
       "France             213\n",
       "Spain              182\n",
       "Mexico             138\n",
       "Name: country, dtype: int64"
      ]
     },
     "execution_count": 89,
     "metadata": {},
     "output_type": "execute_result"
    }
   ],
   "source": [
    "# Top 10 countries producing content, excluding 'Unknown' countries.\n",
    "\n",
    "top_10_countries = df['country'].value_counts().head(11).drop('Unknown')\n",
    "top_10_countries"
   ]
  },
  {
   "cell_type": "code",
   "execution_count": 90,
   "id": "8f567a14",
   "metadata": {},
   "outputs": [
    {
     "data": {
      "image/png": "[encoded data removed]",
      "text/plain": [
       "<Figure size 1200x800 with 1 Axes>"
      ]
     },
     "metadata": {},
     "output_type": "display_data"
    }
   ],
   "source": [
    "# Plot a bar chart\n",
    "\n",
    "top_10_countries.plot(kind='bar', title='Top 10 content producing countries');"
   ]
  },
  {
   "cell_type": "markdown",
   "id": "84cd2955",
   "metadata": {},
   "source": [
    "**Data-driven Insights**"
   ]
  },
  {
   "cell_type": "markdown",
   "id": "cad2bd3d",
   "metadata": {},
   "source": [
    "- 86 countries are contributing to the content on Netflix, that's almost half the countries across the Globe. The diversity in location demonstrates that Netflix is catering to the global market which is likely to have a significant commercial impact on global subscriptions. \n",
    "\n",
    "- Neflix is streaming content predominantly produced in the USA. \n",
    "\n",
    "- US dominates by far, producing more than triple (3240) the content compared to India (1046). \n",
    "\n",
    "- India is producing almost double content compared to UK (638). \n",
    "\n",
    "Let's categorise the data by Movies and TV Shows to gain further insights into the composition of  the content."
   ]
  },
  {
   "cell_type": "markdown",
   "id": "5a9c135a",
   "metadata": {},
   "source": [
    "# Diversity of Movie content on Netflix"
   ]
  },
  {
   "cell_type": "markdown",
   "id": "a82e11c0",
   "metadata": {},
   "source": [
    "Exploration of the top ten countries that have contibuted towards the movie content on Netflix."
   ]
  },
  {
   "cell_type": "code",
   "execution_count": 91,
   "id": "285520a5",
   "metadata": {},
   "outputs": [
    {
     "data": {
      "text/plain": [
       "type   country       \n",
       "Movie  United States     2395\n",
       "       India              975\n",
       "       United Kingdom     387\n",
       "       Canada             187\n",
       "       France             148\n",
       "       Spain              129\n",
       "       Egypt              109\n",
       "       Nigeria             96\n",
       "       Mexico              90\n",
       "       Japan               87\n",
       "Name: country, dtype: int64"
      ]
     },
     "execution_count": 91,
     "metadata": {},
     "output_type": "execute_result"
    }
   ],
   "source": [
    "# Use data that does not contain unknown countries. \n",
    "# Split (groupby) data by type of content, return count of content produced, filter first 10 rows. \n",
    "\n",
    "countries_movies = df[df['country'] != 'Unknown'].groupby([\n",
    "    'type'])['country'].value_counts().head(10)\n",
    "\n",
    "countries_movies\n",
    "\n",
    "# Alternative code\n",
    "#df[df['type'] == 'Movie'][['country']].value_counts().head(11).drop('Unknown', level=0)"
   ]
  },
  {
   "cell_type": "markdown",
   "id": "186727e3",
   "metadata": {},
   "source": [
    "Note: Pakistan is no longer part of this group as the country is not producing movies. Pakistan therefore, must be producing a huge proportion of TV Shows."
   ]
  },
  {
   "cell_type": "code",
   "execution_count": 92,
   "id": "2286abc7",
   "metadata": {},
   "outputs": [
    {
     "data": {
      "image/png": "[encoded data removed]",
      "text/plain": [
       "<Figure size 1200x800 with 1 Axes>"
      ]
     },
     "metadata": {},
     "output_type": "display_data"
    }
   ],
   "source": [
    "# Bar chart will show the frequency of movies produced per country\n",
    "\n",
    "countries_movies.unstack().sort_values(\n",
    "    by='type').plot(kind='bar', title='Top Ten Countries for Movie Production');"
   ]
  },
  {
   "cell_type": "markdown",
   "id": "8b113649",
   "metadata": {},
   "source": [
    "**Data-driven Insights**\n",
    "\n",
    "- Neflix is streaming movies predominantly produced in the USA. \n",
    "\n",
    "- The United states contributed the most movies by far, more than double compared to India. \n",
    "\n",
    "- There is a significant drop in movie contributions in countries outside the US and India. \n",
    "\n",
    "- Data suggests Bollywood and Hollywood Movie industries are most prevalent. \n",
    "\n",
    "- United Kingdom and Canada follows after India. \n",
    "\n",
    "- The remaining 6 countries have contributed similar number of movies. \n",
    "\n",
    "The descriptive analysis of movie contributions for the top ten countries are as follows: "
   ]
  },
  {
   "cell_type": "code",
   "execution_count": 93,
   "id": "414496cb",
   "metadata": {},
   "outputs": [
    {
     "data": {
      "text/plain": [
       "2395"
      ]
     },
     "execution_count": 93,
     "metadata": {},
     "output_type": "execute_result"
    }
   ],
   "source": [
    "# Contribution of movies from the US\n",
    "\n",
    "movies_united_states = df[df['type'] == 'Movie'][['country']].value_counts()[0]\n",
    "movies_united_states"
   ]
  },
  {
   "cell_type": "code",
   "execution_count": 94,
   "id": "b12b8dc1",
   "metadata": {},
   "outputs": [
    {
     "data": {
      "text/plain": [
       "6124"
      ]
     },
     "execution_count": 94,
     "metadata": {},
     "output_type": "execute_result"
    }
   ],
   "source": [
    "# Total number of movies contributed\n",
    "\n",
    "total_movies = len(df[df['type'] == 'Movie'])\n",
    "total_movies"
   ]
  },
  {
   "cell_type": "code",
   "execution_count": 95,
   "id": "9d4bd369",
   "metadata": {},
   "outputs": [
    {
     "data": {
      "text/plain": [
       "39.11"
      ]
     },
     "execution_count": 95,
     "metadata": {},
     "output_type": "execute_result"
    }
   ],
   "source": [
    "# US movie contribution as a percentage \n",
    "\n",
    "movie_industry_us = round((movies_united_states/ total_movies)*100, 2)\n",
    "movie_industry_us"
   ]
  },
  {
   "cell_type": "markdown",
   "id": "74438b7d",
   "metadata": {},
   "source": [
    "**The United States contributed 39.11 % towards the movie content.**\n",
    "\n",
    "The calculations are repeated for India, UK and Canada. "
   ]
  },
  {
   "cell_type": "code",
   "execution_count": 96,
   "id": "77fee7da",
   "metadata": {},
   "outputs": [
    {
     "data": {
      "text/plain": [
       "15.92"
      ]
     },
     "execution_count": 96,
     "metadata": {},
     "output_type": "execute_result"
    }
   ],
   "source": [
    "movies_india = df[df['type'] == 'Movie'][['country']].value_counts()[1]\n",
    "movie_industry_india = round((movies_india/ total_movies)*100, 2)\n",
    "movie_industry_india"
   ]
  },
  {
   "cell_type": "markdown",
   "id": "e27e15bc",
   "metadata": {},
   "source": [
    "**India contributed 15.92 % towards the movie content.**"
   ]
  },
  {
   "cell_type": "code",
   "execution_count": 97,
   "id": "1621a8b5",
   "metadata": {},
   "outputs": [
    {
     "data": {
      "text/plain": [
       "6.32"
      ]
     },
     "execution_count": 97,
     "metadata": {},
     "output_type": "execute_result"
    }
   ],
   "source": [
    "movies_uk = df[df['type'] == 'Movie'][['country']].value_counts()[2]\n",
    "movie_industry_uk = round((movies_uk/ total_movies)*100, 2)\n",
    "movie_industry_uk"
   ]
  },
  {
   "cell_type": "markdown",
   "id": "29890a22",
   "metadata": {},
   "source": [
    "**UK contributed 6.32 % towards the movie content.** (as streamed on Netflix).\n"
   ]
  },
  {
   "cell_type": "code",
   "execution_count": 98,
   "id": "64926c56",
   "metadata": {},
   "outputs": [
    {
     "data": {
      "text/plain": [
       "4.2"
      ]
     },
     "execution_count": 98,
     "metadata": {},
     "output_type": "execute_result"
    }
   ],
   "source": [
    "movies_canada = df[df['type'] == 'Movie'][['country']].value_counts()[3]\n",
    "movie_industry_canada = round((movies_canada/ total_movies)*100, 2)\n",
    "movie_industry_canada"
   ]
  },
  {
   "cell_type": "markdown",
   "id": "dcbd7bbb",
   "metadata": {},
   "source": [
    "**Canada contributed 4.2 % towards the movie content.**\n",
    "\n",
    "Below is the calculation for the mean movie contribution for the 6 remaining countries."
   ]
  },
  {
   "cell_type": "code",
   "execution_count": 102,
   "id": "c5ca6ed1",
   "metadata": {},
   "outputs": [
    {
     "data": {
      "text/plain": [
       "110"
      ]
     },
     "execution_count": 102,
     "metadata": {},
     "output_type": "execute_result"
    }
   ],
   "source": [
    "# Take the last 6 countries, calculate average number of movies contributed by those countries. \n",
    "\n",
    "avg_movies_country_5_10 = round(df[df['country'] != 'Unknown'].groupby([\n",
    "    'type'])['country'].value_counts().head(10)[4:].mean())\n",
    "\n",
    "avg_movies_country_5_10"
   ]
  },
  {
   "cell_type": "code",
   "execution_count": 103,
   "id": "ed96d5d4",
   "metadata": {},
   "outputs": [
    {
     "data": {
      "text/plain": [
       "1.8"
      ]
     },
     "execution_count": 103,
     "metadata": {},
     "output_type": "execute_result"
    }
   ],
   "source": [
    "movie_contribution_country_5_10 = round((avg_movies_country_6_10/total_movies)*100, 2)\n",
    "movie_contribution_country_5_10"
   ]
  },
  {
   "cell_type": "markdown",
   "id": "98bae548",
   "metadata": {},
   "source": [
    "**The remaining 6 countries contributed 1.8 % towards the movie content.**"
   ]
  },
  {
   "cell_type": "code",
   "execution_count": 105,
   "id": "dcd46f2c",
   "metadata": {},
   "outputs": [
    {
     "data": {
      "text/plain": [
       "67.35"
      ]
     },
     "execution_count": 105,
     "metadata": {},
     "output_type": "execute_result"
    }
   ],
   "source": [
    "# What percentage of the movie contributions attributed to the top ten countries.\n",
    "top_ten_movie_contributions = movie_industry_us + movie_industry_india + movie_industry_uk + \\\n",
    "                        movie_industry_canada + movie_contribution_country_5_10\n",
    "\n",
    "top_ten_movie_contributions "
   ]
  },
  {
   "cell_type": "markdown",
   "id": "ba2b1de7",
   "metadata": {},
   "source": [
    "**Data-driven Insights**\n",
    "\n",
    "- The top ten countries have contributed approximately 67% of the movie content. The remaining 76 countries have therefore contributed 33%. \n",
    "\n",
    "- The movie content is dominated by Hollywood, Bollywood and British movies, indicating that subscribers are likely to deem these types of movies as 'popular'.\n",
    "\n",
    "- The top ten countries are diverse in location, demonstrating the diversity in movie content. This is likely to have a positive impact on subscription numbers accross the globe. "
   ]
  },
  {
   "cell_type": "markdown",
   "id": "081db5a1",
   "metadata": {},
   "source": [
    "# Diversity of TV content on Netflix\n"
   ]
  },
  {
   "cell_type": "markdown",
   "id": "d6bbe59d",
   "metadata": {},
   "source": [
    "Exploration of the top ten countries that have contibuted towards TV content on Netflix. The following analysis process for TV Shows is smiliar to the process taken for Movies, however, we will split the dataframe by type (movie and tv show)."
   ]
  },
  {
   "cell_type": "code",
   "execution_count": 106,
   "id": "0fb699c9",
   "metadata": {},
   "outputs": [
    {
     "data": {
      "text/html": [
       "<div>\n",
       "<style scoped>\n",
       "    .dataframe tbody tr th:only-of-type {\n",
       "        vertical-align: middle;\n",
       "    }\n",
       "\n",
       "    .dataframe tbody tr th {\n",
       "        vertical-align: top;\n",
       "    }\n",
       "\n",
       "    .dataframe thead th {\n",
       "        text-align: right;\n",
       "    }\n",
       "</style>\n",
       "<table border=\"1\" class=\"dataframe\">\n",
       "  <thead>\n",
       "    <tr style=\"text-align: right;\">\n",
       "      <th></th>\n",
       "      <th>type</th>\n",
       "      <th>title</th>\n",
       "      <th>director</th>\n",
       "      <th>country</th>\n",
       "      <th>date_added</th>\n",
       "      <th>release_year</th>\n",
       "      <th>rating</th>\n",
       "      <th>duration</th>\n",
       "      <th>listed_in</th>\n",
       "    </tr>\n",
       "    <tr>\n",
       "      <th>show_id</th>\n",
       "      <th></th>\n",
       "      <th></th>\n",
       "      <th></th>\n",
       "      <th></th>\n",
       "      <th></th>\n",
       "      <th></th>\n",
       "      <th></th>\n",
       "      <th></th>\n",
       "      <th></th>\n",
       "    </tr>\n",
       "  </thead>\n",
       "  <tbody>\n",
       "    <tr>\n",
       "      <th>3</th>\n",
       "      <td>TV Show</td>\n",
       "      <td>Ganglands</td>\n",
       "      <td>Julien Leclercq</td>\n",
       "      <td>France</td>\n",
       "      <td>2021-09-24</td>\n",
       "      <td>2021</td>\n",
       "      <td>TV-MA</td>\n",
       "      <td>1 Season</td>\n",
       "      <td>Crime TV Shows, International TV Shows, TV Act...</td>\n",
       "    </tr>\n",
       "    <tr>\n",
       "      <th>6</th>\n",
       "      <td>TV Show</td>\n",
       "      <td>Midnight Mass</td>\n",
       "      <td>Mike Flanagan</td>\n",
       "      <td>United States</td>\n",
       "      <td>2021-09-24</td>\n",
       "      <td>2021</td>\n",
       "      <td>TV-MA</td>\n",
       "      <td>1 Season</td>\n",
       "      <td>TV Dramas, TV Horror, TV Mysteries</td>\n",
       "    </tr>\n",
       "    <tr>\n",
       "      <th>9</th>\n",
       "      <td>TV Show</td>\n",
       "      <td>The Great British Baking Show</td>\n",
       "      <td>Andy Devonshire</td>\n",
       "      <td>United Kingdom</td>\n",
       "      <td>2021-09-24</td>\n",
       "      <td>2021</td>\n",
       "      <td>TV-14</td>\n",
       "      <td>9 Seasons</td>\n",
       "      <td>British TV Shows, Reality TV</td>\n",
       "    </tr>\n",
       "    <tr>\n",
       "      <th>4</th>\n",
       "      <td>TV Show</td>\n",
       "      <td>Jailbirds New Orleans</td>\n",
       "      <td>Unknown</td>\n",
       "      <td>Pakistan</td>\n",
       "      <td>2021-09-24</td>\n",
       "      <td>2021</td>\n",
       "      <td>TV-MA</td>\n",
       "      <td>1 Season</td>\n",
       "      <td>Docuseries, Reality TV</td>\n",
       "    </tr>\n",
       "    <tr>\n",
       "      <th>15</th>\n",
       "      <td>TV Show</td>\n",
       "      <td>Crime Stories: India Detectives</td>\n",
       "      <td>Unknown</td>\n",
       "      <td>Pakistan</td>\n",
       "      <td>2021-09-22</td>\n",
       "      <td>2021</td>\n",
       "      <td>TV-MA</td>\n",
       "      <td>1 Season</td>\n",
       "      <td>British TV Shows, Crime TV Shows, Docuseries</td>\n",
       "    </tr>\n",
       "  </tbody>\n",
       "</table>\n",
       "</div>"
      ],
      "text/plain": [
       "            type                            title         director  \\\n",
       "show_id                                                              \n",
       "3        TV Show                        Ganglands  Julien Leclercq   \n",
       "6        TV Show                    Midnight Mass    Mike Flanagan   \n",
       "9        TV Show    The Great British Baking Show  Andy Devonshire   \n",
       "4        TV Show            Jailbirds New Orleans          Unknown   \n",
       "15       TV Show  Crime Stories: India Detectives          Unknown   \n",
       "\n",
       "                country date_added  release_year rating   duration  \\\n",
       "show_id                                                              \n",
       "3                France 2021-09-24          2021  TV-MA   1 Season   \n",
       "6         United States 2021-09-24          2021  TV-MA   1 Season   \n",
       "9        United Kingdom 2021-09-24          2021  TV-14  9 Seasons   \n",
       "4              Pakistan 2021-09-24          2021  TV-MA   1 Season   \n",
       "15             Pakistan 2021-09-22          2021  TV-MA   1 Season   \n",
       "\n",
       "                                                 listed_in  \n",
       "show_id                                                     \n",
       "3        Crime TV Shows, International TV Shows, TV Act...  \n",
       "6                       TV Dramas, TV Horror, TV Mysteries  \n",
       "9                             British TV Shows, Reality TV  \n",
       "4                                   Docuseries, Reality TV  \n",
       "15            British TV Shows, Crime TV Shows, Docuseries  "
      ]
     },
     "execution_count": 106,
     "metadata": {},
     "output_type": "execute_result"
    }
   ],
   "source": [
    "# Filter the original dataframe to show rows with 'TV Show'. \n",
    "\n",
    "tvshow = df[df['type'] == 'TV Show']\n",
    "tvshow.head()"
   ]
  },
  {
   "cell_type": "code",
   "execution_count": 107,
   "id": "4811cb05",
   "metadata": {},
   "outputs": [
    {
     "data": {
      "text/plain": [
       "2663"
      ]
     },
     "execution_count": 107,
     "metadata": {},
     "output_type": "execute_result"
    }
   ],
   "source": [
    "# There are 2663 rows / TV Shows.\n",
    "\n",
    "len(tvshow)"
   ]
  },
  {
   "cell_type": "code",
   "execution_count": 108,
   "id": "917a35f0",
   "metadata": {},
   "outputs": [
    {
     "data": {
      "text/plain": [
       "59"
      ]
     },
     "execution_count": 108,
     "metadata": {},
     "output_type": "execute_result"
    }
   ],
   "source": [
    "# 59 countries produced TV Show content (2663 TV Shows).\n",
    "\n",
    "countries_tvshow = tvshow['country'].nunique()\n",
    "countries_tvshow\n",
    "\n",
    "# tvshow.groupby(['country'])['type'].nunique().sum()"
   ]
  },
  {
   "cell_type": "code",
   "execution_count": 109,
   "id": "d2763587",
   "metadata": {},
   "outputs": [
    {
     "data": {
      "text/plain": [
       "27"
      ]
     },
     "execution_count": 109,
     "metadata": {},
     "output_type": "execute_result"
    }
   ],
   "source": [
    "# 27 countries have not produced TV Shows. \n",
    "\n",
    "countries_no_tvshow = tvshow['country'].value_counts().tail(27).count()\n",
    "countries_no_tvshow"
   ]
  },
  {
   "cell_type": "code",
   "execution_count": 110,
   "id": "9358c99b",
   "metadata": {},
   "outputs": [
    {
     "data": {
      "text/plain": [
       "Cambodia        0\n",
       "Syria           0\n",
       "Cameroon        0\n",
       "Peru            0\n",
       "Bulgaria        0\n",
       "Ghana           0\n",
       "Bangladesh      0\n",
       "Venezuela       0\n",
       "Vietnam         0\n",
       "West Germany    0\n",
       "Georgia         0\n",
       "Greece          0\n",
       "Paraguay        0\n",
       "Soviet Union    0\n",
       "Guatemala       0\n",
       "Hungary         0\n",
       "Somalia         0\n",
       "Slovenia        0\n",
       "Iran            0\n",
       "Serbia          0\n",
       "Jamaica         0\n",
       "Kenya           0\n",
       "Romania         0\n",
       "Mozambique      0\n",
       "Portugal        0\n",
       "Namibia         0\n",
       "Zimbabwe        0\n",
       "Name: country, dtype: int64"
      ]
     },
     "execution_count": 110,
     "metadata": {},
     "output_type": "execute_result"
    }
   ],
   "source": [
    "# Show the 27 countries that have not produced TV Shows in the Netflix dataset. \n",
    "\n",
    "tvshow['country'].value_counts().tail(27)"
   ]
  },
  {
   "cell_type": "markdown",
   "id": "e1c28239",
   "metadata": {},
   "source": [
    "NOTE: Netflix is streaming movies released in countries that no longer exist: West Germany and Soviet Union. This is likely to be the reason for no TV Show data for these locations. Follow up countries would be Germany and Russia."
   ]
  },
  {
   "cell_type": "code",
   "execution_count": 111,
   "id": "321758ed",
   "metadata": {},
   "outputs": [
    {
     "data": {
      "text/html": [
       "<div>\n",
       "<style scoped>\n",
       "    .dataframe tbody tr th:only-of-type {\n",
       "        vertical-align: middle;\n",
       "    }\n",
       "\n",
       "    .dataframe tbody tr th {\n",
       "        vertical-align: top;\n",
       "    }\n",
       "\n",
       "    .dataframe thead th {\n",
       "        text-align: right;\n",
       "    }\n",
       "</style>\n",
       "<table border=\"1\" class=\"dataframe\">\n",
       "  <thead>\n",
       "    <tr style=\"text-align: right;\">\n",
       "      <th></th>\n",
       "      <th>type</th>\n",
       "      <th>title</th>\n",
       "      <th>director</th>\n",
       "      <th>country</th>\n",
       "      <th>date_added</th>\n",
       "      <th>release_year</th>\n",
       "      <th>rating</th>\n",
       "      <th>duration</th>\n",
       "      <th>listed_in</th>\n",
       "    </tr>\n",
       "    <tr>\n",
       "      <th>show_id</th>\n",
       "      <th></th>\n",
       "      <th></th>\n",
       "      <th></th>\n",
       "      <th></th>\n",
       "      <th></th>\n",
       "      <th></th>\n",
       "      <th></th>\n",
       "      <th></th>\n",
       "      <th></th>\n",
       "    </tr>\n",
       "  </thead>\n",
       "  <tbody>\n",
       "    <tr>\n",
       "      <th>5613</th>\n",
       "      <td>Movie</td>\n",
       "      <td>Hitler - A Career</td>\n",
       "      <td>Joachim Fest, Christian Herrendoerfer</td>\n",
       "      <td>West Germany</td>\n",
       "      <td>2017-02-10</td>\n",
       "      <td>1977</td>\n",
       "      <td>TV-MA</td>\n",
       "      <td>150 min</td>\n",
       "      <td>Documentaries, International Movies</td>\n",
       "    </tr>\n",
       "  </tbody>\n",
       "</table>\n",
       "</div>"
      ],
      "text/plain": [
       "          type              title                               director  \\\n",
       "show_id                                                                    \n",
       "5613     Movie  Hitler - A Career  Joachim Fest, Christian Herrendoerfer   \n",
       "\n",
       "              country date_added  release_year rating duration  \\\n",
       "show_id                                                          \n",
       "5613     West Germany 2017-02-10          1977  TV-MA  150 min   \n",
       "\n",
       "                                   listed_in  \n",
       "show_id                                       \n",
       "5613     Documentaries, International Movies  "
      ]
     },
     "execution_count": 111,
     "metadata": {},
     "output_type": "execute_result"
    }
   ],
   "source": [
    "df[df['country'] == 'West Germany']"
   ]
  },
  {
   "cell_type": "code",
   "execution_count": 112,
   "id": "4c6101d4",
   "metadata": {},
   "outputs": [
    {
     "data": {
      "text/html": [
       "<div>\n",
       "<style scoped>\n",
       "    .dataframe tbody tr th:only-of-type {\n",
       "        vertical-align: middle;\n",
       "    }\n",
       "\n",
       "    .dataframe tbody tr th {\n",
       "        vertical-align: top;\n",
       "    }\n",
       "\n",
       "    .dataframe thead th {\n",
       "        text-align: right;\n",
       "    }\n",
       "</style>\n",
       "<table border=\"1\" class=\"dataframe\">\n",
       "  <thead>\n",
       "    <tr style=\"text-align: right;\">\n",
       "      <th></th>\n",
       "      <th>type</th>\n",
       "      <th>title</th>\n",
       "      <th>director</th>\n",
       "      <th>country</th>\n",
       "      <th>date_added</th>\n",
       "      <th>release_year</th>\n",
       "      <th>rating</th>\n",
       "      <th>duration</th>\n",
       "      <th>listed_in</th>\n",
       "    </tr>\n",
       "    <tr>\n",
       "      <th>show_id</th>\n",
       "      <th></th>\n",
       "      <th></th>\n",
       "      <th></th>\n",
       "      <th></th>\n",
       "      <th></th>\n",
       "      <th></th>\n",
       "      <th></th>\n",
       "      <th></th>\n",
       "      <th></th>\n",
       "    </tr>\n",
       "  </thead>\n",
       "  <tbody>\n",
       "    <tr>\n",
       "      <th>5080</th>\n",
       "      <td>Movie</td>\n",
       "      <td>Alibaba Aur 40 Chor</td>\n",
       "      <td>Latif Faiziyev, Umesh Mehra</td>\n",
       "      <td>Soviet Union</td>\n",
       "      <td>2018-01-15</td>\n",
       "      <td>1980</td>\n",
       "      <td>TV-14</td>\n",
       "      <td>147 min</td>\n",
       "      <td>Action &amp; Adventure, International Movies, Sci-...</td>\n",
       "    </tr>\n",
       "  </tbody>\n",
       "</table>\n",
       "</div>"
      ],
      "text/plain": [
       "          type                title                     director  \\\n",
       "show_id                                                            \n",
       "5080     Movie  Alibaba Aur 40 Chor  Latif Faiziyev, Umesh Mehra   \n",
       "\n",
       "              country date_added  release_year rating duration  \\\n",
       "show_id                                                          \n",
       "5080     Soviet Union 2018-01-15          1980  TV-14  147 min   \n",
       "\n",
       "                                                 listed_in  \n",
       "show_id                                                     \n",
       "5080     Action & Adventure, International Movies, Sci-...  "
      ]
     },
     "execution_count": 112,
     "metadata": {},
     "output_type": "execute_result"
    }
   ],
   "source": [
    "df[df['country'] == 'Soviet Union']"
   ]
  },
  {
   "cell_type": "markdown",
   "id": "403eb954",
   "metadata": {},
   "source": [
    "Netflix bought the license to show these movies, movies released in the year the state existed. "
   ]
  },
  {
   "cell_type": "code",
   "execution_count": 113,
   "id": "d7f51722",
   "metadata": {},
   "outputs": [
    {
     "data": {
      "text/html": [
       "<div>\n",
       "<style scoped>\n",
       "    .dataframe tbody tr th:only-of-type {\n",
       "        vertical-align: middle;\n",
       "    }\n",
       "\n",
       "    .dataframe tbody tr th {\n",
       "        vertical-align: top;\n",
       "    }\n",
       "\n",
       "    .dataframe thead th {\n",
       "        text-align: right;\n",
       "    }\n",
       "</style>\n",
       "<table border=\"1\" class=\"dataframe\">\n",
       "  <thead>\n",
       "    <tr style=\"text-align: right;\">\n",
       "      <th></th>\n",
       "      <th>type</th>\n",
       "      <th>title</th>\n",
       "      <th>director</th>\n",
       "      <th>country</th>\n",
       "      <th>date_added</th>\n",
       "      <th>release_year</th>\n",
       "      <th>rating</th>\n",
       "      <th>duration</th>\n",
       "      <th>listed_in</th>\n",
       "    </tr>\n",
       "    <tr>\n",
       "      <th>show_id</th>\n",
       "      <th></th>\n",
       "      <th></th>\n",
       "      <th></th>\n",
       "      <th></th>\n",
       "      <th></th>\n",
       "      <th></th>\n",
       "      <th></th>\n",
       "      <th></th>\n",
       "      <th></th>\n",
       "    </tr>\n",
       "  </thead>\n",
       "  <tbody>\n",
       "  </tbody>\n",
       "</table>\n",
       "</div>"
      ],
      "text/plain": [
       "Empty DataFrame\n",
       "Columns: [type, title, director, country, date_added, release_year, rating, duration, listed_in]\n",
       "Index: []"
      ]
     },
     "execution_count": 113,
     "metadata": {},
     "output_type": "execute_result"
    }
   ],
   "source": [
    "# Countries that have not produced any content are not part of this dataset. \n",
    "\n",
    "tvshow[tvshow['country'] == 'Cambodia']"
   ]
  },
  {
   "cell_type": "code",
   "execution_count": 114,
   "id": "a03f68f2",
   "metadata": {},
   "outputs": [
    {
     "data": {
      "text/plain": [
       "0"
      ]
     },
     "execution_count": 114,
     "metadata": {},
     "output_type": "execute_result"
    }
   ],
   "source": [
    "# There are no 'Unknown' countries\n",
    "\n",
    "len(tvshow[tvshow['country'] == 'Uknown'])"
   ]
  },
  {
   "cell_type": "code",
   "execution_count": 115,
   "id": "91efc077",
   "metadata": {},
   "outputs": [
    {
     "data": {
      "text/plain": [
       "2136"
      ]
     },
     "execution_count": 115,
     "metadata": {},
     "output_type": "execute_result"
    }
   ],
   "source": [
    "# 2136 out of 2663 tv shows are produced by the top ten countries\n",
    "\n",
    "top10_total_tvshows = tvshow['country'].value_counts()[0:10].sum()\n",
    "top10_total_tvshows"
   ]
  },
  {
   "cell_type": "code",
   "execution_count": 116,
   "id": "aaac857f",
   "metadata": {},
   "outputs": [
    {
     "data": {
      "text/plain": [
       "80.21"
      ]
     },
     "execution_count": 116,
     "metadata": {},
     "output_type": "execute_result"
    }
   ],
   "source": [
    "# 80% of TV Shows are produced by the top ten countries.\n",
    "\n",
    "percentage_tvshow_top10 = round((top10_total_tvshows / len(tvshow))*100, 2)\n",
    "percentage_tvshow_top10"
   ]
  },
  {
   "cell_type": "markdown",
   "id": "63dc6f60",
   "metadata": {},
   "source": [
    "**Data-driven Insights.**"
   ]
  },
  {
   "cell_type": "markdown",
   "id": "63fad927",
   "metadata": {},
   "source": [
    "- Contributors to TV content (59 countries) demonstrates a lower diversity of TV shows in comparison to movies (86 countries). This could be reflection of the global TV industry (smaller market than the movie industry). \n",
    "\n",
    "- The top ten countries have produced 80% of the TV Shows.\n",
    "\n",
    "- The remaining countries (49) are have produced 20% of the TV Shows.\n",
    "\n",
    "- It could be beneficial to gain more data regarding the global TV industry. A starting point could include further research regarding TV shows produced in countries that have not contributed to the TV content. \n",
    "\n",
    "- Increasing the diversity of TV shows may result in a higher quantity of subscribers, catering to a global audience. \n",
    "\n",
    "\n",
    "Let's plot the number of TV Shows produced by the top ten countries (below)."
   ]
  },
  {
   "cell_type": "code",
   "execution_count": 117,
   "id": "74965cee",
   "metadata": {},
   "outputs": [
    {
     "data": {
      "text/plain": [
       "United States     845\n",
       "Pakistan          349\n",
       "United Kingdom    251\n",
       "Japan             172\n",
       "South Korea       165\n",
       "Canada             84\n",
       "India              81\n",
       "Taiwan             71\n",
       "France             65\n",
       "Australia          53\n",
       "Name: country, dtype: int64"
      ]
     },
     "execution_count": 117,
     "metadata": {},
     "output_type": "execute_result"
    }
   ],
   "source": [
    "# Index into the top ten countries producing tv shows. \n",
    "# There are no unknown countries in the list. \n",
    "\n",
    "countries_tvshows_top10 = tvshow['country'].value_counts()[0:10]\n",
    "countries_tvshows_top10"
   ]
  },
  {
   "cell_type": "code",
   "execution_count": 118,
   "id": "9607d152",
   "metadata": {},
   "outputs": [
    {
     "data": {
      "image/png": "[encoded data removed]",
      "text/plain": [
       "<Figure size 1200x800 with 1 Axes>"
      ]
     },
     "metadata": {},
     "output_type": "display_data"
    }
   ],
   "source": [
    "# Plot the data on a barchart\n",
    "\n",
    "countries_tvshows_top10.plot(kind='bar', title='Top Ten Countries for TV Show Production');"
   ]
  },
  {
   "cell_type": "markdown",
   "id": "60e39e9a",
   "metadata": {},
   "source": [
    "**Data-driven Insights**\n",
    "\n",
    "- US, Pakistan and UK are the top three contributors.\n",
    "\n",
    "- The US is dominating the TV Show market by more than 50%, compared to Pakistan.\n",
    "\n",
    "- Japan and South Korea are almost equal competitors in the TV Show industry.\n",
    "\n",
    "- The latter 5 countries are producing similar number of TV Shows overall. \n",
    "\n",
    "- India and Pakistan, although close in region, have contributed different category of content.\n",
    "\n",
    "- The TV content on Netflix is predominantly catering to subscribers who enjoy Western and South Asian content. It may be commercially beneficial to increase the diversity of content (from different geographical regions) to attract more subscribers.  "
   ]
  },
  {
   "cell_type": "code",
   "execution_count": 119,
   "id": "0da73fcb",
   "metadata": {},
   "outputs": [
    {
     "data": {
      "image/png": "[encoded data removed]",
      "text/plain": [
       "<Figure size 1200x800 with 1 Axes>"
      ]
     },
     "metadata": {},
     "output_type": "display_data"
    }
   ],
   "source": [
    "sns.stripplot(countries_tvshows_top10);"
   ]
  },
  {
   "cell_type": "markdown",
   "id": "58547ed1",
   "metadata": {},
   "source": [
    "**Data-driven Insights**\n",
    "\n",
    "- The strip plot shows the distribution of TV Shows produced in different countries, every data point is represented by a single country. \n",
    "\n",
    "- 5 countries have produced under 100 TV shows. \n",
    "\n",
    "- 2 countries have produced between 150 and 200 TV Shows. \n",
    "\n",
    "- 2 countries have produced between 250 and 350 TV Shows.\n",
    "\n",
    "- 1 country has produced approximately 845 TV Shows, showing a positive skew in the data. \n"
   ]
  },
  {
   "cell_type": "markdown",
   "id": "92ab57e4",
   "metadata": {},
   "source": [
    "Descriptive statistics regarding the top 5 countries that have contributed towards TV content. "
   ]
  },
  {
   "cell_type": "code",
   "execution_count": 120,
   "id": "780c557f",
   "metadata": {},
   "outputs": [
    {
     "data": {
      "text/plain": [
       "845"
      ]
     },
     "execution_count": 120,
     "metadata": {},
     "output_type": "execute_result"
    }
   ],
   "source": [
    "# TV Shows contributed by the US.\n",
    "\n",
    "us_total_tv = len(tvshow[tvshow['country'] == 'United States'])\n",
    "us_total_tv"
   ]
  },
  {
   "cell_type": "code",
   "execution_count": 121,
   "id": "8b50d055",
   "metadata": {},
   "outputs": [
    {
     "data": {
      "text/plain": [
       "31.73"
      ]
     },
     "execution_count": 121,
     "metadata": {},
     "output_type": "execute_result"
    }
   ],
   "source": [
    "us_tvshow_market = round((us_total_tv / len(tvshow))*100, 2)\n",
    "us_tvshow_market"
   ]
  },
  {
   "cell_type": "markdown",
   "id": "922c7f04",
   "metadata": {},
   "source": [
    "The US contributed 31.73% towards TV content."
   ]
  },
  {
   "cell_type": "code",
   "execution_count": 122,
   "id": "939c90fe",
   "metadata": {},
   "outputs": [
    {
     "data": {
      "text/plain": [
       "349"
      ]
     },
     "execution_count": 122,
     "metadata": {},
     "output_type": "execute_result"
    }
   ],
   "source": [
    "pk_total_tv = len(tvshow[tvshow['country'] == 'Pakistan'])\n",
    "pk_total_tv"
   ]
  },
  {
   "cell_type": "code",
   "execution_count": 123,
   "id": "a4d4dace",
   "metadata": {},
   "outputs": [
    {
     "data": {
      "text/plain": [
       "13.11"
      ]
     },
     "execution_count": 123,
     "metadata": {},
     "output_type": "execute_result"
    }
   ],
   "source": [
    "pk_tvshow_market = round((pk_total_tv / len(tvshow))*100, 2)\n",
    "pk_tvshow_market"
   ]
  },
  {
   "cell_type": "markdown",
   "id": "38d1bbde",
   "metadata": {},
   "source": [
    "Pakistan contributed 13.11% towards TV content.\n"
   ]
  },
  {
   "cell_type": "code",
   "execution_count": 124,
   "id": "dcc20190",
   "metadata": {},
   "outputs": [
    {
     "data": {
      "text/plain": [
       "251"
      ]
     },
     "execution_count": 124,
     "metadata": {},
     "output_type": "execute_result"
    }
   ],
   "source": [
    "uk_total_tv = len(tvshow[tvshow['country'] == 'United Kingdom'])\n",
    "uk_total_tv"
   ]
  },
  {
   "cell_type": "code",
   "execution_count": 125,
   "id": "36fc4645",
   "metadata": {},
   "outputs": [
    {
     "data": {
      "text/plain": [
       "9.43"
      ]
     },
     "execution_count": 125,
     "metadata": {},
     "output_type": "execute_result"
    }
   ],
   "source": [
    "uk_tvshow_market = round((uk_total_tv / len(tvshow))*100, 2)\n",
    "uk_tvshow_market"
   ]
  },
  {
   "cell_type": "markdown",
   "id": "d84fa204",
   "metadata": {},
   "source": [
    "The United Kingdom contributed 9.43% towards TV content."
   ]
  },
  {
   "cell_type": "code",
   "execution_count": 126,
   "id": "a47cd9f7",
   "metadata": {},
   "outputs": [
    {
     "data": {
      "text/plain": [
       "172"
      ]
     },
     "execution_count": 126,
     "metadata": {},
     "output_type": "execute_result"
    }
   ],
   "source": [
    "jp_total_tv = len(tvshow[tvshow['country'] == 'Japan'])\n",
    "jp_total_tv"
   ]
  },
  {
   "cell_type": "code",
   "execution_count": 127,
   "id": "3ffcf9bd",
   "metadata": {},
   "outputs": [
    {
     "data": {
      "text/plain": [
       "6.46"
      ]
     },
     "execution_count": 127,
     "metadata": {},
     "output_type": "execute_result"
    }
   ],
   "source": [
    "jp_tvshow_market = round((jp_total_tv / len(tvshow))*100, 2)\n",
    "jp_tvshow_market"
   ]
  },
  {
   "cell_type": "markdown",
   "id": "f5a548bb",
   "metadata": {},
   "source": [
    "Japan contributed 6.46% towards TV content."
   ]
  },
  {
   "cell_type": "code",
   "execution_count": 128,
   "id": "93087ddd",
   "metadata": {},
   "outputs": [
    {
     "data": {
      "text/plain": [
       "165"
      ]
     },
     "execution_count": 128,
     "metadata": {},
     "output_type": "execute_result"
    }
   ],
   "source": [
    "sk_total_tv = len(tvshow[tvshow['country'] == 'South Korea'])\n",
    "sk_total_tv"
   ]
  },
  {
   "cell_type": "code",
   "execution_count": 129,
   "id": "30aa8ec5",
   "metadata": {},
   "outputs": [
    {
     "data": {
      "text/plain": [
       "6.2"
      ]
     },
     "execution_count": 129,
     "metadata": {},
     "output_type": "execute_result"
    }
   ],
   "source": [
    "sk_tvshow_market = round((sk_total_tv / len(tvshow))*100, 2)\n",
    "sk_tvshow_market"
   ]
  },
  {
   "cell_type": "markdown",
   "id": "72c8742c",
   "metadata": {},
   "source": [
    "South Korea contributed 6.2% towards TV content."
   ]
  },
  {
   "cell_type": "markdown",
   "id": "318517ec",
   "metadata": {},
   "source": [
    "Mean TV contributions for the 5 remaining countries."
   ]
  },
  {
   "cell_type": "code",
   "execution_count": 130,
   "id": "8d1ec80c",
   "metadata": {},
   "outputs": [
    {
     "data": {
      "text/plain": [
       "70.8"
      ]
     },
     "execution_count": 130,
     "metadata": {},
     "output_type": "execute_result"
    }
   ],
   "source": [
    "avg_tvshow_country_5_10 = tvshow['country'].value_counts().head(10)[5:].mean()\n",
    "avg_tvshow_country_5_10"
   ]
  },
  {
   "cell_type": "code",
   "execution_count": 131,
   "id": "9ace5aee",
   "metadata": {},
   "outputs": [
    {
     "data": {
      "text/plain": [
       "2.66"
      ]
     },
     "execution_count": 131,
     "metadata": {},
     "output_type": "execute_result"
    }
   ],
   "source": [
    "# percentage \n",
    "\n",
    "tvshow_industry_countries_5_10 = round((avg_tvshow_country_5_10 / len(tvshow))*100, 2)\n",
    "tvshow_industry_countries_5_10"
   ]
  },
  {
   "cell_type": "markdown",
   "id": "dc5ba3c2",
   "metadata": {},
   "source": [
    "The remaining 5 countries, in the top ten, contributed 2.66% towards TV content on Netflix."
   ]
  },
  {
   "cell_type": "code",
   "execution_count": 132,
   "id": "4c128a8c",
   "metadata": {},
   "outputs": [
    {
     "data": {
      "text/plain": [
       "69.59"
      ]
     },
     "execution_count": 132,
     "metadata": {},
     "output_type": "execute_result"
    }
   ],
   "source": [
    "# Overall percentage of TV content contributed by the top ten countries \n",
    "\n",
    "top_ten_tvshow_production = us_tvshow_market + pk_tvshow_market + uk_tvshow_market + \\\n",
    "                jp_tvshow_market + sk_tvshow_market + tvshow_industry_countries_5_10\n",
    "\n",
    "top_ten_tvshow_production"
   ]
  },
  {
   "cell_type": "markdown",
   "id": "3e5a8c86",
   "metadata": {},
   "source": [
    "**Data-driven Insights.**\n",
    "\n",
    "The top ten countries have produced approximately 70% of TV Shows in the Netflix dataset. The remaining 27 countries have therefore produced 33% of movies. The industry is likely dominated by US, Pakistani and British TV Shows. Then followed by Japanese and South Korean TV Shows. \n",
    "\n",
    "**Recomendations**: Research availability of TV content on a global scale to increase and diversify global subscribers.  \n",
    "\n",
    "**Recomendations**: Gather further data in the form of customer surveys in attempt to pilot additional TV show content amongst subscribers in different geographical locations.\n",
    "\n",
    "**Recomendations**: Advertise launch of new TV content in conjunction with promotional subscription offers to attract more subscribers. Review outcome to indicate success of campaign and return on investment (ROI).    "
   ]
  },
  {
   "cell_type": "markdown",
   "id": "fae11d77",
   "metadata": {},
   "source": [
    "# Genre Analysis: Prevalence / Popularity. "
   ]
  },
  {
   "cell_type": "markdown",
   "id": "d3c59bce",
   "metadata": {},
   "source": [
    "As part of the genre analysis, I will explore the 'directors', 'rating' and 'listed_in' columns."
   ]
  },
  {
   "cell_type": "code",
   "execution_count": 133,
   "id": "bcfc7622",
   "metadata": {},
   "outputs": [
    {
     "data": {
      "text/plain": [
       "513"
      ]
     },
     "execution_count": 133,
     "metadata": {},
     "output_type": "execute_result"
    }
   ],
   "source": [
    "# There is an exhaustive list of genres in the dataset.\n",
    "\n",
    "df['listed_in'].nunique()"
   ]
  },
  {
   "cell_type": "code",
   "execution_count": 175,
   "id": "ff43b4f2",
   "metadata": {},
   "outputs": [
    {
     "data": {
      "text/plain": [
       "Dramas, International Movies                        362\n",
       "Documentaries                                       359\n",
       "Stand-Up Comedy                                     334\n",
       "Comedies, Dramas, International Movies              274\n",
       "Dramas, Independent Movies, International Movies    252\n",
       "Kids' TV                                            219\n",
       "Children & Family Movies                            215\n",
       "Children & Family Movies, Comedies                  201\n",
       "Documentaries, International Movies                 186\n",
       "Dramas, International Movies, Romantic Movies       180\n",
       "Name: listed_in, dtype: int64"
      ]
     },
     "execution_count": 175,
     "metadata": {},
     "output_type": "execute_result"
    }
   ],
   "source": [
    "# Repetition of genres\n",
    "# The length of the string is lengthy, containing genres as well as subgenres.\n",
    "\n",
    "df['listed_in'].value_counts().head(10)"
   ]
  },
  {
   "cell_type": "code",
   "execution_count": 153,
   "id": "b6d085e9",
   "metadata": {},
   "outputs": [
    {
     "data": {
      "text/plain": [
       "1"
      ]
     },
     "execution_count": 153,
     "metadata": {},
     "output_type": "execute_result"
    }
   ],
   "source": [
    "# Although there are a repetition of genres, there are no repetitions in titles.\n",
    "\n",
    "df['title'].value_counts().max()"
   ]
  },
  {
   "cell_type": "code",
   "execution_count": 176,
   "id": "94900dad",
   "metadata": {},
   "outputs": [
    {
     "data": {
      "text/plain": [
       "19287"
      ]
     },
     "execution_count": 176,
     "metadata": {},
     "output_type": "execute_result"
    }
   ],
   "source": [
    "# split each string into a list of strings. Split the string at every comma. \n",
    "# transform each element of the string list to a row using explode() method.\n",
    "# The number of rows have substantially increased as the index values are replicated\n",
    "\n",
    "df['listed_in'].str.split(',').explode().count()"
   ]
  },
  {
   "cell_type": "code",
   "execution_count": 223,
   "id": "863157fb",
   "metadata": {},
   "outputs": [
    {
     "data": {
      "text/plain": [
       " International Movies     2624\n",
       "Dramas                    1598\n",
       "Comedies                  1209\n",
       "Action & Adventure         859\n",
       "Documentaries              829\n",
       " Dramas                    826\n",
       "International TV Shows     772\n",
       " Independent Movies        735\n",
       " TV Dramas                 694\n",
       " Romantic Movies           613\n",
       "Name: listed_in, dtype: int64"
      ]
     },
     "execution_count": 223,
     "metadata": {},
     "output_type": "execute_result"
    }
   ],
   "source": [
    "# each string is readable and concise\n",
    "# list the top ten genres\n",
    "\n",
    "top_10_genre = df['listed_in'].str.split(',').explode().value_counts().head(10)\n",
    "top_10_genre"
   ]
  },
  {
   "cell_type": "code",
   "execution_count": 260,
   "id": "614ecefc",
   "metadata": {},
   "outputs": [
    {
     "data": {
      "image/png": "[encoded data removed]",
      "text/plain": [
       "<Figure size 1400x800 with 1 Axes>"
      ]
     },
     "metadata": {},
     "output_type": "display_data"
    }
   ],
   "source": [
    "plt.figure(figsize=(14, 8))\n",
    "sns.barplot(y=top_10_genre.index, x=top_10_genre.values, palette='dark')\n",
    "plt.title('Netflix: Top 10 Genres')\n",
    "plt.xlabel('Number of Titles')\n",
    "plt.ylabel('Genre')\n",
    "plt.show()"
   ]
  },
  {
   "cell_type": "markdown",
   "id": "d56c37af",
   "metadata": {},
   "source": [
    "**Data-driven Insights**\n",
    "\n",
    "The top ten genres are shown above. \n",
    "\n",
    "- International movies take the lead with 2624 titles, this reflects the high number of content produced in India as well as the Hispanic countries and Phillipines.  \n",
    "\n",
    "- Dramas (1598 titles) and Comedies (1209 titles) follow with a high prevalence.\n",
    "\n",
    "- Action & Adventure (859 titles) and Dramas (829 titles) come almost equally third.\n"
   ]
  },
  {
   "cell_type": "code",
   "execution_count": 304,
   "id": "05bf0699",
   "metadata": {},
   "outputs": [
    {
     "data": {
      "text/plain": [
       "Rajiv Chilaka             20\n",
       "Raúl Campos, Jan Suter    18\n",
       "Alastair Fothergill       18\n",
       "Marcus Raboy              16\n",
       "Suhas Kadav               16\n",
       "Jay Karas                 14\n",
       "Cathy Garcia-Molina       13\n",
       "Martin Scorsese           12\n",
       "Jay Chapman               12\n",
       "Youssef Chahine           12\n",
       "Name: director, dtype: int64"
      ]
     },
     "execution_count": 304,
     "metadata": {},
     "output_type": "execute_result"
    }
   ],
   "source": [
    "# Top 10 directors\n",
    "\n",
    "top_10_directors = df['director'].value_counts().drop('Unknown').head(10)\n",
    "top_10_directors"
   ]
  },
  {
   "cell_type": "code",
   "execution_count": 264,
   "id": "b19832b2",
   "metadata": {},
   "outputs": [
    {
     "data": {
      "image/png": "[encoded data removed]",
      "text/plain": [
       "<Figure size 1200x800 with 1 Axes>"
      ]
     },
     "metadata": {},
     "output_type": "display_data"
    }
   ],
   "source": [
    "sns.barplot(y=top_10_directors.index, x=top_10_directors.values, palette='flare')\n",
    "plt.title('Netflix: Top 10 Directors')\n",
    "plt.xlabel('Number of Titles')\n",
    "plt.ylabel('Director');\n"
   ]
  },
  {
   "cell_type": "code",
   "execution_count": 290,
   "id": "f66ffd94",
   "metadata": {},
   "outputs": [
    {
     "data": {
      "text/html": [
       "<div>\n",
       "<style scoped>\n",
       "    .dataframe tbody tr th:only-of-type {\n",
       "        vertical-align: middle;\n",
       "    }\n",
       "\n",
       "    .dataframe tbody tr th {\n",
       "        vertical-align: top;\n",
       "    }\n",
       "\n",
       "    .dataframe thead th {\n",
       "        text-align: right;\n",
       "    }\n",
       "</style>\n",
       "<table border=\"1\" class=\"dataframe\">\n",
       "  <thead>\n",
       "    <tr style=\"text-align: right;\">\n",
       "      <th></th>\n",
       "      <th>type</th>\n",
       "      <th>title</th>\n",
       "      <th>director</th>\n",
       "      <th>country</th>\n",
       "      <th>date_added</th>\n",
       "      <th>release_year</th>\n",
       "      <th>rating</th>\n",
       "      <th>duration</th>\n",
       "      <th>listed_in</th>\n",
       "    </tr>\n",
       "    <tr>\n",
       "      <th>show_id</th>\n",
       "      <th></th>\n",
       "      <th></th>\n",
       "      <th></th>\n",
       "      <th></th>\n",
       "      <th></th>\n",
       "      <th></th>\n",
       "      <th></th>\n",
       "      <th></th>\n",
       "      <th></th>\n",
       "    </tr>\n",
       "  </thead>\n",
       "  <tbody>\n",
       "    <tr>\n",
       "      <th>420</th>\n",
       "      <td>Movie</td>\n",
       "      <td>Chhota Bheem: Bheem vs Aliens</td>\n",
       "      <td>Rajiv Chilaka</td>\n",
       "      <td>India</td>\n",
       "      <td>2021-07-22</td>\n",
       "      <td>2010</td>\n",
       "      <td>TV-Y7</td>\n",
       "      <td>69 min</td>\n",
       "      <td>Children &amp; Family Movies, Sports Movies</td>\n",
       "    </tr>\n",
       "    <tr>\n",
       "      <th>407</th>\n",
       "      <td>Movie</td>\n",
       "      <td>Chhota Bheem - Neeli Pahaadi</td>\n",
       "      <td>Rajiv Chilaka</td>\n",
       "      <td>India</td>\n",
       "      <td>2021-07-22</td>\n",
       "      <td>2013</td>\n",
       "      <td>TV-Y7</td>\n",
       "      <td>64 min</td>\n",
       "      <td>Children &amp; Family Movies</td>\n",
       "    </tr>\n",
       "    <tr>\n",
       "      <th>408</th>\n",
       "      <td>Movie</td>\n",
       "      <td>Chhota Bheem &amp; Ganesh</td>\n",
       "      <td>Rajiv Chilaka</td>\n",
       "      <td>India</td>\n",
       "      <td>2021-07-22</td>\n",
       "      <td>2009</td>\n",
       "      <td>TV-Y7</td>\n",
       "      <td>68 min</td>\n",
       "      <td>Children &amp; Family Movies</td>\n",
       "    </tr>\n",
       "    <tr>\n",
       "      <th>409</th>\n",
       "      <td>Movie</td>\n",
       "      <td>Chhota Bheem &amp; Krishna: Mayanagari</td>\n",
       "      <td>Rajiv Chilaka</td>\n",
       "      <td>India</td>\n",
       "      <td>2021-07-22</td>\n",
       "      <td>2011</td>\n",
       "      <td>TV-Y7</td>\n",
       "      <td>67 min</td>\n",
       "      <td>Children &amp; Family Movies</td>\n",
       "    </tr>\n",
       "  </tbody>\n",
       "</table>\n",
       "</div>"
      ],
      "text/plain": [
       "          type                               title       director country  \\\n",
       "show_id                                                                     \n",
       "420      Movie       Chhota Bheem: Bheem vs Aliens  Rajiv Chilaka   India   \n",
       "407      Movie        Chhota Bheem - Neeli Pahaadi  Rajiv Chilaka   India   \n",
       "408      Movie               Chhota Bheem & Ganesh  Rajiv Chilaka   India   \n",
       "409      Movie  Chhota Bheem & Krishna: Mayanagari  Rajiv Chilaka   India   \n",
       "\n",
       "        date_added  release_year rating duration  \\\n",
       "show_id                                            \n",
       "420     2021-07-22          2010  TV-Y7   69 min   \n",
       "407     2021-07-22          2013  TV-Y7   64 min   \n",
       "408     2021-07-22          2009  TV-Y7   68 min   \n",
       "409     2021-07-22          2011  TV-Y7   67 min   \n",
       "\n",
       "                                       listed_in  \n",
       "show_id                                           \n",
       "420      Children & Family Movies, Sports Movies  \n",
       "407                     Children & Family Movies  \n",
       "408                     Children & Family Movies  \n",
       "409                     Children & Family Movies  "
      ]
     },
     "execution_count": 290,
     "metadata": {},
     "output_type": "execute_result"
    }
   ],
   "source": [
    "df[df['director'] == 'Rajiv Chilaka'].head(4)"
   ]
  },
  {
   "cell_type": "code",
   "execution_count": 291,
   "id": "9ed05c67",
   "metadata": {},
   "outputs": [
    {
     "data": {
      "text/html": [
       "<div>\n",
       "<style scoped>\n",
       "    .dataframe tbody tr th:only-of-type {\n",
       "        vertical-align: middle;\n",
       "    }\n",
       "\n",
       "    .dataframe tbody tr th {\n",
       "        vertical-align: top;\n",
       "    }\n",
       "\n",
       "    .dataframe thead th {\n",
       "        text-align: right;\n",
       "    }\n",
       "</style>\n",
       "<table border=\"1\" class=\"dataframe\">\n",
       "  <thead>\n",
       "    <tr style=\"text-align: right;\">\n",
       "      <th></th>\n",
       "      <th>type</th>\n",
       "      <th>title</th>\n",
       "      <th>director</th>\n",
       "      <th>country</th>\n",
       "      <th>date_added</th>\n",
       "      <th>release_year</th>\n",
       "      <th>rating</th>\n",
       "      <th>duration</th>\n",
       "      <th>listed_in</th>\n",
       "    </tr>\n",
       "    <tr>\n",
       "      <th>show_id</th>\n",
       "      <th></th>\n",
       "      <th></th>\n",
       "      <th></th>\n",
       "      <th></th>\n",
       "      <th></th>\n",
       "      <th></th>\n",
       "      <th></th>\n",
       "      <th></th>\n",
       "      <th></th>\n",
       "    </tr>\n",
       "  </thead>\n",
       "  <tbody>\n",
       "    <tr>\n",
       "      <th>5002</th>\n",
       "      <td>Movie</td>\n",
       "      <td>Malena Pichot: Estupidez compleja</td>\n",
       "      <td>Raúl Campos, Jan Suter</td>\n",
       "      <td>Argentina</td>\n",
       "      <td>2018-03-02</td>\n",
       "      <td>2018</td>\n",
       "      <td>TV-MA</td>\n",
       "      <td>51 min</td>\n",
       "      <td>Stand-Up Comedy</td>\n",
       "    </tr>\n",
       "    <tr>\n",
       "      <th>4750</th>\n",
       "      <td>Movie</td>\n",
       "      <td>Coco y Raulito: Carrusel de ternura</td>\n",
       "      <td>Raúl Campos, Jan Suter</td>\n",
       "      <td>Mexico</td>\n",
       "      <td>2018-07-27</td>\n",
       "      <td>2018</td>\n",
       "      <td>TV-MA</td>\n",
       "      <td>57 min</td>\n",
       "      <td>Stand-Up Comedy</td>\n",
       "    </tr>\n",
       "    <tr>\n",
       "      <th>4782</th>\n",
       "      <td>Movie</td>\n",
       "      <td>Luciano Mellera: Infantiloide</td>\n",
       "      <td>Raúl Campos, Jan Suter</td>\n",
       "      <td>Argentina</td>\n",
       "      <td>2018-07-06</td>\n",
       "      <td>2018</td>\n",
       "      <td>TV-14</td>\n",
       "      <td>66 min</td>\n",
       "      <td>Stand-Up Comedy</td>\n",
       "    </tr>\n",
       "    <tr>\n",
       "      <th>4809</th>\n",
       "      <td>Movie</td>\n",
       "      <td>Jani Dueñas: Grandes fracasos de ayer y hoy</td>\n",
       "      <td>Raúl Campos, Jan Suter</td>\n",
       "      <td>Chile</td>\n",
       "      <td>2018-06-29</td>\n",
       "      <td>2018</td>\n",
       "      <td>TV-MA</td>\n",
       "      <td>77 min</td>\n",
       "      <td>Stand-Up Comedy</td>\n",
       "    </tr>\n",
       "  </tbody>\n",
       "</table>\n",
       "</div>"
      ],
      "text/plain": [
       "          type                                        title  \\\n",
       "show_id                                                       \n",
       "5002     Movie            Malena Pichot: Estupidez compleja   \n",
       "4750     Movie          Coco y Raulito: Carrusel de ternura   \n",
       "4782     Movie                Luciano Mellera: Infantiloide   \n",
       "4809     Movie  Jani Dueñas: Grandes fracasos de ayer y hoy   \n",
       "\n",
       "                       director    country date_added  release_year rating  \\\n",
       "show_id                                                                      \n",
       "5002     Raúl Campos, Jan Suter  Argentina 2018-03-02          2018  TV-MA   \n",
       "4750     Raúl Campos, Jan Suter     Mexico 2018-07-27          2018  TV-MA   \n",
       "4782     Raúl Campos, Jan Suter  Argentina 2018-07-06          2018  TV-14   \n",
       "4809     Raúl Campos, Jan Suter      Chile 2018-06-29          2018  TV-MA   \n",
       "\n",
       "        duration        listed_in  \n",
       "show_id                            \n",
       "5002      51 min  Stand-Up Comedy  \n",
       "4750      57 min  Stand-Up Comedy  \n",
       "4782      66 min  Stand-Up Comedy  \n",
       "4809      77 min  Stand-Up Comedy  "
      ]
     },
     "execution_count": 291,
     "metadata": {},
     "output_type": "execute_result"
    }
   ],
   "source": [
    "df[df['director'] == 'Raúl Campos, Jan Suter'].head(4)"
   ]
  },
  {
   "cell_type": "code",
   "execution_count": 303,
   "id": "e8ee5f37",
   "metadata": {},
   "outputs": [
    {
     "data": {
      "text/html": [
       "<div>\n",
       "<style scoped>\n",
       "    .dataframe tbody tr th:only-of-type {\n",
       "        vertical-align: middle;\n",
       "    }\n",
       "\n",
       "    .dataframe tbody tr th {\n",
       "        vertical-align: top;\n",
       "    }\n",
       "\n",
       "    .dataframe thead th {\n",
       "        text-align: right;\n",
       "    }\n",
       "</style>\n",
       "<table border=\"1\" class=\"dataframe\">\n",
       "  <thead>\n",
       "    <tr style=\"text-align: right;\">\n",
       "      <th></th>\n",
       "      <th>type</th>\n",
       "      <th>title</th>\n",
       "      <th>director</th>\n",
       "      <th>country</th>\n",
       "      <th>date_added</th>\n",
       "      <th>release_year</th>\n",
       "      <th>rating</th>\n",
       "      <th>duration</th>\n",
       "      <th>listed_in</th>\n",
       "    </tr>\n",
       "    <tr>\n",
       "      <th>show_id</th>\n",
       "      <th></th>\n",
       "      <th></th>\n",
       "      <th></th>\n",
       "      <th></th>\n",
       "      <th></th>\n",
       "      <th></th>\n",
       "      <th></th>\n",
       "      <th></th>\n",
       "      <th></th>\n",
       "    </tr>\n",
       "  </thead>\n",
       "  <tbody>\n",
       "    <tr>\n",
       "      <th>6811</th>\n",
       "      <td>TV Show</td>\n",
       "      <td>Frozen Planet</td>\n",
       "      <td>Alastair Fothergill</td>\n",
       "      <td>United Kingdom</td>\n",
       "      <td>2016-01-28</td>\n",
       "      <td>2011</td>\n",
       "      <td>TV-PG</td>\n",
       "      <td>1 Season</td>\n",
       "      <td>British TV Shows, Docuseries, International TV...</td>\n",
       "    </tr>\n",
       "    <tr>\n",
       "      <th>7749</th>\n",
       "      <td>TV Show</td>\n",
       "      <td>Planet Earth: The Complete Collection</td>\n",
       "      <td>Alastair Fothergill</td>\n",
       "      <td>United Kingdom</td>\n",
       "      <td>2015-04-22</td>\n",
       "      <td>2006</td>\n",
       "      <td>TV-PG</td>\n",
       "      <td>1 Season</td>\n",
       "      <td>British TV Shows, Docuseries, International TV...</td>\n",
       "    </tr>\n",
       "    <tr>\n",
       "      <th>8215</th>\n",
       "      <td>TV Show</td>\n",
       "      <td>The Blue Planet: A Natural History of the Oceans</td>\n",
       "      <td>Alastair Fothergill</td>\n",
       "      <td>United Kingdom</td>\n",
       "      <td>2015-10-10</td>\n",
       "      <td>2001</td>\n",
       "      <td>TV-G</td>\n",
       "      <td>1 Season</td>\n",
       "      <td>British TV Shows, Docuseries, International TV...</td>\n",
       "    </tr>\n",
       "  </tbody>\n",
       "</table>\n",
       "</div>"
      ],
      "text/plain": [
       "            type                                             title  \\\n",
       "show_id                                                              \n",
       "6811     TV Show                                     Frozen Planet   \n",
       "7749     TV Show             Planet Earth: The Complete Collection   \n",
       "8215     TV Show  The Blue Planet: A Natural History of the Oceans   \n",
       "\n",
       "                    director         country date_added  release_year rating  \\\n",
       "show_id                                                                        \n",
       "6811     Alastair Fothergill  United Kingdom 2016-01-28          2011  TV-PG   \n",
       "7749     Alastair Fothergill  United Kingdom 2015-04-22          2006  TV-PG   \n",
       "8215     Alastair Fothergill  United Kingdom 2015-10-10          2001   TV-G   \n",
       "\n",
       "         duration                                          listed_in  \n",
       "show_id                                                               \n",
       "6811     1 Season  British TV Shows, Docuseries, International TV...  \n",
       "7749     1 Season  British TV Shows, Docuseries, International TV...  \n",
       "8215     1 Season  British TV Shows, Docuseries, International TV...  "
      ]
     },
     "execution_count": 303,
     "metadata": {},
     "output_type": "execute_result"
    }
   ],
   "source": [
    "df[df['director'] == 'Alastair Fothergill'].head(3)"
   ]
  },
  {
   "cell_type": "code",
   "execution_count": 305,
   "id": "36a4aa6f",
   "metadata": {},
   "outputs": [
    {
     "data": {
      "text/html": [
       "<div>\n",
       "<style scoped>\n",
       "    .dataframe tbody tr th:only-of-type {\n",
       "        vertical-align: middle;\n",
       "    }\n",
       "\n",
       "    .dataframe tbody tr th {\n",
       "        vertical-align: top;\n",
       "    }\n",
       "\n",
       "    .dataframe thead th {\n",
       "        text-align: right;\n",
       "    }\n",
       "</style>\n",
       "<table border=\"1\" class=\"dataframe\">\n",
       "  <thead>\n",
       "    <tr style=\"text-align: right;\">\n",
       "      <th></th>\n",
       "      <th>type</th>\n",
       "      <th>title</th>\n",
       "      <th>director</th>\n",
       "      <th>country</th>\n",
       "      <th>date_added</th>\n",
       "      <th>release_year</th>\n",
       "      <th>rating</th>\n",
       "      <th>duration</th>\n",
       "      <th>listed_in</th>\n",
       "    </tr>\n",
       "    <tr>\n",
       "      <th>show_id</th>\n",
       "      <th></th>\n",
       "      <th></th>\n",
       "      <th></th>\n",
       "      <th></th>\n",
       "      <th></th>\n",
       "      <th></th>\n",
       "      <th></th>\n",
       "      <th></th>\n",
       "      <th></th>\n",
       "    </tr>\n",
       "  </thead>\n",
       "  <tbody>\n",
       "    <tr>\n",
       "      <th>913</th>\n",
       "      <td>Movie</td>\n",
       "      <td>The Circle - The Afterparty</td>\n",
       "      <td>Krysia Plonka, Kristian Mercado</td>\n",
       "      <td>United States</td>\n",
       "      <td>2021-05-07</td>\n",
       "      <td>2021</td>\n",
       "      <td>TV-14</td>\n",
       "      <td>35 min</td>\n",
       "      <td>Comedies</td>\n",
       "    </tr>\n",
       "    <tr>\n",
       "      <th>28</th>\n",
       "      <td>Movie</td>\n",
       "      <td>Grown Ups</td>\n",
       "      <td>Dennis Dugan</td>\n",
       "      <td>United States</td>\n",
       "      <td>2021-09-20</td>\n",
       "      <td>2010</td>\n",
       "      <td>PG-13</td>\n",
       "      <td>103 min</td>\n",
       "      <td>Comedies</td>\n",
       "    </tr>\n",
       "    <tr>\n",
       "      <th>1029</th>\n",
       "      <td>Movie</td>\n",
       "      <td>Dad Stop Embarrassing Me - The Afterparty</td>\n",
       "      <td>Unknown</td>\n",
       "      <td>Pakistan</td>\n",
       "      <td>2021-04-16</td>\n",
       "      <td>2021</td>\n",
       "      <td>TV-14</td>\n",
       "      <td>37 min</td>\n",
       "      <td>Comedies</td>\n",
       "    </tr>\n",
       "    <tr>\n",
       "      <th>153</th>\n",
       "      <td>Movie</td>\n",
       "      <td>Janoskians: Untold and Untrue</td>\n",
       "      <td>Brett Weiner</td>\n",
       "      <td>United States</td>\n",
       "      <td>2021-09-01</td>\n",
       "      <td>2016</td>\n",
       "      <td>TV-MA</td>\n",
       "      <td>88 min</td>\n",
       "      <td>Comedies</td>\n",
       "    </tr>\n",
       "    <tr>\n",
       "      <th>183</th>\n",
       "      <td>Movie</td>\n",
       "      <td>Welcome Home Roscoe Jenkins</td>\n",
       "      <td>Malcolm D. Lee</td>\n",
       "      <td>United States</td>\n",
       "      <td>2021-09-01</td>\n",
       "      <td>2008</td>\n",
       "      <td>PG-13</td>\n",
       "      <td>114 min</td>\n",
       "      <td>Comedies</td>\n",
       "    </tr>\n",
       "  </tbody>\n",
       "</table>\n",
       "</div>"
      ],
      "text/plain": [
       "          type                                      title  \\\n",
       "show_id                                                     \n",
       "913      Movie                The Circle - The Afterparty   \n",
       "28       Movie                                  Grown Ups   \n",
       "1029     Movie  Dad Stop Embarrassing Me - The Afterparty   \n",
       "153      Movie              Janoskians: Untold and Untrue   \n",
       "183      Movie                Welcome Home Roscoe Jenkins   \n",
       "\n",
       "                                director        country date_added  \\\n",
       "show_id                                                              \n",
       "913      Krysia Plonka, Kristian Mercado  United States 2021-05-07   \n",
       "28                          Dennis Dugan  United States 2021-09-20   \n",
       "1029                             Unknown       Pakistan 2021-04-16   \n",
       "153                         Brett Weiner  United States 2021-09-01   \n",
       "183                       Malcolm D. Lee  United States 2021-09-01   \n",
       "\n",
       "         release_year rating duration listed_in  \n",
       "show_id                                          \n",
       "913              2021  TV-14   35 min  Comedies  \n",
       "28               2010  PG-13  103 min  Comedies  \n",
       "1029             2021  TV-14   37 min  Comedies  \n",
       "153              2016  TV-MA   88 min  Comedies  \n",
       "183              2008  PG-13  114 min  Comedies  "
      ]
     },
     "execution_count": 305,
     "metadata": {},
     "output_type": "execute_result"
    }
   ],
   "source": [
    "df[df['listed_in'] == 'Comedies'].head()"
   ]
  },
  {
   "cell_type": "markdown",
   "id": "f440a13d",
   "metadata": {},
   "source": [
    "**Data-driven Insights**\n",
    "\n",
    "If we explore the data in the 'listed_in' and 'director' columns, we can observe the following:\n",
    "\n",
    "- The data shows a high prevalence of International Movies focused on Children & Family, as reflected by the most popular genres and directors. The most prevalent International Movies in the dataset were produced in India, followed by Hispanic countries.\n",
    "\n",
    "- Most frequent director, does not equate to the highest prevalence of movies, e.g, Rajiv Chilaka is the most frequent director producing 20 movies in India, however, the highest overall movies were created in the US.   \n",
    "\n",
    "- British Director, Alastair Fothergill, another frequent director has produced British TV Docuseries, however, American TV shows are more prevalent in the dataset. We can therefore assume that the US has a much higher number of directors, hence the highest overall content in the dataset.\n",
    "\n",
    "- The diversity in directors and geographical locations is a good indicator that Netflix is catering towards global audience. "
   ]
  },
  {
   "cell_type": "markdown",
   "id": "26abb417",
   "metadata": {},
   "source": [
    "# Up coming...."
   ]
  },
  {
   "cell_type": "markdown",
   "id": "4140ff92",
   "metadata": {},
   "source": [
    "- Analysis of 'ratings'\n",
    "\n",
    "- Release Year - How recent is the content on Netflix and does this indicate popularity?\n",
    "\n",
    "- Are there any seasonal patterns in the 'date-added' column?\n",
    "\n",
    "- Does the duration of the content correlate with the prevalence / popularity?"
   ]
  },
  {
   "cell_type": "code",
   "execution_count": null,
   "id": "b723116b",
   "metadata": {},
   "outputs": [],
   "source": []
  },
  {
   "cell_type": "code",
   "execution_count": null,
   "id": "547c94e8",
   "metadata": {},
   "outputs": [],
   "source": []
  },
  {
   "cell_type": "code",
   "execution_count": null,
   "id": "3b5c4b7b",
   "metadata": {},
   "outputs": [],
   "source": []
  },
  {
   "cell_type": "code",
   "execution_count": null,
   "id": "7cc665cb",
   "metadata": {},
   "outputs": [],
   "source": [
    "#df['date_added'].dt.strftime('%d/%m/%y')"
   ]
  },
  {
   "cell_type": "code",
   "execution_count": null,
   "id": "6013dc59",
   "metadata": {},
   "outputs": [],
   "source": []
  }
 ],
 "metadata": {
  "kernelspec": {
   "display_name": "Python 3 (ipykernel)",
   "language": "python",
   "name": "python3"
  },
  "language_info": {
   "codemirror_mode": {
    "name": "ipython",
    "version": 3
   },
   "file_extension": ".py",
   "mimetype": "text/x-python",
   "name": "python",
   "nbconvert_exporter": "python",
   "pygments_lexer": "ipython3",
   "version": "3.11.4"
  }
 },
 "nbformat": 4,
 "nbformat_minor": 5
}
